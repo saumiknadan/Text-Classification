{
  "nbformat": 4,
  "nbformat_minor": 0,
  "metadata": {
    "colab": {
      "provenance": []
    },
    "kernelspec": {
      "name": "python3",
      "display_name": "Python 3"
    },
    "language_info": {
      "name": "python"
    }
  },
  "cells": [
    {
      "cell_type": "markdown",
      "source": [
        "## Text Classification with Bag of Words\n",
        "Outline:\n",
        "- Download and explore the data\n",
        "- Apply text preprocessing technology\n",
        "- Implement the bag of words model.\n",
        "- Train ML module for test classification\n",
        "- Make Predictions and submit to Kaggle"
      ],
      "metadata": {
        "id": "0w0uF1AlyahT"
      }
    },
    {
      "cell_type": "markdown",
      "source": [
        "## Download and Explore the Data\n",
        "1. Download the dataset from Kaggle to Colab\n",
        "2. Explore the data using Pandas\n",
        "3. Create a small working sample"
      ],
      "metadata": {
        "id": "FxPJrPLV9Vnh"
      }
    },
    {
      "cell_type": "markdown",
      "source": [
        "# Download the Data"
      ],
      "metadata": {
        "id": "KKL8FI3I-m9w"
      }
    },
    {
      "cell_type": "code",
      "source": [
        "ls"
      ],
      "metadata": {
        "id": "4kygp4FUtcAa",
        "colab": {
          "base_uri": "https://localhost:8080/"
        },
        "outputId": "db8f7347-96c9-402f-8779-862ff862e826"
      },
      "execution_count": null,
      "outputs": [
        {
          "output_type": "stream",
          "name": "stdout",
          "text": [
            "kaggle.json  \u001b[0m\u001b[01;34msample_data\u001b[0m/\n"
          ]
        }
      ]
    },
    {
      "cell_type": "code",
      "source": [
        "import os"
      ],
      "metadata": {
        "id": "KEl807hX_3ej"
      },
      "execution_count": null,
      "outputs": []
    },
    {
      "cell_type": "code",
      "source": [
        "os.environ['KAGGLE_CONFIG_DIR']='.'             ### KAGGLE_CONFIG_DIR must boro hater likhte hbe"
      ],
      "metadata": {
        "id": "m2hqRD19_6dN"
      },
      "execution_count": null,
      "outputs": []
    },
    {
      "cell_type": "code",
      "source": [
        "!kaggle competitions download -c quora-insincere-questions-classification -f train.csv -p data"
      ],
      "metadata": {
        "colab": {
          "base_uri": "https://localhost:8080/"
        },
        "id": "8QAAlsGF-sP0",
        "outputId": "e8eaf045-5ac8-437c-869e-98ddc2c0401c"
      },
      "execution_count": null,
      "outputs": [
        {
          "output_type": "stream",
          "name": "stdout",
          "text": [
            "Warning: Your Kaggle API key is readable by other users on this system! To fix this, you can run 'chmod 600 ./kaggle.json'\n",
            "Downloading train.csv.zip to data\n",
            "100% 54.9M/54.9M [00:03<00:00, 26.6MB/s]\n",
            "100% 54.9M/54.9M [00:03<00:00, 16.9MB/s]\n"
          ]
        }
      ]
    },
    {
      "cell_type": "code",
      "source": [
        "!kaggle competitions download -c quora-insincere-questions-classification -f test.csv -p data\n",
        "!kaggle competitions download -c quora-insincere-questions-classification -f sample_submission.csv -p data"
      ],
      "metadata": {
        "colab": {
          "base_uri": "https://localhost:8080/"
        },
        "id": "B9MLVWog-sDT",
        "outputId": "ff396818-135a-4ca7-d8cb-657fae6cf951"
      },
      "execution_count": null,
      "outputs": [
        {
          "output_type": "stream",
          "name": "stdout",
          "text": [
            "Warning: Your Kaggle API key is readable by other users on this system! To fix this, you can run 'chmod 600 ./kaggle.json'\n",
            "Downloading test.csv.zip to data\n",
            "100% 15.8M/15.8M [00:01<00:00, 22.1MB/s]\n",
            "100% 15.8M/15.8M [00:01<00:00, 12.7MB/s]\n",
            "Warning: Your Kaggle API key is readable by other users on this system! To fix this, you can run 'chmod 600 ./kaggle.json'\n",
            "Downloading sample_submission.csv.zip to data\n",
            " 98% 4.00M/4.09M [00:00<00:00, 6.01MB/s]\n",
            "100% 4.09M/4.09M [00:00<00:00, 4.44MB/s]\n"
          ]
        }
      ]
    },
    {
      "cell_type": "markdown",
      "source": [
        "# Explore the Data using Pandas"
      ],
      "metadata": {
        "id": "KYZ6XLXTLydr"
      }
    },
    {
      "cell_type": "code",
      "source": [
        "train_fname = 'data/train.csv.zip'\n",
        "test_fname = 'data/test.csv.zip'\n",
        "sample_fname = 'data/sample_submission.csv.zip'"
      ],
      "metadata": {
        "id": "9vdTAQAYLxkq"
      },
      "execution_count": null,
      "outputs": []
    },
    {
      "cell_type": "code",
      "source": [
        "import pandas as pd"
      ],
      "metadata": {
        "id": "Cg5eaQbz-rdG"
      },
      "execution_count": null,
      "outputs": []
    },
    {
      "cell_type": "code",
      "source": [
        "raw_df = pd.read_csv(train_fname)\n",
        "raw_df"
      ],
      "metadata": {
        "colab": {
          "base_uri": "https://localhost:8080/",
          "height": 520
        },
        "id": "X3G6WFbMLvxD",
        "outputId": "39f2a1e3-e28c-437f-ca31-9c3432a951cd"
      },
      "execution_count": null,
      "outputs": [
        {
          "output_type": "execute_result",
          "data": {
            "text/plain": [
              "                          qid  \\\n",
              "0        00002165364db923c7e6   \n",
              "1        000032939017120e6e44   \n",
              "2        0000412ca6e4628ce2cf   \n",
              "3        000042bf85aa498cd78e   \n",
              "4        0000455dfa3e01eae3af   \n",
              "...                       ...   \n",
              "1306117  ffffcc4e2331aaf1e41e   \n",
              "1306118  ffffd431801e5a2f4861   \n",
              "1306119  ffffd48fb36b63db010c   \n",
              "1306120  ffffec519fa37cf60c78   \n",
              "1306121  ffffed09fedb5088744a   \n",
              "\n",
              "                                             question_text  target  \n",
              "0        How did Quebec nationalists see their province...       0  \n",
              "1        Do you have an adopted dog, how would you enco...       0  \n",
              "2        Why does velocity affect time? Does velocity a...       0  \n",
              "3        How did Otto von Guericke used the Magdeburg h...       0  \n",
              "4        Can I convert montra helicon D to a mountain b...       0  \n",
              "...                                                    ...     ...  \n",
              "1306117  What other technical skills do you need as a c...       0  \n",
              "1306118  Does MS in ECE have good job prospects in USA ...       0  \n",
              "1306119                          Is foam insulation toxic?       0  \n",
              "1306120  How can one start a research project based on ...       0  \n",
              "1306121  Who wins in a battle between a Wolverine and a...       0  \n",
              "\n",
              "[1306122 rows x 3 columns]"
            ],
            "text/html": [
              "\n",
              "  <div id=\"df-e739874b-b423-4aca-b35e-2fcc9d77c0e7\">\n",
              "    <div class=\"colab-df-container\">\n",
              "      <div>\n",
              "<style scoped>\n",
              "    .dataframe tbody tr th:only-of-type {\n",
              "        vertical-align: middle;\n",
              "    }\n",
              "\n",
              "    .dataframe tbody tr th {\n",
              "        vertical-align: top;\n",
              "    }\n",
              "\n",
              "    .dataframe thead th {\n",
              "        text-align: right;\n",
              "    }\n",
              "</style>\n",
              "<table border=\"1\" class=\"dataframe\">\n",
              "  <thead>\n",
              "    <tr style=\"text-align: right;\">\n",
              "      <th></th>\n",
              "      <th>qid</th>\n",
              "      <th>question_text</th>\n",
              "      <th>target</th>\n",
              "    </tr>\n",
              "  </thead>\n",
              "  <tbody>\n",
              "    <tr>\n",
              "      <th>0</th>\n",
              "      <td>00002165364db923c7e6</td>\n",
              "      <td>How did Quebec nationalists see their province...</td>\n",
              "      <td>0</td>\n",
              "    </tr>\n",
              "    <tr>\n",
              "      <th>1</th>\n",
              "      <td>000032939017120e6e44</td>\n",
              "      <td>Do you have an adopted dog, how would you enco...</td>\n",
              "      <td>0</td>\n",
              "    </tr>\n",
              "    <tr>\n",
              "      <th>2</th>\n",
              "      <td>0000412ca6e4628ce2cf</td>\n",
              "      <td>Why does velocity affect time? Does velocity a...</td>\n",
              "      <td>0</td>\n",
              "    </tr>\n",
              "    <tr>\n",
              "      <th>3</th>\n",
              "      <td>000042bf85aa498cd78e</td>\n",
              "      <td>How did Otto von Guericke used the Magdeburg h...</td>\n",
              "      <td>0</td>\n",
              "    </tr>\n",
              "    <tr>\n",
              "      <th>4</th>\n",
              "      <td>0000455dfa3e01eae3af</td>\n",
              "      <td>Can I convert montra helicon D to a mountain b...</td>\n",
              "      <td>0</td>\n",
              "    </tr>\n",
              "    <tr>\n",
              "      <th>...</th>\n",
              "      <td>...</td>\n",
              "      <td>...</td>\n",
              "      <td>...</td>\n",
              "    </tr>\n",
              "    <tr>\n",
              "      <th>1306117</th>\n",
              "      <td>ffffcc4e2331aaf1e41e</td>\n",
              "      <td>What other technical skills do you need as a c...</td>\n",
              "      <td>0</td>\n",
              "    </tr>\n",
              "    <tr>\n",
              "      <th>1306118</th>\n",
              "      <td>ffffd431801e5a2f4861</td>\n",
              "      <td>Does MS in ECE have good job prospects in USA ...</td>\n",
              "      <td>0</td>\n",
              "    </tr>\n",
              "    <tr>\n",
              "      <th>1306119</th>\n",
              "      <td>ffffd48fb36b63db010c</td>\n",
              "      <td>Is foam insulation toxic?</td>\n",
              "      <td>0</td>\n",
              "    </tr>\n",
              "    <tr>\n",
              "      <th>1306120</th>\n",
              "      <td>ffffec519fa37cf60c78</td>\n",
              "      <td>How can one start a research project based on ...</td>\n",
              "      <td>0</td>\n",
              "    </tr>\n",
              "    <tr>\n",
              "      <th>1306121</th>\n",
              "      <td>ffffed09fedb5088744a</td>\n",
              "      <td>Who wins in a battle between a Wolverine and a...</td>\n",
              "      <td>0</td>\n",
              "    </tr>\n",
              "  </tbody>\n",
              "</table>\n",
              "<p>1306122 rows × 3 columns</p>\n",
              "</div>\n",
              "      <button class=\"colab-df-convert\" onclick=\"convertToInteractive('df-e739874b-b423-4aca-b35e-2fcc9d77c0e7')\"\n",
              "              title=\"Convert this dataframe to an interactive table.\"\n",
              "              style=\"display:none;\">\n",
              "        \n",
              "  <svg xmlns=\"http://www.w3.org/2000/svg\" height=\"24px\"viewBox=\"0 0 24 24\"\n",
              "       width=\"24px\">\n",
              "    <path d=\"M0 0h24v24H0V0z\" fill=\"none\"/>\n",
              "    <path d=\"M18.56 5.44l.94 2.06.94-2.06 2.06-.94-2.06-.94-.94-2.06-.94 2.06-2.06.94zm-11 1L8.5 8.5l.94-2.06 2.06-.94-2.06-.94L8.5 2.5l-.94 2.06-2.06.94zm10 10l.94 2.06.94-2.06 2.06-.94-2.06-.94-.94-2.06-.94 2.06-2.06.94z\"/><path d=\"M17.41 7.96l-1.37-1.37c-.4-.4-.92-.59-1.43-.59-.52 0-1.04.2-1.43.59L10.3 9.45l-7.72 7.72c-.78.78-.78 2.05 0 2.83L4 21.41c.39.39.9.59 1.41.59.51 0 1.02-.2 1.41-.59l7.78-7.78 2.81-2.81c.8-.78.8-2.07 0-2.86zM5.41 20L4 18.59l7.72-7.72 1.47 1.35L5.41 20z\"/>\n",
              "  </svg>\n",
              "      </button>\n",
              "      \n",
              "  <style>\n",
              "    .colab-df-container {\n",
              "      display:flex;\n",
              "      flex-wrap:wrap;\n",
              "      gap: 12px;\n",
              "    }\n",
              "\n",
              "    .colab-df-convert {\n",
              "      background-color: #E8F0FE;\n",
              "      border: none;\n",
              "      border-radius: 50%;\n",
              "      cursor: pointer;\n",
              "      display: none;\n",
              "      fill: #1967D2;\n",
              "      height: 32px;\n",
              "      padding: 0 0 0 0;\n",
              "      width: 32px;\n",
              "    }\n",
              "\n",
              "    .colab-df-convert:hover {\n",
              "      background-color: #E2EBFA;\n",
              "      box-shadow: 0px 1px 2px rgba(60, 64, 67, 0.3), 0px 1px 3px 1px rgba(60, 64, 67, 0.15);\n",
              "      fill: #174EA6;\n",
              "    }\n",
              "\n",
              "    [theme=dark] .colab-df-convert {\n",
              "      background-color: #3B4455;\n",
              "      fill: #D2E3FC;\n",
              "    }\n",
              "\n",
              "    [theme=dark] .colab-df-convert:hover {\n",
              "      background-color: #434B5C;\n",
              "      box-shadow: 0px 1px 3px 1px rgba(0, 0, 0, 0.15);\n",
              "      filter: drop-shadow(0px 1px 2px rgba(0, 0, 0, 0.3));\n",
              "      fill: #FFFFFF;\n",
              "    }\n",
              "  </style>\n",
              "\n",
              "      <script>\n",
              "        const buttonEl =\n",
              "          document.querySelector('#df-e739874b-b423-4aca-b35e-2fcc9d77c0e7 button.colab-df-convert');\n",
              "        buttonEl.style.display =\n",
              "          google.colab.kernel.accessAllowed ? 'block' : 'none';\n",
              "\n",
              "        async function convertToInteractive(key) {\n",
              "          const element = document.querySelector('#df-e739874b-b423-4aca-b35e-2fcc9d77c0e7');\n",
              "          const dataTable =\n",
              "            await google.colab.kernel.invokeFunction('convertToInteractive',\n",
              "                                                     [key], {});\n",
              "          if (!dataTable) return;\n",
              "\n",
              "          const docLinkHtml = 'Like what you see? Visit the ' +\n",
              "            '<a target=\"_blank\" href=https://colab.research.google.com/notebooks/data_table.ipynb>data table notebook</a>'\n",
              "            + ' to learn more about interactive tables.';\n",
              "          element.innerHTML = '';\n",
              "          dataTable['output_type'] = 'display_data';\n",
              "          await google.colab.output.renderOutput(dataTable, element);\n",
              "          const docLink = document.createElement('div');\n",
              "          docLink.innerHTML = docLinkHtml;\n",
              "          element.appendChild(docLink);\n",
              "        }\n",
              "      </script>\n",
              "    </div>\n",
              "  </div>\n",
              "  "
            ]
          },
          "metadata": {},
          "execution_count": 8
        }
      ]
    },
    {
      "cell_type": "code",
      "source": [
        "sincere_df =  raw_df[raw_df.target==0]"
      ],
      "metadata": {
        "id": "xKlBNcFqQ2kX"
      },
      "execution_count": null,
      "outputs": []
    },
    {
      "cell_type": "code",
      "source": [
        "sincere_df.question_text.values[:10]  ## prothom 10 ta question"
      ],
      "metadata": {
        "id": "VVsi5cyfQ2W5",
        "colab": {
          "base_uri": "https://localhost:8080/"
        },
        "outputId": "2f1d8b54-9970-44e1-b059-4f0486b6da53"
      },
      "execution_count": null,
      "outputs": [
        {
          "output_type": "execute_result",
          "data": {
            "text/plain": [
              "array(['How did Quebec nationalists see their province as a nation in the 1960s?',\n",
              "       'Do you have an adopted dog, how would you encourage people to adopt and not shop?',\n",
              "       'Why does velocity affect time? Does velocity affect space geometry?',\n",
              "       'How did Otto von Guericke used the Magdeburg hemispheres?',\n",
              "       'Can I convert montra helicon D to a mountain bike by just changing the tyres?',\n",
              "       'Is Gaza slowly becoming Auschwitz, Dachau or Treblinka for Palestinians?',\n",
              "       'Why does Quora automatically ban conservative opinions when reported, but does not do the same for liberal views?',\n",
              "       'Is it crazy if I wash or wipe my groceries off? Germs are everywhere.',\n",
              "       'Is there such a thing as dressing moderately, and if so, how is that different than dressing modestly?',\n",
              "       'Is it just me or have you ever been in this phase wherein you became ignorant to the people you once loved, completely disregarding their feelings/lives so you get to have something go your way and feel temporarily at ease. How did things change?'],\n",
              "      dtype=object)"
            ]
          },
          "metadata": {},
          "execution_count": 10
        }
      ]
    },
    {
      "cell_type": "code",
      "source": [
        "insincere_df = raw_df[raw_df.target == 1]"
      ],
      "metadata": {
        "id": "R94Ck76PQ2KK"
      },
      "execution_count": null,
      "outputs": []
    },
    {
      "cell_type": "code",
      "source": [
        "insincere_df.question_text.values[:10]"
      ],
      "metadata": {
        "id": "b5ARdpLCRzhW",
        "colab": {
          "base_uri": "https://localhost:8080/"
        },
        "outputId": "8b0ec837-316e-44a9-8cb2-f7861e873eb5"
      },
      "execution_count": null,
      "outputs": [
        {
          "output_type": "execute_result",
          "data": {
            "text/plain": [
              "array(['Has the United States become the largest dictatorship in the world?',\n",
              "       'Which babies are more sweeter to their parents? Dark skin babies or light skin babies?',\n",
              "       \"If blacks support school choice and mandatory sentencing for criminals why don't they vote Republican?\",\n",
              "       'I am gay boy and I love my cousin (boy). He is sexy, but I dont know what to do. He is hot, and I want to see his di**. What should I do?',\n",
              "       'Which races have the smallest penis?',\n",
              "       'Why do females find penises ugly?',\n",
              "       'How do I marry an American woman for a Green Card? How much do they charge?',\n",
              "       \"Why do Europeans say they're the superior race, when in fact it took them over 2,000 years until mid 19th century to surpass China's largest economy?\",\n",
              "       'Did Julius Caesar bring a tyrannosaurus rex on his campaigns to frighten the Celts into submission?',\n",
              "       \"In what manner has Republican backing of 'states rights' been hypocritical and what ways have they actually restricted the ability of states to make their own laws?\"],\n",
              "      dtype=object)"
            ]
          },
          "metadata": {},
          "execution_count": 12
        }
      ]
    },
    {
      "cell_type": "code",
      "source": [
        "raw_df.target.value_counts()   ## target column e koi type er koita value ache"
      ],
      "metadata": {
        "id": "PWXUX_xRRzZp",
        "colab": {
          "base_uri": "https://localhost:8080/"
        },
        "outputId": "5dbcc577-6bd0-45a4-d19b-1845c8374971"
      },
      "execution_count": null,
      "outputs": [
        {
          "output_type": "execute_result",
          "data": {
            "text/plain": [
              "0    1225312\n",
              "1      80810\n",
              "Name: target, dtype: int64"
            ]
          },
          "metadata": {},
          "execution_count": 13
        }
      ]
    },
    {
      "cell_type": "code",
      "source": [
        "raw_df['target'].unique()"
      ],
      "metadata": {
        "id": "otXuT0rrRzQs",
        "colab": {
          "base_uri": "https://localhost:8080/"
        },
        "outputId": "c06feff9-0a3b-47a9-c0c5-29e69c794ed7"
      },
      "execution_count": null,
      "outputs": [
        {
          "output_type": "execute_result",
          "data": {
            "text/plain": [
              "array([0, 1])"
            ]
          },
          "metadata": {},
          "execution_count": 14
        }
      ]
    },
    {
      "cell_type": "code",
      "source": [
        "raw_df.target.value_counts(normalize=True)"
      ],
      "metadata": {
        "id": "wUl6SORKTNXo",
        "colab": {
          "base_uri": "https://localhost:8080/"
        },
        "outputId": "cc9fd8d9-10b7-4eaa-acc7-f028ef2e904a"
      },
      "execution_count": null,
      "outputs": [
        {
          "output_type": "execute_result",
          "data": {
            "text/plain": [
              "0    0.93813\n",
              "1    0.06187\n",
              "Name: target, dtype: float64"
            ]
          },
          "metadata": {},
          "execution_count": 15
        }
      ]
    },
    {
      "cell_type": "code",
      "source": [
        "raw_df.target.value_counts(normalize=True).plot(kind='bar')"
      ],
      "metadata": {
        "id": "3lav4TvnTwn8",
        "colab": {
          "base_uri": "https://localhost:8080/",
          "height": 442
        },
        "outputId": "c646be17-3010-456b-d0f5-904dc1941bb3"
      },
      "execution_count": null,
      "outputs": [
        {
          "output_type": "execute_result",
          "data": {
            "text/plain": [
              "<Axes: >"
            ]
          },
          "metadata": {},
          "execution_count": 16
        },
        {
          "output_type": "display_data",
          "data": {
            "text/plain": [
              "<Figure size 640x480 with 1 Axes>"
            ],
            "image/png": "[encoded data removed]"
          },
          "metadata": {}
        }
      ]
    },
    {
      "cell_type": "code",
      "source": [
        "test_df = pd.read_csv(test_fname)\n",
        "test_df"
      ],
      "metadata": {
        "id": "apKYZbZpT7Ms",
        "colab": {
          "base_uri": "https://localhost:8080/",
          "height": 468
        },
        "outputId": "8835f97e-9196-4431-af20-d9023d912287"
      },
      "execution_count": null,
      "outputs": [
        {
          "output_type": "execute_result",
          "data": {
            "text/plain": [
              "                         qid  \\\n",
              "0       0000163e3ea7c7a74cd7   \n",
              "1       00002bd4fb5d505b9161   \n",
              "2       00007756b4a147d2b0b3   \n",
              "3       000086e4b7e1c7146103   \n",
              "4       0000c4c3fbe8785a3090   \n",
              "...                      ...   \n",
              "375801  ffff7fa746bd6d6197a9   \n",
              "375802  ffffa1be31c43046ab6b   \n",
              "375803  ffffae173b6ca6bfa563   \n",
              "375804  ffffb1f7f1a008620287   \n",
              "375805  fffff85473f4699474b0   \n",
              "\n",
              "                                            question_text  \n",
              "0       Why do so many women become so rude and arroga...  \n",
              "1       When should I apply for RV college of engineer...  \n",
              "2       What is it really like to be a nurse practitio...  \n",
              "3                                  Who are entrepreneurs?  \n",
              "4        Is education really making good people nowadays?  \n",
              "...                                                   ...  \n",
              "375801  How many countries listed in gold import in in...  \n",
              "375802  Is there an alternative to dresses on formal p...  \n",
              "375803  Where I can find best friendship quotes in Tel...  \n",
              "375804        What are the causes of refraction of light?  \n",
              "375805  Climate change is a worrying topic. How much t...  \n",
              "\n",
              "[375806 rows x 2 columns]"
            ],
            "text/html": [
              "\n",
              "  <div id=\"df-1012248c-5816-41a7-827b-9f198dc8b894\">\n",
              "    <div class=\"colab-df-container\">\n",
              "      <div>\n",
              "<style scoped>\n",
              "    .dataframe tbody tr th:only-of-type {\n",
              "        vertical-align: middle;\n",
              "    }\n",
              "\n",
              "    .dataframe tbody tr th {\n",
              "        vertical-align: top;\n",
              "    }\n",
              "\n",
              "    .dataframe thead th {\n",
              "        text-align: right;\n",
              "    }\n",
              "</style>\n",
              "<table border=\"1\" class=\"dataframe\">\n",
              "  <thead>\n",
              "    <tr style=\"text-align: right;\">\n",
              "      <th></th>\n",
              "      <th>qid</th>\n",
              "      <th>question_text</th>\n",
              "    </tr>\n",
              "  </thead>\n",
              "  <tbody>\n",
              "    <tr>\n",
              "      <th>0</th>\n",
              "      <td>0000163e3ea7c7a74cd7</td>\n",
              "      <td>Why do so many women become so rude and arroga...</td>\n",
              "    </tr>\n",
              "    <tr>\n",
              "      <th>1</th>\n",
              "      <td>00002bd4fb5d505b9161</td>\n",
              "      <td>When should I apply for RV college of engineer...</td>\n",
              "    </tr>\n",
              "    <tr>\n",
              "      <th>2</th>\n",
              "      <td>00007756b4a147d2b0b3</td>\n",
              "      <td>What is it really like to be a nurse practitio...</td>\n",
              "    </tr>\n",
              "    <tr>\n",
              "      <th>3</th>\n",
              "      <td>000086e4b7e1c7146103</td>\n",
              "      <td>Who are entrepreneurs?</td>\n",
              "    </tr>\n",
              "    <tr>\n",
              "      <th>4</th>\n",
              "      <td>0000c4c3fbe8785a3090</td>\n",
              "      <td>Is education really making good people nowadays?</td>\n",
              "    </tr>\n",
              "    <tr>\n",
              "      <th>...</th>\n",
              "      <td>...</td>\n",
              "      <td>...</td>\n",
              "    </tr>\n",
              "    <tr>\n",
              "      <th>375801</th>\n",
              "      <td>ffff7fa746bd6d6197a9</td>\n",
              "      <td>How many countries listed in gold import in in...</td>\n",
              "    </tr>\n",
              "    <tr>\n",
              "      <th>375802</th>\n",
              "      <td>ffffa1be31c43046ab6b</td>\n",
              "      <td>Is there an alternative to dresses on formal p...</td>\n",
              "    </tr>\n",
              "    <tr>\n",
              "      <th>375803</th>\n",
              "      <td>ffffae173b6ca6bfa563</td>\n",
              "      <td>Where I can find best friendship quotes in Tel...</td>\n",
              "    </tr>\n",
              "    <tr>\n",
              "      <th>375804</th>\n",
              "      <td>ffffb1f7f1a008620287</td>\n",
              "      <td>What are the causes of refraction of light?</td>\n",
              "    </tr>\n",
              "    <tr>\n",
              "      <th>375805</th>\n",
              "      <td>fffff85473f4699474b0</td>\n",
              "      <td>Climate change is a worrying topic. How much t...</td>\n",
              "    </tr>\n",
              "  </tbody>\n",
              "</table>\n",
              "<p>375806 rows × 2 columns</p>\n",
              "</div>\n",
              "      <button class=\"colab-df-convert\" onclick=\"convertToInteractive('df-1012248c-5816-41a7-827b-9f198dc8b894')\"\n",
              "              title=\"Convert this dataframe to an interactive table.\"\n",
              "              style=\"display:none;\">\n",
              "        \n",
              "  <svg xmlns=\"http://www.w3.org/2000/svg\" height=\"24px\"viewBox=\"0 0 24 24\"\n",
              "       width=\"24px\">\n",
              "    <path d=\"M0 0h24v24H0V0z\" fill=\"none\"/>\n",
              "    <path d=\"M18.56 5.44l.94 2.06.94-2.06 2.06-.94-2.06-.94-.94-2.06-.94 2.06-2.06.94zm-11 1L8.5 8.5l.94-2.06 2.06-.94-2.06-.94L8.5 2.5l-.94 2.06-2.06.94zm10 10l.94 2.06.94-2.06 2.06-.94-2.06-.94-.94-2.06-.94 2.06-2.06.94z\"/><path d=\"M17.41 7.96l-1.37-1.37c-.4-.4-.92-.59-1.43-.59-.52 0-1.04.2-1.43.59L10.3 9.45l-7.72 7.72c-.78.78-.78 2.05 0 2.83L4 21.41c.39.39.9.59 1.41.59.51 0 1.02-.2 1.41-.59l7.78-7.78 2.81-2.81c.8-.78.8-2.07 0-2.86zM5.41 20L4 18.59l7.72-7.72 1.47 1.35L5.41 20z\"/>\n",
              "  </svg>\n",
              "      </button>\n",
              "      \n",
              "  <style>\n",
              "    .colab-df-container {\n",
              "      display:flex;\n",
              "      flex-wrap:wrap;\n",
              "      gap: 12px;\n",
              "    }\n",
              "\n",
              "    .colab-df-convert {\n",
              "      background-color: #E8F0FE;\n",
              "      border: none;\n",
              "      border-radius: 50%;\n",
              "      cursor: pointer;\n",
              "      display: none;\n",
              "      fill: #1967D2;\n",
              "      height: 32px;\n",
              "      padding: 0 0 0 0;\n",
              "      width: 32px;\n",
              "    }\n",
              "\n",
              "    .colab-df-convert:hover {\n",
              "      background-color: #E2EBFA;\n",
              "      box-shadow: 0px 1px 2px rgba(60, 64, 67, 0.3), 0px 1px 3px 1px rgba(60, 64, 67, 0.15);\n",
              "      fill: #174EA6;\n",
              "    }\n",
              "\n",
              "    [theme=dark] .colab-df-convert {\n",
              "      background-color: #3B4455;\n",
              "      fill: #D2E3FC;\n",
              "    }\n",
              "\n",
              "    [theme=dark] .colab-df-convert:hover {\n",
              "      background-color: #434B5C;\n",
              "      box-shadow: 0px 1px 3px 1px rgba(0, 0, 0, 0.15);\n",
              "      filter: drop-shadow(0px 1px 2px rgba(0, 0, 0, 0.3));\n",
              "      fill: #FFFFFF;\n",
              "    }\n",
              "  </style>\n",
              "\n",
              "      <script>\n",
              "        const buttonEl =\n",
              "          document.querySelector('#df-1012248c-5816-41a7-827b-9f198dc8b894 button.colab-df-convert');\n",
              "        buttonEl.style.display =\n",
              "          google.colab.kernel.accessAllowed ? 'block' : 'none';\n",
              "\n",
              "        async function convertToInteractive(key) {\n",
              "          const element = document.querySelector('#df-1012248c-5816-41a7-827b-9f198dc8b894');\n",
              "          const dataTable =\n",
              "            await google.colab.kernel.invokeFunction('convertToInteractive',\n",
              "                                                     [key], {});\n",
              "          if (!dataTable) return;\n",
              "\n",
              "          const docLinkHtml = 'Like what you see? Visit the ' +\n",
              "            '<a target=\"_blank\" href=https://colab.research.google.com/notebooks/data_table.ipynb>data table notebook</a>'\n",
              "            + ' to learn more about interactive tables.';\n",
              "          element.innerHTML = '';\n",
              "          dataTable['output_type'] = 'display_data';\n",
              "          await google.colab.output.renderOutput(dataTable, element);\n",
              "          const docLink = document.createElement('div');\n",
              "          docLink.innerHTML = docLinkHtml;\n",
              "          element.appendChild(docLink);\n",
              "        }\n",
              "      </script>\n",
              "    </div>\n",
              "  </div>\n",
              "  "
            ]
          },
          "metadata": {},
          "execution_count": 17
        }
      ]
    },
    {
      "cell_type": "code",
      "source": [
        "sub_df = pd.read_csv(sample_fname)\n",
        "sub_df"
      ],
      "metadata": {
        "id": "IkuiTsJcT7Ik",
        "colab": {
          "base_uri": "https://localhost:8080/",
          "height": 424
        },
        "outputId": "f47425cf-361c-4dcb-f690-2ac295d13b50"
      },
      "execution_count": null,
      "outputs": [
        {
          "output_type": "execute_result",
          "data": {
            "text/plain": [
              "                         qid  prediction\n",
              "0       0000163e3ea7c7a74cd7           0\n",
              "1       00002bd4fb5d505b9161           0\n",
              "2       00007756b4a147d2b0b3           0\n",
              "3       000086e4b7e1c7146103           0\n",
              "4       0000c4c3fbe8785a3090           0\n",
              "...                      ...         ...\n",
              "375801  ffff7fa746bd6d6197a9           0\n",
              "375802  ffffa1be31c43046ab6b           0\n",
              "375803  ffffae173b6ca6bfa563           0\n",
              "375804  ffffb1f7f1a008620287           0\n",
              "375805  fffff85473f4699474b0           0\n",
              "\n",
              "[375806 rows x 2 columns]"
            ],
            "text/html": [
              "\n",
              "  <div id=\"df-8202d8f0-40ea-445c-a9ca-d1befe104192\">\n",
              "    <div class=\"colab-df-container\">\n",
              "      <div>\n",
              "<style scoped>\n",
              "    .dataframe tbody tr th:only-of-type {\n",
              "        vertical-align: middle;\n",
              "    }\n",
              "\n",
              "    .dataframe tbody tr th {\n",
              "        vertical-align: top;\n",
              "    }\n",
              "\n",
              "    .dataframe thead th {\n",
              "        text-align: right;\n",
              "    }\n",
              "</style>\n",
              "<table border=\"1\" class=\"dataframe\">\n",
              "  <thead>\n",
              "    <tr style=\"text-align: right;\">\n",
              "      <th></th>\n",
              "      <th>qid</th>\n",
              "      <th>prediction</th>\n",
              "    </tr>\n",
              "  </thead>\n",
              "  <tbody>\n",
              "    <tr>\n",
              "      <th>0</th>\n",
              "      <td>0000163e3ea7c7a74cd7</td>\n",
              "      <td>0</td>\n",
              "    </tr>\n",
              "    <tr>\n",
              "      <th>1</th>\n",
              "      <td>00002bd4fb5d505b9161</td>\n",
              "      <td>0</td>\n",
              "    </tr>\n",
              "    <tr>\n",
              "      <th>2</th>\n",
              "      <td>00007756b4a147d2b0b3</td>\n",
              "      <td>0</td>\n",
              "    </tr>\n",
              "    <tr>\n",
              "      <th>3</th>\n",
              "      <td>000086e4b7e1c7146103</td>\n",
              "      <td>0</td>\n",
              "    </tr>\n",
              "    <tr>\n",
              "      <th>4</th>\n",
              "      <td>0000c4c3fbe8785a3090</td>\n",
              "      <td>0</td>\n",
              "    </tr>\n",
              "    <tr>\n",
              "      <th>...</th>\n",
              "      <td>...</td>\n",
              "      <td>...</td>\n",
              "    </tr>\n",
              "    <tr>\n",
              "      <th>375801</th>\n",
              "      <td>ffff7fa746bd6d6197a9</td>\n",
              "      <td>0</td>\n",
              "    </tr>\n",
              "    <tr>\n",
              "      <th>375802</th>\n",
              "      <td>ffffa1be31c43046ab6b</td>\n",
              "      <td>0</td>\n",
              "    </tr>\n",
              "    <tr>\n",
              "      <th>375803</th>\n",
              "      <td>ffffae173b6ca6bfa563</td>\n",
              "      <td>0</td>\n",
              "    </tr>\n",
              "    <tr>\n",
              "      <th>375804</th>\n",
              "      <td>ffffb1f7f1a008620287</td>\n",
              "      <td>0</td>\n",
              "    </tr>\n",
              "    <tr>\n",
              "      <th>375805</th>\n",
              "      <td>fffff85473f4699474b0</td>\n",
              "      <td>0</td>\n",
              "    </tr>\n",
              "  </tbody>\n",
              "</table>\n",
              "<p>375806 rows × 2 columns</p>\n",
              "</div>\n",
              "      <button class=\"colab-df-convert\" onclick=\"convertToInteractive('df-8202d8f0-40ea-445c-a9ca-d1befe104192')\"\n",
              "              title=\"Convert this dataframe to an interactive table.\"\n",
              "              style=\"display:none;\">\n",
              "        \n",
              "  <svg xmlns=\"http://www.w3.org/2000/svg\" height=\"24px\"viewBox=\"0 0 24 24\"\n",
              "       width=\"24px\">\n",
              "    <path d=\"M0 0h24v24H0V0z\" fill=\"none\"/>\n",
              "    <path d=\"M18.56 5.44l.94 2.06.94-2.06 2.06-.94-2.06-.94-.94-2.06-.94 2.06-2.06.94zm-11 1L8.5 8.5l.94-2.06 2.06-.94-2.06-.94L8.5 2.5l-.94 2.06-2.06.94zm10 10l.94 2.06.94-2.06 2.06-.94-2.06-.94-.94-2.06-.94 2.06-2.06.94z\"/><path d=\"M17.41 7.96l-1.37-1.37c-.4-.4-.92-.59-1.43-.59-.52 0-1.04.2-1.43.59L10.3 9.45l-7.72 7.72c-.78.78-.78 2.05 0 2.83L4 21.41c.39.39.9.59 1.41.59.51 0 1.02-.2 1.41-.59l7.78-7.78 2.81-2.81c.8-.78.8-2.07 0-2.86zM5.41 20L4 18.59l7.72-7.72 1.47 1.35L5.41 20z\"/>\n",
              "  </svg>\n",
              "      </button>\n",
              "      \n",
              "  <style>\n",
              "    .colab-df-container {\n",
              "      display:flex;\n",
              "      flex-wrap:wrap;\n",
              "      gap: 12px;\n",
              "    }\n",
              "\n",
              "    .colab-df-convert {\n",
              "      background-color: #E8F0FE;\n",
              "      border: none;\n",
              "      border-radius: 50%;\n",
              "      cursor: pointer;\n",
              "      display: none;\n",
              "      fill: #1967D2;\n",
              "      height: 32px;\n",
              "      padding: 0 0 0 0;\n",
              "      width: 32px;\n",
              "    }\n",
              "\n",
              "    .colab-df-convert:hover {\n",
              "      background-color: #E2EBFA;\n",
              "      box-shadow: 0px 1px 2px rgba(60, 64, 67, 0.3), 0px 1px 3px 1px rgba(60, 64, 67, 0.15);\n",
              "      fill: #174EA6;\n",
              "    }\n",
              "\n",
              "    [theme=dark] .colab-df-convert {\n",
              "      background-color: #3B4455;\n",
              "      fill: #D2E3FC;\n",
              "    }\n",
              "\n",
              "    [theme=dark] .colab-df-convert:hover {\n",
              "      background-color: #434B5C;\n",
              "      box-shadow: 0px 1px 3px 1px rgba(0, 0, 0, 0.15);\n",
              "      filter: drop-shadow(0px 1px 2px rgba(0, 0, 0, 0.3));\n",
              "      fill: #FFFFFF;\n",
              "    }\n",
              "  </style>\n",
              "\n",
              "      <script>\n",
              "        const buttonEl =\n",
              "          document.querySelector('#df-8202d8f0-40ea-445c-a9ca-d1befe104192 button.colab-df-convert');\n",
              "        buttonEl.style.display =\n",
              "          google.colab.kernel.accessAllowed ? 'block' : 'none';\n",
              "\n",
              "        async function convertToInteractive(key) {\n",
              "          const element = document.querySelector('#df-8202d8f0-40ea-445c-a9ca-d1befe104192');\n",
              "          const dataTable =\n",
              "            await google.colab.kernel.invokeFunction('convertToInteractive',\n",
              "                                                     [key], {});\n",
              "          if (!dataTable) return;\n",
              "\n",
              "          const docLinkHtml = 'Like what you see? Visit the ' +\n",
              "            '<a target=\"_blank\" href=https://colab.research.google.com/notebooks/data_table.ipynb>data table notebook</a>'\n",
              "            + ' to learn more about interactive tables.';\n",
              "          element.innerHTML = '';\n",
              "          dataTable['output_type'] = 'display_data';\n",
              "          await google.colab.output.renderOutput(dataTable, element);\n",
              "          const docLink = document.createElement('div');\n",
              "          docLink.innerHTML = docLinkHtml;\n",
              "          element.appendChild(docLink);\n",
              "        }\n",
              "      </script>\n",
              "    </div>\n",
              "  </div>\n",
              "  "
            ]
          },
          "metadata": {},
          "execution_count": 18
        }
      ]
    },
    {
      "cell_type": "code",
      "source": [
        "sub_df.prediction.value_counts()"
      ],
      "metadata": {
        "id": "JncW6BkxT7D1",
        "colab": {
          "base_uri": "https://localhost:8080/"
        },
        "outputId": "e0e6d267-31bb-42c8-d3f0-438df7028c59"
      },
      "execution_count": null,
      "outputs": [
        {
          "output_type": "execute_result",
          "data": {
            "text/plain": [
              "0    375806\n",
              "Name: prediction, dtype: int64"
            ]
          },
          "metadata": {},
          "execution_count": 19
        }
      ]
    },
    {
      "cell_type": "markdown",
      "source": [
        "# Create a Working Sample"
      ],
      "metadata": {
        "id": "7xgSmIoqVfJQ"
      }
    },
    {
      "cell_type": "code",
      "source": [
        "SAMPLE_SIZE = 100_000"
      ],
      "metadata": {
        "id": "KP8RkhCLT7AO"
      },
      "execution_count": null,
      "outputs": []
    },
    {
      "cell_type": "code",
      "source": [
        "from pandas.core.common import random_state\n",
        "sample_df = raw_df.sample(SAMPLE_SIZE, random_state = 42)\n",
        "sample_df"
      ],
      "metadata": {
        "id": "kU3Y19KPT63C",
        "colab": {
          "base_uri": "https://localhost:8080/",
          "height": 485
        },
        "outputId": "29542095-cbcb-432b-c1e7-b635b46d8bc6"
      },
      "execution_count": null,
      "outputs": [
        {
          "output_type": "execute_result",
          "data": {
            "text/plain": [
              "                          qid  \\\n",
              "443046   56d324bb1e2c29f43b12   \n",
              "947549   b9ad893dc78c577f8a63   \n",
              "523769   6689ebaeeb65b209a412   \n",
              "949821   ba1e2c4a0fef09671516   \n",
              "1030397  c9ea2b69bf0d74626f46   \n",
              "...                       ...   \n",
              "998930   c3c03a307a29c69971b4   \n",
              "66641    0d119aba95ee6684f506   \n",
              "90024    11a46cd148a104b271cf   \n",
              "130113   1973e6e2111a0c93193a   \n",
              "1137     0037ed037520d82393c0   \n",
              "\n",
              "                                             question_text  target  \n",
              "443046   What is the most effective classroom managemen...       0  \n",
              "947549   Can I study abroad after 10th class from Bangl...       0  \n",
              "523769         How can I make friends as a college junior?       0  \n",
              "949821   How do I download free APK Minecraft: Pocket E...       0  \n",
              "1030397  Like Kuvera, is \"Groww\" also a free online inv...       0  \n",
              "...                                                    ...     ...  \n",
              "998930   How do I research list of reliable charcoal im...       0  \n",
              "66641    What are petroleum products, and what is petro...       0  \n",
              "90024    What are some services that will let you quick...       0  \n",
              "130113   What credit card processors do online marketpl...       0  \n",
              "1137          On which number system does a computer work?       0  \n",
              "\n",
              "[100000 rows x 3 columns]"
            ],
            "text/html": [
              "\n",
              "  <div id=\"df-66975322-9bf8-4525-9ced-eeaebfc3b0b6\">\n",
              "    <div class=\"colab-df-container\">\n",
              "      <div>\n",
              "<style scoped>\n",
              "    .dataframe tbody tr th:only-of-type {\n",
              "        vertical-align: middle;\n",
              "    }\n",
              "\n",
              "    .dataframe tbody tr th {\n",
              "        vertical-align: top;\n",
              "    }\n",
              "\n",
              "    .dataframe thead th {\n",
              "        text-align: right;\n",
              "    }\n",
              "</style>\n",
              "<table border=\"1\" class=\"dataframe\">\n",
              "  <thead>\n",
              "    <tr style=\"text-align: right;\">\n",
              "      <th></th>\n",
              "      <th>qid</th>\n",
              "      <th>question_text</th>\n",
              "      <th>target</th>\n",
              "    </tr>\n",
              "  </thead>\n",
              "  <tbody>\n",
              "    <tr>\n",
              "      <th>443046</th>\n",
              "      <td>56d324bb1e2c29f43b12</td>\n",
              "      <td>What is the most effective classroom managemen...</td>\n",
              "      <td>0</td>\n",
              "    </tr>\n",
              "    <tr>\n",
              "      <th>947549</th>\n",
              "      <td>b9ad893dc78c577f8a63</td>\n",
              "      <td>Can I study abroad after 10th class from Bangl...</td>\n",
              "      <td>0</td>\n",
              "    </tr>\n",
              "    <tr>\n",
              "      <th>523769</th>\n",
              "      <td>6689ebaeeb65b209a412</td>\n",
              "      <td>How can I make friends as a college junior?</td>\n",
              "      <td>0</td>\n",
              "    </tr>\n",
              "    <tr>\n",
              "      <th>949821</th>\n",
              "      <td>ba1e2c4a0fef09671516</td>\n",
              "      <td>How do I download free APK Minecraft: Pocket E...</td>\n",
              "      <td>0</td>\n",
              "    </tr>\n",
              "    <tr>\n",
              "      <th>1030397</th>\n",
              "      <td>c9ea2b69bf0d74626f46</td>\n",
              "      <td>Like Kuvera, is \"Groww\" also a free online inv...</td>\n",
              "      <td>0</td>\n",
              "    </tr>\n",
              "    <tr>\n",
              "      <th>...</th>\n",
              "      <td>...</td>\n",
              "      <td>...</td>\n",
              "      <td>...</td>\n",
              "    </tr>\n",
              "    <tr>\n",
              "      <th>998930</th>\n",
              "      <td>c3c03a307a29c69971b4</td>\n",
              "      <td>How do I research list of reliable charcoal im...</td>\n",
              "      <td>0</td>\n",
              "    </tr>\n",
              "    <tr>\n",
              "      <th>66641</th>\n",
              "      <td>0d119aba95ee6684f506</td>\n",
              "      <td>What are petroleum products, and what is petro...</td>\n",
              "      <td>0</td>\n",
              "    </tr>\n",
              "    <tr>\n",
              "      <th>90024</th>\n",
              "      <td>11a46cd148a104b271cf</td>\n",
              "      <td>What are some services that will let you quick...</td>\n",
              "      <td>0</td>\n",
              "    </tr>\n",
              "    <tr>\n",
              "      <th>130113</th>\n",
              "      <td>1973e6e2111a0c93193a</td>\n",
              "      <td>What credit card processors do online marketpl...</td>\n",
              "      <td>0</td>\n",
              "    </tr>\n",
              "    <tr>\n",
              "      <th>1137</th>\n",
              "      <td>0037ed037520d82393c0</td>\n",
              "      <td>On which number system does a computer work?</td>\n",
              "      <td>0</td>\n",
              "    </tr>\n",
              "  </tbody>\n",
              "</table>\n",
              "<p>100000 rows × 3 columns</p>\n",
              "</div>\n",
              "      <button class=\"colab-df-convert\" onclick=\"convertToInteractive('df-66975322-9bf8-4525-9ced-eeaebfc3b0b6')\"\n",
              "              title=\"Convert this dataframe to an interactive table.\"\n",
              "              style=\"display:none;\">\n",
              "        \n",
              "  <svg xmlns=\"http://www.w3.org/2000/svg\" height=\"24px\"viewBox=\"0 0 24 24\"\n",
              "       width=\"24px\">\n",
              "    <path d=\"M0 0h24v24H0V0z\" fill=\"none\"/>\n",
              "    <path d=\"M18.56 5.44l.94 2.06.94-2.06 2.06-.94-2.06-.94-.94-2.06-.94 2.06-2.06.94zm-11 1L8.5 8.5l.94-2.06 2.06-.94-2.06-.94L8.5 2.5l-.94 2.06-2.06.94zm10 10l.94 2.06.94-2.06 2.06-.94-2.06-.94-.94-2.06-.94 2.06-2.06.94z\"/><path d=\"M17.41 7.96l-1.37-1.37c-.4-.4-.92-.59-1.43-.59-.52 0-1.04.2-1.43.59L10.3 9.45l-7.72 7.72c-.78.78-.78 2.05 0 2.83L4 21.41c.39.39.9.59 1.41.59.51 0 1.02-.2 1.41-.59l7.78-7.78 2.81-2.81c.8-.78.8-2.07 0-2.86zM5.41 20L4 18.59l7.72-7.72 1.47 1.35L5.41 20z\"/>\n",
              "  </svg>\n",
              "      </button>\n",
              "      \n",
              "  <style>\n",
              "    .colab-df-container {\n",
              "      display:flex;\n",
              "      flex-wrap:wrap;\n",
              "      gap: 12px;\n",
              "    }\n",
              "\n",
              "    .colab-df-convert {\n",
              "      background-color: #E8F0FE;\n",
              "      border: none;\n",
              "      border-radius: 50%;\n",
              "      cursor: pointer;\n",
              "      display: none;\n",
              "      fill: #1967D2;\n",
              "      height: 32px;\n",
              "      padding: 0 0 0 0;\n",
              "      width: 32px;\n",
              "    }\n",
              "\n",
              "    .colab-df-convert:hover {\n",
              "      background-color: #E2EBFA;\n",
              "      box-shadow: 0px 1px 2px rgba(60, 64, 67, 0.3), 0px 1px 3px 1px rgba(60, 64, 67, 0.15);\n",
              "      fill: #174EA6;\n",
              "    }\n",
              "\n",
              "    [theme=dark] .colab-df-convert {\n",
              "      background-color: #3B4455;\n",
              "      fill: #D2E3FC;\n",
              "    }\n",
              "\n",
              "    [theme=dark] .colab-df-convert:hover {\n",
              "      background-color: #434B5C;\n",
              "      box-shadow: 0px 1px 3px 1px rgba(0, 0, 0, 0.15);\n",
              "      filter: drop-shadow(0px 1px 2px rgba(0, 0, 0, 0.3));\n",
              "      fill: #FFFFFF;\n",
              "    }\n",
              "  </style>\n",
              "\n",
              "      <script>\n",
              "        const buttonEl =\n",
              "          document.querySelector('#df-66975322-9bf8-4525-9ced-eeaebfc3b0b6 button.colab-df-convert');\n",
              "        buttonEl.style.display =\n",
              "          google.colab.kernel.accessAllowed ? 'block' : 'none';\n",
              "\n",
              "        async function convertToInteractive(key) {\n",
              "          const element = document.querySelector('#df-66975322-9bf8-4525-9ced-eeaebfc3b0b6');\n",
              "          const dataTable =\n",
              "            await google.colab.kernel.invokeFunction('convertToInteractive',\n",
              "                                                     [key], {});\n",
              "          if (!dataTable) return;\n",
              "\n",
              "          const docLinkHtml = 'Like what you see? Visit the ' +\n",
              "            '<a target=\"_blank\" href=https://colab.research.google.com/notebooks/data_table.ipynb>data table notebook</a>'\n",
              "            + ' to learn more about interactive tables.';\n",
              "          element.innerHTML = '';\n",
              "          dataTable['output_type'] = 'display_data';\n",
              "          await google.colab.output.renderOutput(dataTable, element);\n",
              "          const docLink = document.createElement('div');\n",
              "          docLink.innerHTML = docLinkHtml;\n",
              "          element.appendChild(docLink);\n",
              "        }\n",
              "      </script>\n",
              "    </div>\n",
              "  </div>\n",
              "  "
            ]
          },
          "metadata": {},
          "execution_count": 21
        }
      ]
    },
    {
      "cell_type": "code",
      "source": [
        "sample_df.target.value_counts(normalize=False)"
      ],
      "metadata": {
        "id": "JhIe3RjDT6Oh",
        "colab": {
          "base_uri": "https://localhost:8080/"
        },
        "outputId": "20e829e7-c121-49ae-fa4e-4a982829e6bc"
      },
      "execution_count": null,
      "outputs": [
        {
          "output_type": "execute_result",
          "data": {
            "text/plain": [
              "0    93962\n",
              "1     6038\n",
              "Name: target, dtype: int64"
            ]
          },
          "metadata": {},
          "execution_count": 22
        }
      ]
    },
    {
      "cell_type": "markdown",
      "source": [
        "# Text Preprocessing Techniques\n",
        "1. Understand the Bag of words model\n",
        "2. Tokenization\n",
        "3. Stop word removal\n",
        "4. Stemming"
      ],
      "metadata": {
        "id": "xTEHP3j99Xkk"
      }
    },
    {
      "cell_type": "markdown",
      "source": [
        "# Bag of Word\n",
        "1. Create a list of all the word accrose all the text doc\n",
        "2. Convert each document into vector counts of each word\n",
        "![image.png](data:image/png;base64,iVBORw0KGgoAAAANSUhEUgAAAnoAAADDCAYAAAAV8LyYAAAAAXNSR0IArs4c6QAAAARnQU1BAACxjwv8YQUAAAAJcEhZcwAADsMAAA7DAcdvqGQAAIq2SURBVHhe7b1nmFvHled9ELrRmTmJFMUgBkkUJSrnnCUrWLItj6Oc7Qme3Z3Z3ZndfewP+2mf95lndu3xjG1ZVrByDqQkUqIoSgyiSDGLOefcuRv5rV8B1X0bBBposkl2A+dP3gZwb926VeeeOvWvU8l37bXXJsWDZLLLT/H5fOlvKZzsdeANc7LXQW+nsb9dB94wJ3sd9HYaT/V14A1zstdBd2k41fGDnl4HvZnGU30dZIY52eugN9N4qq+DzDCn+jroSRpP9XXgDZN5DfTkOugufnC6r4OexJHv/pONH/S168Ab5mSvg95O46m+DrxhTvY6IIxv5cqVXc8qFAqFQqFQKIoCvng8rkRPoVAoFAqFogjhT38qFAqFQqFQKIoMSvQUCoVCoVAoihS+RCKhXbcKheI4ZA7q7QmyDRJWKBQKxemHJXrxeFxisZg1zidj3IsNmZWVyubUwclWCULvA9nmk2s23S70XXjvdff01bJzInJQKE4V0Mds5Uf1UHEyKCsrE7+/s8PWEr0jR44IR3l5uSpYGrkqhGKWD3lzhD8YDKbPnjjyVapeZDN2fQmmnAgNIuBkQ5pPdVoLid/Jzhs2U0/dtVxyzgzfE3AvsiG+3tCbM42eyCLf+yEuV6YCgUD6bP9Evrz2FMgmGo3aCgnZEP/J6GF/QSFyRA6RSMTKpVC9yRWvk+mpuO59Xyd7Hbgwuc4DriEbbI2XzChSoEyNHj1aqqur02eM/Jh1u2XLFtm/f78MHz48fVqRTSlBpgIWE6iQ6uvrbeEZPHhw+mwnkElP819I4c5ELtmfSWBYGhsbrWwGDRqUPnvq0Z0sssnRhc+8luvd5QrfE2BYkA0V0sCBA9Nns+NMv9uTyWc25MsPsqFM0Yiuq6tLn82O3k7biSJXnnr73WFvDh8+LFVVVVJbW5s+W/zIlCPvPfMcDacDBw5YnUE+hcg+WxivTvX168CFyXUe0Ojes2ePtcOVlZVK9jxAbshm+vTpMnTo0PRZIz+I3tatW61BmjJlig2Y7YUoih/hcNgqCQVn/PjxBRfCYkRmGWhtbZV9+/bZVuTZZ5/dL8rI6XpfbW1tVjZ0F4wZM8aeKzUbkiu/yIYyRWU9cuTIkpNLd6DxRN1DhT1s2LAO2aiMUiR4/fr1VmeQTyFePa/cspX5fNeBC3Mmr2e75r0PErxq1SoZO3asbVhSX7nrpQ5I8BdffCETJkyQIUOGpM8a+dF1i0cP4UH0FKULiN7u3bs7iJ6iE47M9Ceid7rgZIPXii4DlU0n2tvbbZmiG0WJXldgb6h7qJAc0VP5pIDjZcOGDTJixAjbu1Jo920pABIM0TvnnHMsCVaPXicgekuXLpWJEyd2IXoqIUUXqKHNDZWN4kSRy4NRynDEzpUrLV+KnkD1pXAo0VMoFL0CJTPdQ+WTG1ppK04EqjeFoYPoYYTUECkUip5CbUduqGy6h1bUihOBK1NatgqDevQUCoVCoVAoihRK9BQKxUkBr4x6ZhQKxemC2pueQYmeQqFQKBQKRZGig+gpQ1acLJjazXpz7LLC8gCnAjyD6fV9DQwVaQuLHK03n+3pkx6YZEtLq8gxcz1SoGjCEZH6htR9fXkkSiHjZFiC5dixY/bzTAC9YVHnhoaGPqc/XtnomKPjwdJfvD9k09zcbGXFGnyK0weWwmFxa5YLUh3tf1CPnqLXgPFdvXq1vPbaa3Lw4MH02d4DRmb79u127S2Mf19CLJGUzdsTMvPDiPmMZRCzpCFtSVmzLiKzP2qV/XlFk5SEMaa79yVlzscxWbM+LklDFPsrqKQ3bdok77zzjqxbt87+Pt1oaWmRBQsWyNy5c+1OFWcC2RrTTjazZ8+2en0mZNOXAfll4eC9e/faxuPy5ctl1qxZ9rcSjtOHnTt3yosvvtgnba8iP5ToKU4IGFkqJQ5ncGn1rVy5Ul566SW7pR7ncxljdy3XdS9cOOJ85ZVX5L333jtlHsMTBbZv8/aozPygUTZvNa1eU19TZ7vsxWJJQ37bZfOWRmlshsqlD/PHGw7Ye+M+2b0nLrPntcnadeF+TfR4dxs3bpS33npL1q5dayuKXO/enc92DXDeq3OZyLzX/cYT9PHHH8ucOXPk6NGj6aunHm78Ync9JnhKIDN8urS7dLvfxY5c+YRgPPXUU7JkyRJL+pYtWyZvv/22XYTaefqygfi605NiwInkjXty3ZftmjtHA/vZZ5+VzZs398kelUzkyqMXLm+FhO3vCPzqV7/6Na5wMstKytqFW7rAcDY1NVkdyLWfK8aTMBjgbdu2WfJFd20oFLI6hEdvxYoVdq89vCjOs+f2JMRI0LXLvbt27bJdaew2wf0QRfZ3xKCzkwDx8SzOcR+VId5Cwk2bNs3uA3m6VkXn+ZAFnjdgwIDjyknc2L5NWxPyxeqkjBwRkvIyn+w9GJNIzCehCjZt95l7y2TwwCoZO9ovUSPHPfsTcuiwz37CWwPmnkNHRLbtSMj+gwnZvtsv67ck5ZzRPrl4Wpm5P/2wPgZIN7Jh9X7eSaZseI948tALVvpnX1O2BUNv2E2DrdMIgy7s2LHDHpAx4kEvkDneYnSJLbPQG65zD9fdNQ526MBjR5x4gIkLXeUaJAEdv/rqq7vsA3kqgd7QZUx6yHc2++rK27hx42wY8kbFSrrd3tNODsUE3gV5xTZQ3jNlgx1YtGiRvPHGG1JTU2Pl8+WXX1q58B29433zWVFRYe2IixP7QjhnX9Cz/iQ/7Cx2knxn288V2UB2KQPkjXzzG5uLLAhPwwFZONtKuUGvsKfE7w136NAhe55yCSjL2HbKG+e5b+HChXLDDTfIueeea2V6pkDaSRPbn5GHTL2hzPHukRFbD5JH5IQXmLLIOa5hG9ATbAPXkTNx8dvJnntdfOiZC9NX4fLJbirk00GJnqID+YgeOoKufPjhh9azRlcYhpjtaDAmVOIY4nnz5tmK//PPP7ctcYzxqFGjbMGhcL355pvWu8O9dMVQ+Ngeis9XX33Vhr/gggtsevAQvv766zZNa9assc8mHBX1pEmT7HNPB/ISvbjIxm0i8xaLHDTkbd3GqCxeFpVtu5NSW1MmddUia9eHZdWX7TJ8WEi27ozIX15rl08/98tnS9uktT0m0XhQ3pkTkfc+CsuKtTH5cotfDtUnZeq5SZlRBEQPfcGI4t1DR3ifGE50gwrpgw8+sER+/vz5lpRRAWGwIAHcT4WPNxe9Wbx4sb3OvZAhdISu4U8++cQabyoA9BJ9+vTTT60nkTjQ62uvvbbPED1kQ5lh2yL0it/kA68V+aQMUXlTPnIRxf4Kyjf2hAopG9GjMp85c6bVG2TAu6YS4z1CTLAd6BHdicOHD7e6AtlBdhzcx76fNCiwTdme0VeRj+hBwp544glLWNiSETn+8Y9/tLoEEUP/KRPICNlQnigLlC30yu0xDFli2ADlDllynedBkLHxeMCRIcMLKFe33XZbnyd62CK8wJT5888/34bh3OOPP271g20ayefLL79sbQPygMiyDR8yQXeQBc4KZEH5/e1vf2tlPXny5D69HR32IxvRK64mouKkgaLkAoaZwo4BgRDiGTnvvPNshf3CCy/YCpf7uUaFTiHDyLz//vvWyNBaZHwNBYxK67LLLrOF9rnnnrPGBsNGhYex4jzP4x5akhgyGiJUhnxS8fW5Apf0S3OrqbyMHMaeFZXx40KGsCXk1ZmmNb1PZMvOmHy2Kiz7Dots35OQuQvChvBFZdSIhCRMXj+YH5GPF5lKfbjIueP90tjcLoePhSVh7Fg/7rntAHoBOUMn2HQb7y9GFfKPwWUMEGEuvfTSjgoIfeE6hvezzz6TMWPGyDXXXGPje/fddy0RotKH4HEASBxxo2fo5IUXXmiJFpUjpLQvgfKCjqP3eA1oGJEvziMHKlQqIsodZaKUQAXNu4SgQdQo98iD9409gHCcddZZtvFHxU0FRyOSBgEV9OWXX27jef75560MqaiLBegzDSbyjY6zLy6kGNuMHiEjyg8yocHzhz/8wX6/6KKLrNwYq4rdpVENcYboUT6wq+jZX/7yF9uYYs9UGtTECWHuD6DxT1rRAwgc9QiNAXSDhhfOg//3//6frW/QEfKInXnyySftOQgi+kKPAEBvGPZBjxJx9Uco0VN0oDuSB7iO8Z0xY4Y88MADluhhODAOVFa0fGhd0TJ69NFH5Re/+IX88Ic/tN45DBKtSyoyCtYvf/lL+fGPfyw/+MEPrAGnINGKdM8hHj7dgafo4osvtkaH+K6//vouLZY+AV9ChgyIyZ03BuVn36uVxx4tl8svE9m4o8l6+5Bugj+GuNEGHTTQJ/fcVi5/96MBcuHUWtm5OybnTwrIT79TIz/8qyq5/44yGToolrqxCMA7xCPw85//XH70ox9ZIoNhZdwPhI3KG/J/5ZVXWt1C19AXWuFU6Lfffrvccccd9r6pU6dao0vLHuMN6ec8evXII49YXaLCcnr42GOPWf3pi61x9Ju08gnRhYxCdKdMmSJ333233HrrrbZMFRvIb3fALmBr8FjhheU7pA/y9/Wvf11+9rOfyU9+8hN7HT2gMseOQIKuuOIKe3Af3hyINPpVLMBjQwOGskHeIXPoNqQPcuO8nnigGDLB+e9+97vW5lJGbrrpJktmkBlDHyib3//+9+Wf/umfrDxpvN98881Wvn/zN38jX/nKV2zjPN876wuA6JE/yB6eTD7x7oJLLrnENirxEGMXqH/+/u//3oanwYA8HZnz5pXv/SHvuaBET1EwMCQYX7wqGM4//elP1gtDRU1FxQFBw/0NGaNVTXiInRs3QwVMBUY3DGNLqMDHjx9vK3wquUy4wkW83iOzK6MvwFBTGVjrk4njKo3h9MuAOpFzzuZsauwdIVwngws7fkxQBppw0WhMwuGojBldJsOHitTWiIw/u0xGDK1I39H/QUWB7kBi6JJCT3iPVMBUVlRMeG+ffvpp20XrujzRu3POOce2sPE80PLGe8d9jiBBCseOHWvjB1RsVF5UWhh+umu4js71RaDT5JOxp3hcILh4HfDuke/TNUThTKC7ShS5APTElXlngyB96JLr8nZj0tAjehHovoP4cR+Ngb7mzT0ZUC4gvpBYekAgejRksKt49yhHNIQZy+i86NhZygnlEPuMpwp5IRt3HXlioxnTh912XceE709d35BgnAKQOtcAQD7UNzgl0B/yhz1AHjQSkSU2BV1y9YxDf8l3LijRU3QgU7kzQYWD54VuALoN6E6hgNAN5wWVrzOqtI4wKBhbul2IHyPiWk0YGVqUXHPjPhxpdPdmGui+XOgSiYDE4gFTe5m8J0QiYZNWcy5oTqWSnU67+Sgz2a0wvMNvvnPdb76EIz4xnM/Eg2x8RgZ+e0f6rn4NdAAy4/SMwxlV3r1rIODRo0vlxhtvtN206AvdsHTzogsMF8CQUyk5cD8VEp9O19AfpztOn3IRir4A0kaZuv/+++U73/mOrcgZQA+x/eijj/pN11lvwZVz9+nAu0WPHLx6xHlIC+Or0CMOvMjYKSr0YgF5pcFMY4ZGD2QGbzjlgmELnIPkQWxoJFAOOJATZQFb7rXJkEJID99dGaLcEZ4DO81nfwEeTzyS1FN0yyIf7AnyIn/UORyAfOHhQ3c4yDu2AjlxjTrIhe2vUKKnKBgYBwbl0uqh65bKiFaSI2auYNBKxGWOG5zWJd0IeFPobqMLim4BjBEtK74zMJjrFE4KGuNG8P5xnuu0tIAz6DyfVrsji30HfjnW6Jc1GxKyaafIhq0i69aLVJUnZcyodBDg7KWpv0yWLNEbPCgggwf6ZNO2iKw292zdJbLKxLP/UN9fyqBQ8P6yAY8MnjeIG5UTBpouFgwylQ36hN7h1UPn7rrrLuvVcQ0G9M4bN14IWux4BOm2YnwR427wPPdlg01FjKecsVF4IMnrgw8+aMsE46vIb6mBvPOOGfNLuYdw8K4zdQm7QJcuxIb3j2eULm8aBcjNkZpiAkNm6Jql8U0jAE8wjQO6btF1N0YazxU9JkyqoOEA6eEe7C0NC7yDXnmiezS6KDuEZYwsHmZ6XJBzfwDvm2579IdeAGwLdRVeSTx9lCdkwCe2Bc8fskBeNAjQNWTIdcokXlHsTH+FEj1FwaDFhxGgYqaQMNiVAa4QM1qNEEHCUJkyW+vPf/6zHQhNIbnzzjttK5uxdXSr0e1L1wqTNDDAGGXixihhWJghxQQPuiQonBgjWp20yBgUS/zZunrPGIyhLA8aopsIy9JVbfL0y83y4usNsm17m1x2YVAmj09KRVlMqiuiJlxSQmVxqamISFnAGA9jY88aGZArLw5IU0OrPPtqk/zllWb59LMWicfazH3Rfu/Rc+/PeQ040Bm8cFTQeF7QK7x26A26wbgaKhYqNCpw9Ij3jncP4wsxcp4G4iE+4kVfGJ/FfQxIR9eYQQjho+uKSqAvwcmGtFExuclNVFCMa6VCpnIiTKmB8s7BRBwIMKQNOSAnwLvk3SM77Mctt9xi7cJLL71kdQhvKI1KbEyxET3yDbFDBnS70rjBxlKO0H1ILqSFJVFoQFG2kAc9MthQZMV9lBevTGlQMRaWMM8884wtP5RFnoOu9heQNzyc1Cf0ENCtjQ6QbxwLTEZBR1wP1b333mtlyLhzZMG6gcgLuZH3/jx8QpdXUXSAlrObUEGLLhMUEowIn8zQYiwHLSBaThhZWpdcxwDhoaE1hGGA5N1zzz22QqewYXwYk0Urk1YUXguMEQadSo3KmxY8BYsuF1rnGDCMF/HhSicOWqynq/IjTXgWKfDk8bhyYhq6UUNwQ8EWOWuESFtzm/jiTXL1DJG7bx8iI4eZOKLtUlcTk/OnVFvCVxUKywVTGMcYkFC5yPChfqmpZJ3BRhNXu0w4Oy6XTvPJBZP9cvZo1m9KP6uPAcKFbDCOvMNsNoR3Bsmj8kFXsDc0DHjfGGO8EXh7iQfd4D2jE0xGgPwjc7wWXOMdcA/vH2NOfMTNd4YR8J14XXzoEvrMPVSM3EfldjqA3rixhuhsNtkgB3Qd2aDreKQoG+QVAkPXI91O5KGY7DP2hroHe8H7yJY3R8zRH2wNB3aALn7kgR7R7QY5QX7YIHQQ+eH1R+b33Xef1SW8Ov1FfniPyIMbI4cMMkFeXOPGTYwjj9yLvbzuuutsucHuOg83jXJ0Eq/5Qw89ZO0x5Yrywj3Ii/KDPIkXG8514ka2NMiw2Y4UngmQP8oGeUU/cr1TZAaBo3eISYF0dVN3YRcgeuge8kCHmOj18MMPW1lxHbnyDBoN2A0OPII0uM5k3vOBvPDOeJ/eutFnhJbEPUuh40X2l4Kg6H3QWqa7lQJCpZkNKBLhnBsfQ0QlhhePT0DFjx55iZG7xj0YGu4nHAWVOFzhoRBjWDDeGByUlXPcTxju5Trxc182A3gqQEUDuSUNkNhs5YTdL6LRpJ18EW7Huxc3FZghcRUBk2/kkpBYXKS8zG+3OIub8OXljFtL3Z8KEzd5pzvSZ2TDmJGk+AM+e09fBe8D2fCOqFCyyYZ3zUEYDvSA39gd3jNy5TtxIWsMMpW/a0Xz3tEJR4qo/NAL4PQCXXAVH/DGx3mnQ3yeLr0hvZQp9JhKNZdsSD95Jm38puxQzkg3ckBGxQbyx/AMR8pzvRPCOZ3g/aE7yIPfzh4hV/dekWWm/LjWn4AOMOwFUoV8yHc2oOPoGNfJK+A34LeTqdeuEtYROuSGnIjHkWoHzrteE2RIGFeOziR4v/T04KWE7GXTG7z/ELzf/e53Vkf+9//+37ZB6Mof59AR5EF+aBx480V95laBQFbID7k5mfVVkE56O2gc47hzUKKn6AAFOx/RK1UUQvR6B4yB6V9lsBCiV6oohOiVKrA3ED0qJDwp2SrsUkWhRK8UkY/oQeJYzou1ABl/99Of/tR6LyGyxY5cRM9KSI2PQtFXoGVRUXrQOkjRm6AXCbLz2GOP2fHfzttZqtAmlEKhUCjOCJTgKXob6BTjDf/Tf/pP8u1vf9sOCyh1PVOip1AoFAqFomhAdy5ePLq8tTGhRE+hUCgUCoWiaKFET6FQKBQKhaJIoURPoVCcFLRrRKFQKPou7PIqTHFnqjuLAfYEzsAznTkXvJVAd+H6Ckq50kIH2JaM8Q0smKnoBMursIAma3exhIhDIWWg2MESIm55FdaqUnQC2bCAKcursFRGKdmXfHnF3rBdF8uH6GL9XcESIiz2ywLRLAyty6t0gqXg2D2GRY/d8iqlbH+9QA5sdccC9CxZ5GCJHnu6sQo3FVhvC8xbePvbyyg1w8PaTegB+aZSOp3vK/NZZ0r2ufLMApqspI7BZRYX4bRiSsHJBhLsXbup1IGOuDLFGl7ZdpspZuQrH8iGBgKL1ebaNaQUkM3mQGZYfxGdQTa6xmAnWCuOxZCpo1g0H73JZbcz4cIVq66RP9ZFZocd6imHDqLHViAIDniFlimQfALtToCFvoy+gFI0OrQi2YeWvNMacO+rO33oLfR13aBSYqV0DC4eCIdTLY++roekE9mwvRIkuDsyk+sduzye6utnAsgGEswMQNb28sKlt6+/4+6QS+YgX76wN+xgQGWdawu0UkA2GUL06EGABCObTKLXndyLHeQdEkwdxQ45+co/yBamGPWN/O3atctu13Yc0YMB0ipnLzjghJFNEPmE2d31/oRiVIJ88Hbdsuo4yPU+M+XjDVeMsvPujIHnW1vYnXA7Y7A9kHebIUWq65Yy5bpuvXrTF8sMaepJWgq1D9mAvcEz47punWxUf1INBNd1i3yy2ZtSlRMNhNWrV9vhRXTdIodCZeH0tVhlh7eTrlsWiz6u6xaih/CmTp1qTxa7MBTZgeHNtgVaIRVSsesMRA+vN0SPsSFaNjrhZMMYPbaHU3TCbYGGV4bN+FVvOoG98W6BhmxUPilA9NwWaN7xiyqf/FuglTIgesuWLbP1t5foZZWQFjiFF04futMJ1RmFvv/8oEHkbTgpUlD7oegpVGeORy55WKKnwlIouodWzvmhJCY/tHJSnAhUZxQnA/V5KhQ9gBpchaJ3oQ2EwqC2R3GiUI9erwODpUZLoVAo8kEJnuJEoQ2EwmGJnhOWCq17ZJMO54y6pX5YpM7kDq1QKBQKhUJxetCl61Y9e51IUTVHzFK/skmHc74uV1JnjkcnyUvF5j2jUCgUCkUn1PGi6C10dN0WSvJYb481s1hY16uIfOccq8CfCgUlThaRZPpwLnCdcIQhLSxUeqJp8aWJHfe3tIocOuqTaCx1zQuS09AkcvRY6nsn0TtensSYMMlpD4scPsryAqmz+UB+3NHS0mIXGWWK+ZkGSwAgZ9KkQFdS7/ZovdEXow8ch48lpdGIx6hmyYOyhP1AX1h7ry/ocF+ByiY3sOssVk69c/DgQbucz4na9f6EQvKYqTfIqthRKFcpRdnkQuBXv/rVr6msIRHedVeyAcGtX79ennnmGbtqNwsss3YWoNKfM2eOXcjw/PPP7/W9+SjcX375pU0Dq4V7wTnywLNZZR3Mnj3brkN03nnnneA6OymqF435ZPW6pHy8qFnGnBWS2mrzvI4QJl3tIguXxmX1mno5d1xIyspzKWHqPLq2dWdC3p/bIoMGlssQu5FA9nvIFwrKwpkoLKvrL1++XD755BO7Tg6LsPYmKAjscEBByrddE++bNbA+/PBDm86zzjqrqD3C5Le5udnqEjscZMtre0Rk7caEvPdxWJavaZNV6yLmd1gaGuMyYniZVIbSAYsMkBJkQ5mnbGaTDfalqanJrinHAsI0CJEpiyw7G1KMQDaUKfLptmvKBLIhDCvaI5ujR4/a+yjvbCtXrOUKe0NjHDuWa2cM7B52/4MPPrB2j/XTIH3oGfcV6xpq6AQNerY/I5/ZZIPdRRY7d+60ekN4ZMp2e5TFYtUb8g3hZw098ppLNpSpHTt22L2mnWyQZW9zk74G8kv97eUHPSolFLqZM2fKH/7wB/n9739v91RzwGjPnTtX3n77bfsdQXeHfNe9QOmpIH73u9/J2rVr02c7gVFkNejf/OY3duFWFuKEdL777rv23pNJi8mKrF4fl9dmHrFeOBu0I3hSYoa47dkXly3bGgwppLM3fdF8eKO1t5kTsXhStu6KySvvHJUdu7mSuzCSdgrxn//8Z2vgyBdE75VXXunwVnaX9nz5PhEQpyPdEH50gQ2mT8Wz+hvqm0Q+WhyVF95olsVL22WFIXsr1rTK9p0RU3bSgYoU+SoVGiw0DNhuESJDQ5FGIxUU9qKYUYhssKXIh3KN5wrZYMtK2bOHTUEuTz31lK132EUDO/inP/3JNuQhOaUM9GbTpk1WRjg6KFPYZfSnlL1XgDqKMoRs0BNkgyOoVGVTMNGj0MGiIXMXXHCBZcsfffRRhyHiOgYbNykG6/PPP7eCRciOBBAWtglZ4TqeKpSV63xSCeAZAJyj1U9ceAJWrFgh8+fPt166Q4cO2TCAcCj5p59+KosWLbKKT9oy08L93OfSAmmFRC1dutQe27dvt+cyQeho3CdNbSHZvU/ki1Uiy9ckZf/BlHcuVCZy3uQyuezSs8QfDBgy6JPN20TWbxZZsVpsuPZw0pK6L1b5ZNWXPjl41C/t0ZDEc/dCW6CsEFvyjayQP/lCVk6OEFw8Ae49oMTkc+XKlTbfKDvycPk+WUA2MbZPPPGEzJo1y74jCGmpA+nShb/3QFImjC2TH39rmPz1D4fL3/xwpNx3x0AZ2NUJXVJAPxy5oxXOPozO648euzJfiqBc4m2gbLPV1YwZM6xsALLBhpUqsGXYGuz0nXfeKf/8z/8s//k//2frqfj444+tfHrLrvVHYOeRAbtnoDcXXnihlRn1AXVHKYMyhRxGjRoll1xyiVx00UW2jsxVzxc7Cu66RYEgHK+++qr8+Mc/tgYIEnL77bfbLgmERyuLcxAztuFYsmSJ/c6edHTP4Pl5/vnnrQsekgL5AuwdykvBO8RembwcCA2FmZYc97/zzjvy2Wef2e4MtlniHC1l0g2Ze/HFFy0ZwqXPFlWQHEgflQgEcPHixfblswccFQzp456FCxdaUrRu3TobN12QXtcuzoYVX4rMWxyT9naRNetisnR1TPbsj8vIYWVSUSGyeHlStu1okynnhmTRiqQ8/2Zclq1sl2Wr4lJe7pdGU4+9+k6bLFqSkLUbYrJ+a9wQQJ/cfE2FnJvaUvY4kC/S++abb9q004XDVjhUmMgP+SBDrtFqId1UoriqX3vtNXn//fftdcg2xBAZswF0d+AdQwqRa66uW947skVedB8jX4wMRz7PRX8G8iavubpu4brbdxk9WZiUMqM+544NSCQcl5pqkZEjfFJd2bM9RPsTMKCUc8pNtq5b9IoKCW8V5ZYyji6iSzQE0bXM4RjFAicb7F+2rltXMVPu2NIJ24ds+M2BbOi+K0bdIe/ddd1iA7mOTG666SYrH8JRD3D+yiuvtNeKUTbO/ufquuU6pAUdYQgVG9ijX8iF+pzt9rLdVwyA3LtGY7auWycb6krIL/UmcsQpgUypC3N1+RYDsLUn3HXLno2Mk6D1QKG7+eabLZGi0netKj5xjaJ806ZNs4KEvC1YsMAKHZc7HkFICWPn6Lb57W9/a8khLVo8RJwDGAG8UTyTSpaEYyxp9WZWCrw0Kl+uo/AYSu6n64PKhD18MbhPP/20JT4I4sknn7REdMKECZb84fJ+/PHHO57vRdJU4k0tPjl4qFUmjo/J4EEJeW9eWN6a3W6761asj8uCz+ulyRC6tZuT8sacRjlwsElGDGPsUkJeerNNPl/RLueMicnoEVHzjLC0h7sXPbIjPygzBJRP8o0SI1/kjOHjHF3UdFWjyMgQMs55PAOQvGeffdbmlXtPFsj6sssuk7/927+V++67r2NMZKkjnkjKsUajc/vDsnVHVN6ZE5ZnXgnLH/7SLh8viktLW3EalUKA3tEQhAhSNiHLNFzQa67hJS5Vzwx2CduKTJCHkw3lDNlg+0oVyOGqq66Shx9+2DYQkAWNchqzNBawicVaWefLF7qB144y5dUbKnfqPmRVqmWKfFPvU38iG2SJfJANdoij1GRTENFDKDBkukfPPfdcq2SwYpQMkgGZAAiUAvizn/1MfvjDH8ovfvELey9kDW8bJO+OO+6wJOFHP/qRPPbYY3bsHZ474uTwgns5KNDXXXedJXs33nijdcO6gsALJC2XX365JXt333239eiRNj5//vOfWw/kN7/5TVuh0D0MgcQ7CcG74oorrDeKVpHr4s2Ez5eUoQPC8vC91fKjb9XKDx+tlkkTqmTe4gY7bi9udCYOGzRIJuMyqLZJvvXVCvn5d2tkzCiRL1Y3yjVX1MlPvlst33u0Rm69vlyCZe1uNF9WkD/ye/XVV1tyzScuaAozZPav/uqvbN6+853v2NYb8oWk0p2Ogl977bU2X3STQQDnzZtn83+yoOCgAxB5b4shn2EqdiSTPqkKxWXqhBa59tI2ufU6kSsuCcq+g1F587022brLhEmHLTVQhinblFXKJXDGl2tUTHyWIlz+kYfXpiGnUi9TAHvjKmh6YV544QVrA2+55Zai9eY5dJc39IZGgldv+EQ2rryVMpy94XCgTJWqbAoieigU3YV0MUAa8Iwx2xIhch6SAVA0vEx40JhlRisMjxljLBhICyG89NJLrbeJlj0eJ0gL17ORPHeOeHlJzgB6Xx7X3HkXzp3Dc0h6MBbO00ca8PTh4uYT79frr79u84aLF29ZJvz+pAweEJcLz6+QqkpD+gaJTDxH5OjRiLjxwK6asmFrozJ1UoXU1ialNZyQVmOkJk0Mmt8itXU+O6avqiLazTSMTpAPb/75DvGdPHmyzQ/f8XLiFSBPkD26ing/TNrAOOJ14x1iLHsbpIej1BE0/GXS+ID88Jt18rPvDZKHv1Ih33gwJNdeVSb7D4dl03Z0Oh24BIHuess03zkA10oVzlYBJw9kVMrkNxPYMxrmTEqj6+2RRx6Ra665pktDs9Tg1RsH9MU1Gkq9THF4bQygXJWqbPLmGEHR7UrXIKSJcVkQBoTFGAmIEddcFwPhnTF35IKwCBi4bhoO7iEMHigH53ImDsZE8R24+93vXPBeJ173Ur338x0iivcRssmBlxBvIeTUC0dhEkm/KUSp7zGTvbDJrt9HXKlzDuaUHaNVwR/zg8cTDvHYpJkjFvdJQkzrInWLTVOufLl0O/Ab0sfhwDl3P+chf3goyReeN7yB5M8rZ0XvIh4TaWzwSUNjmfgCIXPgjRAZMMAYHX/Avv8MVSkZUAbRPSohGiSOyGALuEZZzNTzUgH5pyFK+cX2IRtsInJCJqVeZqkD6I1ghj/dcY8++qjttaFxW8w6012dANAbuvcpR64rEr2hOxevHnpT7GWK/GXLI+eQDeXJOTcoV8gGuZSCbDJRENFjXBsTKb7+9a/Lf//v/13+23/7b/bzH//xH+1YOyZh4B0jLBMj3AxXJgPgycPDRzcpXat0/+I9Y0weEwnwQuGdonWGgjKrloGWdLF6l1LhxfCyuC/btHoUnxfL2LXuZhxBhJjMgYcPQsRkEgwH3QAYlczxfyCR9MmRhpAsXZ2UvQd9smFbUr7cGJUxo5IyeFDXCpzvRv1Mev0S8Ptk2BCRwSbK5WuismWXyM69IivW+EwaKyzpi0TM+S1brFeU9HvhFJl805L1zmDOBPnH+EHG8fTRlX3vvffawahUGlQmpV5pnEqwmPaXG2PyzMtt8sH8uOw+4JNNO0TWb/JJTaXImJEmUGnZlg5Q5hhED5we03ik7GOQc62hVgrA5mFzKNf0ltBwRjZ8YhM5SlU2kBjqEsZTU78wHIUeInSIngvsWqkCe8/QHmREfYnXE/2hTNGDg70vZdA7R70JH6Bed7JBZticUitTeYke5IPuP4zxrbfeagkSQuTAuwdRotBBylAuukaZWUsLjIPwTI2HzEGoWMqESRl0/zKjFCJy/fXXW6LFd7occdETB6QOpUWpIYk8k/F8EEQU3IHrjGPDKDJLl0kivEwIj4OrbAgD8bzhhhvs7C3SwbiPN954w85WYnZOFxh9CJUlDClrlw8/bZZnXm2Ul95skOaGernr1ioZOjQp1aGI1FS0mXSIVJQnpaaq3ZC8pHmmT8aO9stN14Rk4+Yj8tSLDfLiGw2yfGWLvacsmDQFtNmm+aWXXrIK6QXKSP7Ju5s5TD7IA3kGfJJPziEDxq4QD/l67rnnbLyQZ/Lu7uktEB/PVQIpUl4uctYov4QqkjJnfqMhfI3yypv1sntXk1w5IyCTJxQ3z+vOcKInGFgOKmlmbFNG8egNHz68pCf0IBsaaJRx7B2yodGHdwbZUL5KFTTYWRWBMdXIA2cDE8tYw5XhNpA/KvNShauLkQN6g5yoFxmyRJ1QzGSGhpE7MkG+WUGEg2FhyIXJlugQ4/ZLkQTnXV4F4TDLadKkSZbUQaAcMFIYKJQLjx2GCUFiuJnZSksVLyATKTiHtwnAsmmB8JtJEtOnT7dEBKWlJUuLn3vpcqQFRxcxv3kelQOTD+ia5DfgxTrFhphyD3GRFrosCUc+OJicAOnkGunGuNIlwD1f+9rX7BqBHfHyx+hRNBqTmspmGTMyIEePhCUUiMjN1/jlrpuHGFLnt165EUPaZfr5uPcSMriuVS65cKBUVJqKv9xnCIBhAck2c29EkomYnD9Z5MLJCblkummxG4K4cOECW/EhX+TgQH5o8ZMe8sX7gVzjiWTmK2HJA+5pupzJGxNTOI9HFTnyfu655x7bLe0lvtlAXMif51Ip5wNpIiwyw0tazCCvEGjeBTIl314EjMrU1fll2GCf1dH6Y4bIB9oMyfPJnTcNlNEjGb6QDlxkoFw52VBOM2UDaAxgOwhLBU5YGnfoDWQm2z3FAPLb3fIqgK5rZEP5QzY05hhWQlku5gqb/OJl4f1jszLziccObxWNbxqxyNBV7m6cMp/FKB/Xi5NreRWAPNAPdAwHC2UKneGAzBSr3vD+vcurgMy8Ihvkht12sqGOpN6nvBUzsi2v4jMKlaR7FYFAnjKBwmHEEWQ2Q+U1ZICXQAGGZKCEEC4Ml7uGIaNrgnipMFFkXgIgLgo+L4bz3A+J4TvP5V6exXl3zsGl093Ls4AzIMQNoUMxKASEJ6wjuZlpcSCacIRFj+P2WlNj3OQnKYMGsjwE133S2k6eE1JdFTBhkxKLxg0BhKCZCEwSiaO1LWFkEhef3yd1NUH7zFCFX9paG+Xtt9+yLY9f/vKXXYgecDIjb6QbJeVd8S5Ij8sHeeRewiMz5MgnL5u8uffTHSAozIImXghlPpAO0ka6ir2VhIxpoEC8ISeZ5cCBnVKam5nej54kDPEJSGUFE4TSAYoQ6ICTDZVMLtmgm+gYBzpGWSxEL/szICv0eFAOaaD2RDbIM1f4YgB5ZdgKdQTeKfLtBbYNm42dcfacT2SCbLB3fBYjyDNeOhpDyCdTNg5evaGeRW/4LGa9gV+wzA6OIkf0s+UX2VD+nGwog46LFCvIM72m1N9ex11eoqc4tWgxBI4XU2NIJsuh5CrQpwMUiJ4QvVJCoUSvFFEo0StFFEr0ShH5iF4pA8cE3Y35iF4polCiV4rIRfR6TXt4gKLnqDKt0quvueaMkzyFQqFQ9B0oeVH0FnqNWahSnhiQG92xSvIUCoVCoVD0NgpiF3jrYjHWtkufyADOPHu9QK8eweJxkUTnxNmcSMXNeA3idkcKfOM0z07a6/lBqFzPTqWL8XbZ4+qUg3le+lw+8Byelw1sm5XrmpNRnAm/6XP5wPthPTfuVSgUCkX/BHWN9pIpegsFEb2WVp98srhRtu48fgstdPHQsaTMW9ggBw8bllEAIpGkLFveImu+ZPHU9MksIO7mlqR8ap69ZZvb1QHlTxUAiOWBwwmZv7BeDhX47PZ28+wVLbJuQ/i4Z3Nt6YpWWbOhzRIsL+CR9Y1JWbikWXbs7rreXS6Ew0n5cn2rLF/VYhdY9qLdXFu7PizLVjYbeaRPpkHuWlpNWla2yfpNbS673YI4Nm+NyZKl9dLamoM9KhQKhUKhKCnkJXqQraOGyP3p2UZZsiKa5hz8TX8zH/sOirz1XoPs2ZdJgFJhvCB8a6vIy2+3yrtzIzk9WoC7Dx01z36+SRZ9bkhm0nUPcyUhbC+7d19S3n7vqPk0z+54HF86fnSAZzc0Je2z53wc6/JsrjU2JdLX2o4jgbSuDh9NyLsfNMnGLbjN0he6QUtrQmbPa5NXZ7ZJS8bani2GwL4/LyKvzGyRli7rO5uIzbMamxPy8aKwIYnmRvus7h6YlFYT7JMlMXn2laNSf6wb9qxQKBSKPg03FEo9e/mhw8byoyCPHt6ibbsr5MCRCjl61JCr/RCmVFchMq6tETnvvEEyoK7cLi/RaK41tYjsNwSwviHV5Rs1POywuXffgaTUN4rs3F8p+w6zzEn6IdlgFLzd3Ldld0j2m7BHj5n79/ukycQPyePZA2p9cv6UIVKXfnZTc1KazbMPeJ4dcc8+mHr2jn0V9tmZ5Sca98nu/RXmWRXmXp6VlGMmDrx7PkOmqqr8MnXyQBk2pMJ2ybbwrGZDRo9AhlNdreyQYNNp8nms3id7D1fKroMhmzYvWYvFfLLvSMikpVyOmTTtPyByxNzH/SAU8suEcdVy1qgq601sMeS40ZDUw4b4HjqStHkizgZz7z5zr83fYZ/s2Ftmrul4P4VCoejPUAKTHY74Ih+VUWHIu2AyOFYv8srMdvGXG7K3v0kWf9EuO3ZHpK4mIIMGBKTBkJ3tO9pkwtlBQz4C8vbsVlm7KSnzFjTLoYNxGTmsTJauapP3PmqWL1aEZduuhKxYFzDP88kdNwQl11JIvM/D5tmvzmozLzQkRw43y5IvIqln15bJwDq/JZw7d7fLOWeXSzjil5kftMn6LSIfL2iVA4diMnyEefaKVpk9r0WWrQrLVvPsVRsDMmp4QG65xi+BIEoDjYMkirz7UVTqmwLS3tIuny1rk807olJW7pfBg8y5cCqfw4f4pMIQsQ/mt8nKL5Py6ZJW2bGrSYYMqpKNmxPy/twmWbq8XTZvi8v6bWVGygm56+ZyqbZrO6YUs9kQt/lLYrJlR8Ky7aXLm2XD5qgli8OGIsek7NgTkcrKhAweGJT5i8KyZHncHGHZsKnNkOqQ7DHEdc5HLfLZ560mzzHZsD1gl2u559Y6GTSo52SPaes9WTC5lMDyQ90tmFzKYCmIfAsmlyqQTb4Fk0sV+RZMLmVQH7NgMjqDfHSyXieQDQsmU0exbqDqTVdkWzC5IO1JGnISSwTl8xVtsnZDVA4eicqbsyPy1EvH5NBRkV37k/LKW8dk566I7D0o8ofnwvLESzFZZcJu2BqTz1eJ/PvT9bJkZVQOHI3KwmUx2b6XCQ2FPN4nkXhQVnzZLitNfHsOReV18+xnX2+QQ0fwYCXl1XeOGrIXk90mHX98PiJPvtQqqzdGZSPPXpmQ3/+lQT5bFZV9h6Oy2Dx7576kJHIoRzTmky83G0K1MmbDf7ggIn9+oVG270zKocMJefPdRvlyQ9h60J5/M2Ke12pIrMnn5rB8sZZu5laZvxiSGZXla2Py5ZaIyWd2JmvJ3F6fLFgal30HkQvPapE16xKGbBoS94khm8tbrcfvjfej8vtn2w2pjMmmbRH50hDpZ18Ly7tz22Tfgajde3fV+sInxCgUCoVCoSh+FEj0zOFLylnDE/L9bw6Vv/7hMLn6iqEye74hVOsjEo6kNv0PR4MSNkTpUEOFjBheKT9/bJjce+dAWby8zRDAoHz7a8PlFz8YJnffVidlwZglkIXAb4KxZ+z3Hh0mP31sqFx+6RCZs6BdVm+ISXtE5GhjSCLRgETMs/k+akRcfva9IXL3rQNk0dI22X8kJN98ZLj87PvD5M6baqUskGPihskorYMhA0W+dv8gm/7bbxwkywyR+2xZ2DyD+CukNVxmyKdPjjVXS22NTx775hC57+7RsmlH3JDERnnonsHyM3PvA3fXSk3V8RNYOmDyVVuTlHtvr5afG7l85a5BhjQHraewrc0nDU3l0twaNCTbL/WtlVJWFpBvPDBQvv7AcDue8IuVbXL91XXy0x8Ol0ceHCwjhuEFVaKnUCgUCoUihcL8wYbklQUict3lFXLFxSKTzhFDgETiyUrZuCU9kwAPmfmPn6480CbXXOqX6y8jbFK27WiWc8cNkJuuTN176zUiE8f6TLTdDdADEMGkVJTF5OqLQ3KVefaU8SK3XMsyIlWyflO77d51i53QAVtR3mrSWW4OkfFnJ2TrjiaZYJ59vfk9eVxSbrpaZMIYS13tPZkoC4pcPDVg0zrZPOvGq3xSN6BS1m9tt0uXIAvAvJDysrhcdJ7IzSbOSRNF9hxga7SISV+5TDL3XnOJT6ZPCZp0mRvJSgbosp44Ni63mvxMmSBytZHZ6NGVsmFLq4SNWH3m9Rgp2VvLTdjJ4xNy+3UmrHnW4WPmnQSjcvO1Ifv70gtFLplm7jDvIXvOFAqFQqFQlBoK7vj3S0IG1PnFbhVnmEdlpZjvQWlr6/TLOVJS5g/LkEGpjd7hcuz/WlERMMQoFa4iJFJTRcjCKEnAkKsBNT4JmmfDJytDPnPOPLsVr6CDoXvmWtCQwmFDgobwpCdixJJSxbMNUfKZc5UVPJu0ZieZ9lm1fptGSF15OQsaMz6P2U/cx/lUXIFgTAYO8FlySD6ZSBEqZyIF19lYWew4Rvssm1BPfs11SFlNpc+kj5/mWSYe7m838orHTYB0cJ6J3GurU+kn5W1Rnm9+m/dgn8V1893vgxwqFAqFQqFQ9IDoxRNB2bYzbGfUMilh/ebUXoUjhoQsH7GcJM0wIB4QEz6DhvQMGxqQPftaZc8Bc48hKLvNJ+vfcQPeOPbKZHAl8R0PxgcGZOfeuJ140WqCbNqRNAQuLCNHlNtnOB+WXX2FZxrCRIogacMGl8m+/e2y1zyzPeKznyzZYgN64H7FEsy8jcuBI6yrJ7JjV1IaGiImn+XiN3myPaNJGCz3JMyz2GQb757J52CRxka/7NidMOSWmbAmr3sNGU3aBB2HRMIvh4/5Ze+hVNr2H2QcYEyGmDSXheyD7H/+kEe/P5EidSa6IYN90tYekC3bY/Z9IBvkS9dt15wpFAqFQqEoVRRO9AyLWrSsTV6e2SZvzY7Jm7Oa5Jyz4jJjWihNtmKWjPDd70sREghHZYVPrru8ShobGuUvr7TKW3Oi8tLbLbJrX8yEi0sinrCbNz/xxBOybdu21MO6IGknLSxZ0S4vv2Pufz8is2Y3ybjREfPsChMHzzHxpMlQwKYj9fzqKp9cc0mV1B9rkOdfbzH3RuUV82yInM88OwVSCVL3x2MxWb0hLC++1Spvm7S+/m6zVIbCcun0CkNeyR/3QVKZSmLyYJ4NqivpPvUb4lctz73eKG+adL7+LjOAoyaN2aedJEy+tu+OyyvvtMibc8Ly+nst0traItdeUS0VePnMs5AlSMmXdCNTkQunBGTwwAp5491Gee3ddnnDPO+L1RBl+pctO1QoFAqFoqigs2x7joKIXlWlT664OCiTJ1bIslUJmfdpXKqCMXns6wPl3Al+GTJAzPVyGTzIL3U1IpfPCMnI9EotdEfedE2lfOX2atm6IyoffhqTw0ficvUlIZkywWdeWtJOI581a5bs3LkzdZODuVbNs6f7ZOK4oHyxKi6fLopKTSgu3/pqrUwc75ehAw3BuqhchphnD6r1yeUXldnlTyA7dKHecm2l3H1TuezYGZF5C6NytCEpV10aknPHmWd3yT1Lpvhk+nl+uXBqmWzaFpePTPi29ph8/Ss1csn0oMmbTy65MCijR/ksiSTsOaMDNg+hMiODiwLy4D11cvhYQj76NCo79ojMuLBCpk3yWTnwDAfCk/9LLyi3S9DMWxCRg4fjcufNZUZe5VJbLTJtckAmjA1aYnfeZJHJEwLWq1geTMoF5/rl4burTDZ9Nl8bN8dk6nifXGzIb8iQa4VCoVAoFApfIpFI4kljnbApU6akT3dFW7vIhi1xCZYFpL5epLWFtfF8cq4hWpWGkLAUyI6dURk3JiiBoF82b4/JmFFB25UJ4cIbePiIyMatCWluTcjQwUEpL0tKbVVSzj4rKcuXL5P/83/+j/zDP/yDXHXVVfaZINWtK7Jpa1SCwXK7nl9bW1RGDg9YkofXq6ExKTt3h2Xs6HLzbJ9s3xU1z8bblSI7cbpHD4tsMSSzqVUMISyT8hDP9pn00jqwwSzswtA7ExKJ+aW1lcWV44a8+mSSIVgQWM5tM4Rx6FB+++2zBtb6DfFLDT5kTCBLoWzemjTpiktdXdAuJl0WSMj4c/y2y9WBBaR370t1ubK37pGjhGeRZENeB6XGNe7cnTTkMyHDhwVt1zXxjDu7zHoIEwmfNDaTr9S9kPFBdUzGiJlnlRnZ9Jzs0XW+e/duu2bT+PHj02cVoLW1Vfbv32/0MChnn322tio9YOiFk82YMWNUNh60t7fLnj177JpWI0eOVNl4gL3ZsmWLDBkyRIYNG6ZrxXkQi8Vk3bp1MmLECCufgB0crwCsv7hy5UpbRw0cOFDLlAcM3Vq6dKmVjXdd5IKIHqAz0I6FYyBc6oc5Ul2E7qf72xWdc2Lt7eZIedJSY8ni6a7befPmyTe+8Q0ZPnw4FzthB8UZENg8297Pc7u83HSYLs/POGd+ep/dNWwWpMPj8+waKydT3wAzY48D95qPnuhfKl/pHx7YMXf2go3Rnkt9B/aN2J/2Sg+elw1K9HJDiV5uKNHLDSV6uYG92bp1qwwePFiJXgYgetSL6IwSva5QopcbuYhewSUrJUrzly/cZU/wx821tSeyIHXdhjB/KMvuLv5SuKk4H3nkEVvYjwM32RfJp/lvn81vL9LXuyDjt7vXIjNsFqTDHx+ryw2zWzsi7AruLeARXuQK36nE3gB8T/223zp/KhQKRb+As218amXdFboeqqI3kYOpnD5QwGHlo0aNOgWF/dQZDzVLCoVCoVAo+jrOONFTKBQKRenB67VSD9bxUC+noregRE+hUCgUZwQQPCV5CsWphRI9hUKhUCgUiiKFEj2FQqFQKBT9Ajp5p+ewRM/rPnff9SjNwyHbtVI+vDLxftdD5aHHiR+qO9kPJxeHzOvZDi+yXc88+iqypTXzyBZOkRt2Hb3NmzfL0aNH7RpYiq4FrJTAWopHjhyxS96wUGcuFCofb6urv8uUNb+OHTtm17M6bq3HU4y+LrtIJNIhG+/aTYpUmWLnn1AoJIMGDerWE1FM5aUQIJt9+/ZJXV2dDBgwQNfR84C14tgpijUGa2tru5UNupLPw5WpT33ZI5ZP97nO2r/Y4erqatUbD5ANfG7atGnHL5i8ceNGOXjwoK3c+7ICnC7kU7RiBYt01tfXWx3IVWH3VDbEVQzyhMw0NjZaMkOFDU5HWekPskM2DQ0NdsFkJxtFCpAZSDBED0LTnc5kXuPd96X339v6jr05dOiQ1NTU2IP4OXorz5lxnY7fwJ3L9TsfCA/RO3DggNUZR2Yy43PI/A0yn5UZptC0nAlky48XhrPYhf2poyoqKjqIXl/O0+kCstm1a5dMnz69i0PCEj22oWF1+4kTJ6qwShh4rdjhgILDIta5kK8gFiPY4YDGEERv9OjR9pyWlZQuIBsqpbKyMjnrrLPSV47HmZLXmdRXyhReK3bGwPD2RAZ9sZz15jukgbB9+3bbOGD3B+Lm6K18Z8bVm7/5DjJ/g0LC5AMkeNOmTVZnkE8hXqvMtGbiRNJxpuDNSyYgwewaMnbs2C7ezv6Qr1MNiN6KFStk8uTJXTagsESPbWhQrO62QFMUP6iU2K6JgjNu3Lj02ZNDfzIu3YGGEBU2XisMjKITbA+HbMrLy/v0Fmjo4ulOGyQY7wNemZ5ugdZdZXe6cSrkhr3ByYBnhqMQMlMqoD5mr1u3BZrKphPIZtWqVboFWhZA9D7//HPrtPP2ynXRnr5kWBTFAQphMRRELRs9A/LKPM40+rIe9gX5dIe+nr5ig5N3Xyk7fRFK8AqHNhMUx0ENi6K3UapGudCylE0+nOtLh+L0QWWv6E0o0VMoFL0OragUipOHlp3cUIdEdmTTGSV6CoXipKCVkeJE4XRHdagrlMQoTgSUI3d40YXoaWFTKPJDjfDxUNvRPdAZ1RuFQnGqkc3OqEdPoVAoFIo+BG04KU4ErkGZSfbyEj1uYGmJlpYWO3U3E0x1bm5utmsi9RaIi2dmY6anA+ST57PYaU+BPFhugrV+ThXOlFwygZxYPqI3332xIG6KSnvY6HLPVajoQdlQvTkeyAWbw5HN1pY6kA+29UTscn9EoWQPXaEsIZe+Ujf0JSAf+At1c6kiL9GjcC1cuFD+8Ic/yIYNG9JnU0BwCxYskD/96U92S5LeAHEuXbpUXnvtNftyTjcoKGwHx/NZq6cnQFYsAPrss8/a7Wt6G8hm7969dn2lM6205JUVuN9++21Zu3atGhgPYobjb9sZk9nzGmXD5mYjm/QFhdUb1u187733ZM2aNfZ3McNV1nzmqrgpO+y6gg2lLFG+KeesM1fM6InXisqaHZzeeustu/ZesetNoWhqarLyQG9YRJh1ULUB1QnKFuXqueeekx07dpSEvclmawry6KFMzz//vDz55JN2Ox93HoP97//+7/LJJ5/Y370BCMySJUvkpZdesq230w3ywX6vL7/8sixfvjx9tjCQdmTy1FNPWcLX26AyoIKEXJ3JVi2GBOPyl7/8xTYAqLB76/33deTLJ3Xzhi0iz70Vl6debZH1W9pEfTMpoDes9o8t+fOf/2wrJ/VcpRacxm5QprA9LD5No5pdas50g64vAFsH+X366aet3ijRS4FeJ/Y1RR7Uy+gNZI9dalRvUvUx9gZH1G9/+1tbJ5eqvclL9NgJ4KqrrpKrr75aZs6cKR9++KEVIKQDMoRBeuCBB+Scc86xysZvKn5apE7ZUEhWh+cTUFmypyqGLFuBJRzXMXooLgffXSXLy+I6z1q9erWN29uK4TvPpyLhOt41uoq4H6NKq4dCgfGgUJAGFx/PYv9F9u7knmzA8JB2Fz8tBReWZyMHNjJ38ZF2p2CkgfxxD3KikNL1DUgHYbmX8IR125KRHj7nz58vX3zxhU3/mSjMpId0U3jefPPN42RfykC9l6+JyzOvhGXmh3HZtT8okWgwfbW0gd7QcKKifuedd2yZLAW9cTYrF7hOmadss9/r1KlTZcKECdbGYMPORGO3LwE5LF68WJ544gnbyKUX4Uw2cvsSqCewvwMGDJDzzjtPJk2aZMsZMip2b3C+ckX9icMIRxS8hTq/lPUm8Ktf/erXEBMEk20je1yAbp9GunAhLjNmzLDdmnhzbrnlFvnOd75jFY6W+ty5c23XK0Ydksjel7RWKajsEUo8EJR58+ZZ0njhhRfajYkduLZo0SJ7UBHwTA7YONtysZUQ31944QWZPXu2LFu2zO7tBth+iZf58ccfW4/gZ599Zl82xIgtZNi/FXJHWtgm5KOPPrLdw2wcDWl99913bbrJI90El1xyiVxxxRU2bgdIGml78cUX7SfxkAbkx/MhcG+88YbNBySQ55N/ZMuehXQL85zXX3/dXuNeyCZb3RDHrFmzbBrPP/98m2YKLXmBBOKChlxRMRDXueeeK5WVlemUnTx4Bt5b3nmuzempeHi/vP9Ro0ZZ+aEPHJnu4mICeoVseCcY1mx5bTR8fdnKhGzeHpPaWr/twr34ApFpUyvEX7yisbpOY4V9gHNt3I+eUB7xQLA/JbjgggvkoosusvcVK5ANesP2cG7jfi8oc5RxGs40lrEh2FsadtzHFk/Z7isGkHfqHvKLXc+WRxrQH3zwgd1nGlsHgbn22mstqSlmvaEugMjx7sl3pmy4Tj2InrB1KfUHYalfOMfvbPcVA8g7dSZ1FNwhWx6x19SlELwRI0bYhuX9999vG1HFrDeABuLgwYNtuXIoaNYtldu0adMsoYO0/PGPf7RudAT47W9/2wqabt05c+bYjXTZC3T9+vXWXYrHCu8TY94QOqCAQ4JooTkvnxewdZScl4Ph48VAdugiRokhWXgFqHAhf2QMDxMeNhSALkXSyV543A8poY8egkTh4H5IFhWOUwiIFwUDYgpZI6xLiwMKRssbkkn+MMyQR0jhM888Y58NME6QMvYoRBkhtKQfTyEeObp2nWFHFlwjPxRSyCPjHqkgeDb3vP/++zY+jCEvD+Um72dCYamwqKAfe+wxue+++zoqbUVSKkIiF53vl+88EpI7byyT2ur0JYXVG0jd97//fbnrrrusISolUJazeSEo/9hAbCz2hzKNrCjn2JtS9kIAnAWXX365tTc4FbB7pYBsuuIF19Eb5IPeoD+uMYHOcOSLo5iBPC699FL56U9/KrfffruVUSmjIKIHQqGQ3H333XLTTTdZjxUEDqNNawISQqvrhhtusIL90Y9+JN/4xjdsF58jLbTEMFwOnOvOiOEZeOSRR2xcEMyysjJL2CCLuGIhUTfffLNcc801ctlll1kv3Keffmrvpfvj4YcfljvvvNN2OeNFhIxBEnku6cBo/M3f/I01IngXIYQ///nP5Qc/+IFl/pCqbECB8KQ9+OCDtsKiWxtyiKfCkUOM9K233io/+clPrIG6+OKL7TMgongRKYA//vGPbd6+973v2fTh5aPVikzwZLpCSlqRHfnHy0dLllbJbbfddkZIFiSTd47ccnm2ShM+qTK2ZOokv1wyLSAD65LmjKnczT9FSm/oXsJLTuNH9SYFyjdkDyATyj2fVODudykD8oL9pJFAnQBKXSYAGbj605UlPmkocM3pVKmC8gMvQHeoJ52MShUFEz0EhbcOAoUi4eGDLCFQuh7omrn++ustaaG74corr7REgMGQ2ZSOOHIVWMgU3kK6A6kUIGHERfcQHi6eh/cLTxxdrngHMQgQLVo0ECGIH15HPIl0K0PwOMgHYWD7eOMgUHjp8FLhHYRAoiA8PxPci7EhHMSO+F999VXrJXStKIBiET9xcEyfPt2STO4h7RMnTrRd1sgJryPfSQN5cjLJVEx+k1bkzScVJ3I6E+C5Z+rZfRm8MsTCZzJZ2oYlE+iv6s3xQC6urHvtIQQwl30sJSAbyIuTkaITmTJBX9AbzhdzOSN/heiD6k0neqQNKA/dspAdPp0bHSKHknmVK9vLcIYLZcw3yBgPIgdwFQT3OUVmzBtdnxAlPHh33HGH9XhBpugKZZwbhAgy5yVt3AspdN4wl0avUUVBshUU8gmpg9xBLiFdkFDGqnnzyr1c84L4uZ/DG5bv7lnuvJMnh5dAAu+9ij4Kn1bQiq6g3GYru66rFrtGQxRQ/vHiEz7TjigUgDqDxr7TG+oKvqM36AyH1hUKhx7TfmewvOSESRYoHWPo8Kox/owB+8xkpauRblAUj7FvDDDGw8aMVBTTS7C8yFRS91wIHsQNoga5o3sX9yzjFTCYxMuEiuuuu852i9LFyXmMJ89zcZF+DkgrXa90q5I+0k4XMZ5DF9YBwkUXMJM7mKRB/HQPkz9H4sgPnke6rck/4/aYLAIpxtMIKYSMQkSRBeMQCUueyBvkFs8e9/FJuvAGEq+TAXklnTxP0QfRodJqaBXdA6KHDaJ8U97pGcFuUOaxqcU6oF5xcqDuokeIOoDx7NQJ6Ay6w9Ah5yRRKECPiR6AtHmJHmSOblzG6TEB4z/+4z/sDFy6d5khhdeLMKz/xnTnxx9/3JI9PG7ZjBjGz+t25Vk8k/CQSsYKQrhYqoHnMNGCyReQKcgShpPJEqTHdd1iSCFHxOWey0FXLWSNCR2/+c1v7EziV155xRYc0uCFK1w8h+czyYLxinRPExbiRpyMsePZ5JWJKxA95EMXLmP3aIH97ne/k9///vfCJBK6bckTXlK8k4zVc/cywYXnunTzbIgiaaSAn0m498Knoiv8/riUBaIS8Ok6cZmgjKjepIAMsEHYLCat0eijEciELobKMMykWJGrkZ8Lam+6Av2gPsBZgEMA3cGjhzOBRoKrP0sdam8Mp8q3vEomICm0HBg/BylBiG62Kh4vyAceLQjZo48+ar1tGCsOngMZosXBoGwmNTBZAqV0cB4xDB/j/LhGq4VnQhYZ+wZxBHjdiA/v3r333mvHCGI0IV2Ep3uY+xlzR3ogWhQMwHMZ/4cC4E3jE4LFPYRlzB730TXsgKKQDwgXpJHWNy0nZEE3MsSWwkd6uY/WFQWPND/00EOWyDGGkTjwfHIdb+ONN95oZ7Aif9KHHJEVskBGdEkTB88gnZBQZE4akVNvgXQ7sops8gFCyz3km7QVs2HhnaCX6ADvqPu8+sx7N/pigpw3qUzGjCo34dOXihDYBGRDuUMf8+kB+oscmdRDmShmA4xsKFOUc8p9NtlgT7hOWCcblsfAzmEri7VcYTvwYpLHXMureIFtxv4xMQP5FLPeYPu7W14FoDfUP9hht44r9TDDlYrZE4xs8i2v4gVlCl1j4ib1bzHrDci2vIrPELwk3jCMDIY3H6jwaHmigN4lEhAkign54kXwEiBQKCO/KaQkAKFTGXA/JIgC6/WcERYCRHh3jbh5scQFGSIMBoJnkR6IHs8iYxBW1/XJd+eBg/jxyUuGREHIHMEkHNe5Bzk4kkMaHTF0ICzpc2G5zoExJzxpRA4YbsKRVpQLWfFsflMpcj95pEC6rmgU1pFliCBGjft4DteJn3u4l7Cu5dZb4H0wq5m4vQQ3G8gHxgVZkq7eJJx9EcgdveedQE66My5GNNLaxrp6SakxZa2mxlfUnbiUaWSD7kNO8hleZElDifLq9L5YgWwoUxAZ7FmuvGLjkAtlEDuBXaASL+ZKCYLC6g00zrHH+fQAu4neYG/RnWLWG2w+w5CoG1zdkQ1Ob7DF1JXIBb0pZtmQ55UrV9o6ivo9X15xyFCnomPFTIAB9TJr+zLhk3Ll0GOipyhe9ITolRp6QvRKDT0leqWEQoleKaKnRK+UUCjRK0X0lOiVEnIRPdUehUKhUCgUiiJFPyF6DNrt2cBdhUKhUCgUilJHvyB67DHAAHeFQqFQKBQKReEomOgxCYEBn24QPkuKMIHhZBFPiOw9ILJ7L89In/QgEhXZvlPk4GH6n9MnuwHx7Ttk7tktdlN5hUKhUCgUilJFQUSPwY/Lli2z68bxnXXfWHOOhYVPFuGIyLtzo/LGu+32uxcQu4aGhLz0+hFZuKQxfbZ7sKzFh58k5OW3jkhzG2e0y1ehUCgUCkVpoiCix2xM9pR97733LNHDk8dCvizUiIcPbx+fmXDXOHIhEkvKinUxWbo6Yr13JvqUZy8dnd/vk8ryoISCbNacIn8ceO44LMxv7sGDFzZxrN2UkKUrjtn4OiJSKBQKhUKhKDHkJXqQNFZqX7hwoXz55Zd26i7Ej/XeWM8NwgcJ/Oijj+z6dQCCx/ePP/7Y7jv7zjvv2KniTBnPhqghaUebKmThMpFXZiZl9sciew6YZxuOVlbmk3PGDpBhQ6utx++LNSKLvhCZNVfk/Y9icuCwyH5zzF0g8uo7CZm32MTVaEhfwo3p07F9CoVCoehfyOY8UShOBAURPbb7gtTRZQvRY/0jSBsePojcrFmz5F//9V8t4eMai/0++eSTdhuvuXPn2u26uM4esV29eylF5tTG7Ql54bUGmftpqzz9arM8/nyr7N4v0tyWNOStTdZsCEtTs8jzb8Tl//tDuzz90lF58719smqDyFOvJuSJ5w+be5vkjVmtsvLLuIlZC4lCoVAo+h+U5Cl6E3mJHgs1svUYC1qy4Ceb+bPrA4SNbtybb75Z7r//fvsbQsdOCXj/2H923Lhxdusv9nfdtm2bPPPMM3Z18y4w+pw090bDrTJ5fEAevCsg06b65YNPWuXjxTG7w8CaTe2ya3/UdsWu25KQTVua5IrpAbnhqkrZvjsp78xukPFnR+WBu4JyyYV+aW31kkmFQqFQKBSK0kSPiR57rrLFCjsEsEfrV7/6VbshP3vH4vFj268FCxbY76zMzMrwxMFWXXTlsoK+Fz5D9AI+kUnjkvK1B2rkthtC8si9lTJoYLl8vrxFoobcJUzrxrZvTDi/uWHSuJh888E6ufOmobJvvyF1yWZzzyC548YqefDOCpk+NWDjVSgUCoVCoShlFDQZA6LGNiMcbisWPt3myXj4IHW4m+m6hczxffPmzTJ//nzb3csefGzQ36XrNk3GAibKUcPLZdRIkbKgyLDBPhk+pFIOH26zRM9EllpJz3wG/HE5a1SZIZ4+KQ+J1Dek9hIdNarCkE+fDBogMmakSa+NWaFQKBQKhaJ0URDRA5A877gBfrO3JeC8d785SB3H9ddfb7t1OW644Qa56qqr7N50Xti7Ej5paQvapVGSfG8XaWo0BK4iIYEAYfiXInt49KoqAvY8nLO6SqTVhG9osnxQ2uPme0sHh1QoFAqFQqEoWRRE9CBxeO0OHjxoZ97itXPnM0GX7owZM6zHj5m3o0aNktraWjtzl/vp9s1EkskYWxMy5xPG44nMnp+QvfuPycXTKiRUTiI7n8N39xvv37Qphty1icz8MCkr14t88rnYyRiOGCoUCoVCoVCUKgoienjupk+fbona008/LY2NjdYzB/lzYAzegAEDLJG75ZZb7DFz5kz5l3/5F/m3f/s3O3P3vPPOk+rq6vQdKeChq6tqlIrgMZn1/mH53RMHZdbsfXLxBe1y2w21EgomZHDdMampbJWAPykDa45JdWWT9d5B9K682C83XVUt8z49KP9m7n31zb0SSB6RQTXNduxf2meoUCgUCkW/QDYnikJxogj86le/+jUzZRk7N3To0PTprsA7xzXG4TEub9q0aTJ69Gg7MYPzrht37NixcvHFF9uJG+PHj7dkEGI3ZswYue222+T222+Xurq6dKwGKLP5H6qMybTzgnLu2KDUmu8XTPHJfbcPkCkTQxIs80ltbUTOn1ohY84KmfjCMnVSmZx9VqUEDJOrrvbJOaPLpM6Eqa1OynkTfXLz1SG5eFqZTJo4wITp2t2syA1mUTc1NVk5DRo0KH1WAVg3khnjlAUaNKpLnWCpJWQTCARs+VbZdALZUKZoFNfU1KhsPMDeUPcwzId6QmXTCepjlilDZxgHr7LpBEPFWO6NOgoHk8qmK/bu3SuDBw+25crBZxQquXXrVmuQpkyZkj59PFC81tZW+x3h0n2L8aKrFnA/lSEePSpDwrMnLgcVgJu0kQk7ro4Vk+FjCZ+Ew1FDGv0mfMDEk5RE0pyLJMx3n5QH/dIeiVs/ZIX57l6wyYK0hZMSCcfNMwzpNNeYqRsqD/AEG0aVIT9YCHvPnj1WVhB1RSfQfSYZoe80aFSfOsHMemRDY49GncqmE8iGMgWRYdUClU0nqEO2bNlinQXOYaBIgfqUTQZGjBhhK23qVEUKNBBWrlzZ4UxSvekEJJjJrxMnTrSOOYeCtQdFo3XBQWUHW3QkD/AdMucUkk/CoKR4QLKRPMA7CpX7DUGE3PnMiyszRjFoiR3J85sAFaGAlBvy5/MZ8ma+h8oCXV6uz4StqvTLwAHm3sqgCZu6hyCEU0VQKBQKhUJRiugTzQRomIe2pT870XmdiRjHh3DXLZ/r+KJQKBSKvg7vag4KhaL30QeJXn4ojVMoFAqFQqHIjz5B9BQKhaKYgddKPVcKheJMQImeQlEgdKynQtF7cORXSbBCcWqhRE9xHJTQ5IbKRqFQKBT9CUr0FIoTgHogFN1BvVQ9h8pLoTg18MXj8eTmzZvtop7nnHNOt4VNvRnFC94761odOnTILo3D1nUO+t7Frgd5+PBhuyYka1vlksmJyKq/VnAur042LLHUnWxKCe6dsjYlZYq1R1nXKt96aJm6kCnL3tAVb5zZ4st1vbffK/Zm9+7ddvktFr/NFX9vP7c/gHX0duzYYXWGRcid3uR6/6UkI9boZaets846yy73lq9MlRLQD7abZRcy7wYYPqNQyU2bNtmVpjHS3SGXMuUzBidzPVOxe3od5Irfnc92TymCBa/r6+utPLyLLap8UpVSQ0ODNSqsDZkLJyKrTB3ORF+XP7JBbyB63VXYpQT3Tqmw2fObdUQLXdy1ULuUTW+4p6f65A3fk2snC+wNDQQWk+6yY5IBz+3t5/UnQGZYhBwSrLuGdAWyoYFAHcVavchG5ZOCk82FF15odyhz8JnCZj16LS0tMm7cuPRpRSmCCpv9jCk0bHGn6ITXo+e8naVeGTkgG7ZryuftLCU43cCjR5nCo6e7P3QFRI9KCZLndn/wEstSBrs/bNu2zZIZ3f2hK5xHDztcW1urHj0PKD9ffvmlTJ48+XiixzY0KFZ3W6Apih9U2G4LtAkTJqTPKkC2LdCU6KWgW6AdD6cblCnIDF4ZSLBWSp2gYcn2m5A8SLDKphN4gtevX291xpFgLVcpwFVWrVplh5pBglVvOoHdWbp0qd0eztt1G/hf/+t//ZqNpWHJ3u46RemBAsRYTQoOBUjRCbwPeL0xtnSnKDqBbJqbm63eZHbBlTqosJEN3k7GE2ll3QlkQ92Dt9N1wSlSoD6mBwG5sLWoyqYTyIahZthhdEdl0wmI3t69e239je44BP7n//yfSvQUFhjexsZGW2ErmekKJTO54WQDmaErRdEJyhSNJ7ydOtaqKxzRg8ggG0UnaHS78YtK9LrCET3IDERP0Qkleoq8cEQPo6JEryscmUE2SvS6wkuCleh1hStTTMbAo6foBLJhogoVkrdSUnQSPXRGiV5XKNHLDWTDMBomxaE3DrZzW5VIoVAoTh1oaXMoFArF6Ubgf/yP/2E9erQg1KNX2nDdTOrROx7adZsb6tHLDefR067b44FsqHvUo3c8qI+ZyY5HT8ehdYV69HKDxmQ2j14H0dOuW4USvdxANkr0skOJXm4o0csNJXq54YgeOgOZoWwpUoCrsGQRRC8UCqXPKgBEb//+/VY2XYjeP//zP/dJotddLweXCu8ESYUkPu056R5K9HLjRDx6paJvSvRywxE9HaN3PJTo5QZEj/GLjuhpA6ETXo+eEr2ucB6944geHj1Wtc9F9LiRBZWXL19u1zziYN09PlnQkU8MPWtpsfUGa7ew1tiJgXEsIi0tPlm11nwXn9QZ20h9iZonzR+uHzkmsnZ9UqqrfBKqIFQ3hcCEb2vzydqNIu0RkQGmjvaWGdZHW7NmjU0/wim0QCEX8s2SG+SXim7t2rX2fH+t7DAujughi1zAQLNLBC1O8k2eqciK2RiR50yilyu/6Gh9k8i2nQmJRBNSW+PvTkP7PZxsmHWLbHLJhfIC6aECo9ygN3i6il1vKFOO6OXLK+UKu8p9xe4BxN54iV6uvCI/6iAWgmWdTwD5OfF6pu+D+tgRve5k40C5Qj7IpNg9gNgN59HrjgRThtAv5Ih9IhzyKeYyhWzw6B3Xdes8egTItrUThfGDDz6QF154Qb744gtZsGCBzJ492y5YuHr1avsJq0bwzz33nFx77bUn1XJNJJKye19Sfvdko1HyMpky0ZfyyZk/VKAmObJuU1xeenW3jBtXKcOHehWakDZ0+hPi6JPDhxPyxPMt0h4tl/OniPjT75k8Q1aefPJJu7DptGnTClYCCCKygABPnDjRLor6+OOP20I5adKkdKj+BVcpIYNcHj0qa6Zvs5gnCsXMMBoKKBWFrljh9Vp159FDR481isxdFJeZH7ZKTWVUxo01JDh9vRjhlU2uRo7TG7ZbpMWJvaBywnZ4DVKxgTLl7brtDpS9OXPmyKxZs6wNZWHuYq6wkY2zHbk8elTSb775prz66qvW1n7++eeW0GCfTs6p0Lfh7bpFPt3VSzSa3n//fXnxxRft/q/sGEGjq1hRiEcP+bFX8IYNG6ytoa6iEYXtptFVzMjm0fNDdgDCcwfn3HfABrn333+/Pdhag+1Hpk6dan9/5Stfsd/ZuBuPHgSIbX8gTgibuNxBfKyGThgMv/ea92htS8j6Le1y4AheuKS0tCYlEk1dE19CBhsOMv2CWqmr8Vvix7WwOVpa+W7yYsLFzPnWdlMIzL3N5ti8PSz7Dps4DJH0PgtyMn36dLvKtjtH2vDwkY/MPHCQD4zyhx9+KIsWLbLhqOicUpFH7s+WR4ybi9vJur8cLt94HEg/uyDgBaahgJeXc9nuK5UjGkvK9j1Jef29uDz1UliWrGiTY/WRrGFL6UBvqNB37txpywaVEY1K9GbXrl3WHmS7r1gOkO28O7AxyOGVV16RJ554Qj799FNLcLLZnlI6yD+r/L/77ruW+N51113WkYB3D2JD5d3fbGhvHuQdD+dLL71knQwLFy60ZarU9YYDewNP4fvZZ59ttwNDXyB/3XGPYj1sc5EvmaAFwUGL0hE9SN0VV1xhWfRVV11lz913331ywQUX2DggMBipf//3f5ff/va3toDS2gCQAFpjKORvfvMbeeaZZywxRFm9ICWcCcf8smGrT555MSL/8XSrvPm+yIHD5nrCJ3HxmTCV5t6A7Non8uqsuLw1R+SPz0ZkztwmOdogsnBpUv78XLv86dk2mbfIJ01tVR2+Pi+cIMgrBYSu6Geffdam/49//KN89NFHHXlwIC8rVqyQJUuW2O5aPJwQPRQIj8XTTz9t76eFtX37dhs/BA+CxLl/+7d/s3L45JNPjou7LwP54J2gZURlzTZpbLWCmxjPXn/Ky8kiWwu7qVnk82WmDCysl0RMJBSkeBWvR6ZQOKKHfrClE3rDgVeG85SdUgZEd/78+dYeYCecZ7w7L04pAHuDbuDZpJ6B6D3wwAO24qZhiccrW91VKqDRBOGdO3eu9eAV+zCIQoFOuPqI/ftx4uCgorEA2UNupaY3gX/6p3/qmIxBKzubokD2XN82ROi9997r8OQ51zndunQ7OKMNwYEk4UamoC5evNiSHwRNfHT5Qpbo5vSODcQbhyfvtffCsv9AxLy1qLS2iSxeHpGGYzGZPKlMNu5IyCtvNsj5UyrlUH1S/vXxiGzY1CSN9S2mWo1Ie6zKEMRmOXgoIfFYXJavaZVte8tk+tSAXDmja9ctHjiIGUAp/vSnP9m0QmbxQGB8hw8fbq852aAojOv7+OOPLbmj0kJ2ED5aWK5LAm8fsr344ovteVrrdPcSD129PAc3Ml2/faGLhnTz/khftq5bruMyx9tAnt2YRioqPLq8x0InKvQ38J4xHLlkA0wQaWuNy6jhSRk1olwOHIrK1Mki500KFX3XLbJBh7N13XKdco9ujR492jYMqJhoNFBOkGex6g1lBi94d123hEEW2Ek8D8gE28re48XcBUe+sY/ddd2iT+eff76tJ5Af5I6eFHTt6quvtra5GAHJzdd1i/wIg2xoQFE3IxMa38XapQ3gKt113XId/kG95PSG8oeuQQBxUni7NYsJcJqcXbc9PYD7BN5zl156qXznO9+Rb37zm9Z44eFDwK+99pr9/NrXviaPPvqo3H333XasBS0SFNbFnToShozFZOTQNvn6/SH5q4dCMmWiX96b1yAbt6S6cncfCJvPhDS1JQ0hbJOzh7fL975eKZdeUitzF5iWYMsxeeQr5fKNB0Ny+cUYyybbbWsi73gOCsGzqYQgLygB7m8qnnvvvVcefvhha3AhdoR190HOOA/ZobVw4403dgyYpcB94xvfsPmn5Un+Efxnn31mSd71118v3/rWt+TBBx+0hZHxJ5AkF3dfPjA+rnuWCohPQD747lpKxXyAbOc5KiuSMn1amdxyQ5Wcc3ZSyoJd9a1UD8oOuoPOuAqIssJ3rmWWr1I7sCfYzVtvvdU2KN0YolKWCQc6QqXsvDHY55kzZ9pG80UXXWRtLch2bykclB961m6//XarN5CZbOGK8ejuvTubQmMgs56ivi92ewMyz50U0fP+plDCIm+77TbblXvJJZfY1inMGyKDx4+uXbo68YQxzoKWLgNsM8d2+cxRHozKlTOq5IqLy+WCKX65/spyaW5LyOZtePnMS5KEJNKf1aE2uWpGpVxxSaWMHBWSrdvaZPKEhFxzRVAumByUm66pMKQxRqq7PMcdgE+6TGghMtburbfest2wTNCA1AGnHOQV7xX5xRNBS5xCxv2XXXaZ7d5GBtwH2YVE0k2NLDBSkD/yTRcoXRAQTW96zuTR0wLg4L5nXi+lw+9PSpVpRFVWmta3z8gyS5hiPnK9f3TKW3Yyr5fC4ZVB5kGFlOm5yRauFA8nCybyMBaNXqMZM2bITTfdZO1vZvhSOtAVPJ7UO6o3nYeTg4M7X6q2h+OE+wudYnmBoaILE8MFe6ZlCoOGyOFGxc0K8cHdDKumNXLcTFeTKBAwKRsyuFLKgnz3pZZF8Ruy1xylDk2DhVVoEcdl+LCQeSZkTKS9PS51NRUSKuMekYF1fqmtzj7ThmdzkGaI6fe+9z257rrrLPli9hsDpBmLR3qz5dkLyB7555OWBAUQIdN1BakFxOMdP8Dg4r7mRibN2UD+nUeGSst98o6Bu6ZAMxUOrmWNrlAWnPHBy+dsRb6yVUpw8lGkZEE3HOOmGYuGJ++RRx6xw13U3ihyAXtDvYSNccD2OFtUavamxx49h1zXnADdOX5DeOgOZTo8XZZ03TK4lq5N3O8I34V3XhAmWjD5ghm1HLv3JyUWjcjAWvMc4uVxyYT1/vl9CQkGzE9zKhRKmtZxQPYdCkhDK7Nvk3LwWFKONQbw53U8x3sAKiE8b3jcaC3+/Oc/l69+9auWoDKpBIKa7V7uQ5ncb/LrvjugWHj+6H6ARNK1+9BDD9nZvsiE1ry7py8fvCdHSvFGkm8KD7IhjxD5bPcVwwGyne/uQCPxOWe7VkxHPtlQJlyjjwYPn8zKd+NB3TibbPcWy1Fo/oDXhpT6gT1maS8a21deeaUleeeee64lednCF9MBsp3v7nDIdq1UDkBdS92EjaGewtlEPQUXKeZ6KtfRQfSA90K2IxPZrmU7x+Dryy+/3LbM6LKEUK1cudJ2YfISupCj9BEz5O6Tz1pk1rykzF2UkFkftsvwQY0y9VxacRC9mPkw95qwfvPp7qutEZlxUVDWbY7KazOT8vFnSXnjvaTsP4QHqjNtmQeEDfLCRBPWDaQiYtwd1yA4XjIKSDPnmK7NuD4UCrgw3rAoFp5LKjuWC8BbyMBZurAZv8f5zPv64kF+KUAUFiaq8D7JP13zEHmuZbuv1A7zx+ol3ma+ZwtTSgd6Q0MHTzcVN3rDgR2g66mY9QZkO5/vKBWy1518sMHYSGwy9pWKG/v5xhtvWO8eQ2Gw29nuLbXDIdu1UjsAQ6toDDA0iomPbpY2vXZuDGy2e4v1CPzX//pfu8y67Q7cADFhEsUtt9xix6YB7mXpEAgMU+Adm2ZcHuMoGGTM2DdmuLqFlhE8LbN77rmn66xbw8eamhOydu0+qaj0y/adDbJ2fZN5eLM8dFeNXHJRjRxrSMiO7fvl6stqpSxowmzfJ9dcViejRgYlEEjKoIF+U4nEZM3aQ7Jxa6sxEhEZUN0uF00VmXYeOzikH2ZAFyppYlIFA6LxODAbmDyyDg8VFF5IxttRYTmQZ+TGwsG0FPBOMo4EQsdsOQgslRrnGCzrZMVsXfLPOEAI0x133GHjxiN2puE8LlQyuWaWkk7kwMxAuqDJO4SYiSnFOnMSIBsqG0daugNzfg4dCZvyUC+TJ/pkwjlVRd2V65VNrgWTXTcbjSkMLnqDnaDcIU90rhiBbMgrJBfPfb58Yl8hMNhGZk/2BbtwqoBssCP0EmSbdYtOsewMdQVyIyxju7Gd2Cm6b6lfiAcUkw5Rf9AQQi7esZu5QN1Lo5ux8axvWsx6Q90Ll6COcr0BmaC8AWwNB3U14dGZQsphfwUcDV0gr94hYT4jhCQkDcXCuHQnACKhcmdiAVPe6XZ05yE1MGeWEoHAUPiYeIHCEZbfriWPG9WRAwiSd6yFicrOpt2w8Zj4AlWG1EWEbaSGDwnIuROqpbY6IEfrE7JzR71MGFcr8WRAtpnvE8fXGoKXernhqMjuPTHZsbNRIjGfDB5UIX5fUoYNDcjY0SGTRxvMggkikDUEQ6WDUmBIMCqkneVhmKJNpeQF8kLZCEs48oKAR44caZeQ4DoGG5kwMQOFRHZM8CBuWhXE7RSvL4D3AjGlwkYW2cC7ZpwhBQeSTN6p3JFfMY+ZwbvA+yWPGNLuANE7eiwq+w+0G50rk+HDKoqa6DnZYFyZJZnNhqA36BdEz6s3HM4oFyPIM7YRe0dj19tYzAa848gSz0Mh4fszkA31AQ4G6pJMveE6xA47iz31Anvjls6gdwg5UX+hT8VQieMoIe/ogRv33h2oWyB6OBRwnBSz3qALOEyoo9CDXO8buwRZpo5HHm7yJLanWIGdxVGFbLyOO59RkCSFDSKWj+gBIoJRIzhvWHfeK0R+A6d0hOE5fHKOsNme5+Ly+VI7X/A7EPTZSRmp6+awabCdYxI3j+G7Wx8PECYWw62PF8o831zjUd4wDigO6XDp5LczLFTs7nwmSJcLRxiXL5cnlw93zv0uJO4zAQgclRJpykX0HMhH6h2l5JbtPRYTekL0AHrH+0YuRS6agoieAzqDXEAp6I1rPNG6LoS4IZtOvSlu2WBvcDJATDiy5dfZmUwQFllSn7z00kt2MX5WfLjhhhuKomehp0TP1S2lUKaoP3EiQWq7I3rA6Y/Tl2KXDXml4ZNJ9AL/+I//+Gs8TATwdqF2h1zCyjzP78xzCBuCl09xU/cSHqJ2fGXpjRfylnHZAvLn7rVH+nwmMtPJd9KYi4h6QT6cAmULm3muJ3GfblCA3OxgClB3IO2lUHAcqFDwRJHfQiuSEhFNh2zQh1xdtw7Izx2lAGRDmXJdt4WgVGSDvaFnABLs7WbyAlk4G+s9nIyIAw8GY/mow+hZwXYRpj+DfOGNQmfoIStEJ0pFb3jP+bpuHZz+lIpsIPw0upGNt0wF/uEf/qGD6HkZoKL04IgehSIf0Ss1UGEzZgjZFIPHoDfhZINBzUf0Sg0nQvRKBYUQvXwgDrxfyJmuOYgenzSk+zNOhOiVCnpC9EoNuYheR7NHFUmhUChOHTDCit4FjQuGHDGpjT3ZIUb9neQpFL2NLl23fcGjR0uG9NBKK+ZB2n0R6tHLDfXo5YZ69HLD69FjQoY2qDvRGx49gGwpk9gsvHlu+Yz+DCcbdEY9el2hHr3ccB49ygF649Dnum6pMJ577jmbWJYdUQU/fVCilxtKZnLDyQZPSubs9FKHEr3ccI36kyV6lEnkSxx88ru/A9m45VWU6HWFEr3uwWofyKYL0fsv/+W/WKIHE2Rh4zMJ0kCF8cwzz1gDyS4SquCnD16ip16rrvASPSUzXaGyyQ0lermBvWG5HSprSNrJyIZ70b9ika8SvdyA6LlF+pXodYV3jJ6X6OVt+qBwLL/CTghEgpCJiLX0WJ8GsE0YiwuzMCjhWfTzs88+szOhWDeOJQa4l/CsO8euEOwmwaLEdNHiol62bJl88skn9hrhMJCK0w8MCu9KoVD0LrSyVigUZwJ5PXqsdcTG/gsWLLDbmBGOvQdffvlluwMEC12yrdlTTz1lB8Xu2rVLHn/8cRseIscncbCuC+tJ/eu//qsleR999JElhKxJRlftzJkz7cLFED7IHhv+syaSGsfTB+fRA7QIlPB1wuu1outWZdMJ9ejlhtejp7NuuwJ7Q92D5+FkPXrFBvXo5YZ69HKDeimrR89VWHxmO5yCsRUNEeB9+/DDD+0+tWwdBolbtGiR9fjhnaPbFbLH4pX33nuvNfzPPvusXesIgweRIywkju3CuJe9Zdng/7777rM7S/AMnpstPXqcnsMh2zU99NCj8EPLkR566HEmDz/sONsFd9BKh5DR/Up3LSSNwX548liBGVLGJ1Pb6cJdsmSJ3HTTTXbPWz6/+tWv2vOsXE4rBVx55ZXyyCOP2E+8gaz+/dBDD8mNN94oX/nKV+zWYKQrX9r0ODUHyHZeDz30OLFDy5QePTlUX3rvcFwi84CPuE+cVO53MmHu4zNLXP31yDtGD88am2vTxYo3jj3mmLp7/fXX2/F3ePXYz5XNlPHYsR0SexDSvYU7nnvpEsYbCNhCikUt2YUDtyt79LFtEp48XI3sfQvRUygUCoVCoSgUXnLjSJwjcAnzCYGLx2ISjUQsV+Foamy0w8oOHjhgh6DE4rHUfSYcQy8s+UvH2V9hu267OwDE7qKLLpIvvvjCjq9jbB5E78iRI/L2229bgsZSKCyvwD148Jxw8ARyEIbfeAi931nziPAwas4hWLqDAb/1OL2Hyj33obLJfahs9NCjdw8tU4UflsilDzhELIaHzpE0dySlva1dDuzfb+cDLPnsM/lgzhx588035R3DY2a+/Y7MmjlTln6+RLZt3WL4zWFpqD9mjnrDUZqlra3VEMM2e0SjEUsGXbydR+bv039k05vA3//93/+aKe4IJNfyKnj1IGtvvPGGXb+GsXQzZsyQOUZIbC58xRVXyD333GPDMskCogbxg7wRhvF8t99+u93U+/3335err77akkUSwMQLPIVM5GA8H128kMeJEyfq8iqnGSguLRpkrsurdAXGw+11q+vodYWTjU7GOB7Ixru8iqIT2BvqHhr+OhmjK6iPdTJGdiAb7A12mB5CAJdIQLIEspfy4KVEBgk0v42u1Rt5rl6zWhYuXCSfLV4sK1esMPxljSV927Ztkz27dsv27Vtlh/m+c+cO2bd7l+U7Rw4fspM/2lpbTVlulGNHj0jcPsPUlyYdgWBAAmy4b5EiWmcKyCHrOnqFED2AoWJCBuTtu9/9rowePVpWr15tido3v/lNufDCC23EFF4mWNClyxIrHIzxe/DBBy0BhAgyNo/uXSoGZqLRHczYPu7hXhQcInjNNdeogp9GOKIHlOh1hRK93FCilxtK9HJDiV5uKNE7HpbMGblw0BMYqgiJGLHY876UJ81dxxb5fH5b/tAxuMon8z+WL5YulQ3r18nOHTssIao315qbm6wjCy9ds/ldfwwv3lE5eGC/7N+7V/bv3yMHzOfevbvlkCF+x44dNZ+HeLTs37ff8Jpwqks4HpNgIHhG31VeokeAXDtjkHAECxGkC5dlVlBAIsPzxiQKvmPMGGOH547vnLv00kutt4/lVWDfnCMOnsXLoFt47NixtqATJ4QRgscsXOJSBT998Hr0eE+KTnjJjCN6qpspZMpG5dIJV6awhzRqVTadUKKXG5AVtwVaqcsGbkL+kQnf8doFyoJpMmfkgmgSSQyyCSziN58pkheVndu3y+KFC2XRggWyYd16u6Rbc1OzHaMXCDJ0rMKWzbJgmdQYOcNzfCaSpNHNqCFwDQ31cuTwYevNa2luscsBtbe1SUtrixw9ctR8b7U6HIvGTLxNpoxXiT8QsOk6U+/MET30xsG3bdu2JDNpESKTJHIBAbuxdxgshMxARpgwv70uVBY8xvDz3RE4xu9RIRAH5xCuA+dZbJlPrhE3hzehilMPPK5MmkFBIdmKTqDruPHRczdZ6EwV5L6GTNmoXDqBfaRywQayuoDKphPYG+oeGvuu4a9Igbpwy5YtdnULHCylJBuonAN8g58+vyF68QQds1YWqWJk/pj/8ZghZdFoiqRxwYSPRcOyacNGWfjJp7J50yY7n6ClpRWCIkHDPXiGDQshjMcsVwkZshcMBgzpC6bInnlWNBI1ZbgdYy/VVRDBkFTV1Jj3MsRcFamsMPymsloGmt91NbVy3vkXyIBBA6Wmti6dTp5hSB8JPQ1AXngvcZ55e2gDv/zlLzs8et113QLIWYcwDTDszJzNVELCYdgggN7whMsWnt+QOhee+x1xVJw+aNdtbni9VnRPOp1WdMpG97o9HsjGdd1i41RvOqEevdygwqbrljqxlLpuoVdwEfcvNe7O/MNjZ9Aph06PmQ1vwtnJoEZujQ2Nsmzp5/LJx/Nk+7Zt0tLcZO0TnAI9s5zEEMe4Ccv3CnNYTmKio/HhN9c4ggH2TTbfAylvYjyWkHZD+vAIhtvDliDi1WtubpFj5l21trXZ+OE4EECfjdOkm/+p5J9yIItsXbel00xQKHoBFCSFoqdQvVEo8gHCZsidaQA4ggchg4BB5KxTjMMUJevdM+SLg1OBQNCSvKNHj8jcOXPkg/dmy7bNW6TJNCQsefP57aQJPH+QPsgaXeOHDh2UhsZG2ysBeP6x+no5YohbkwkHv0ylKWHH4vFJN+4euxzLQdm1e6ds3LRB1n25VtavWy/btm6zXbixeNSkh+VcUiSUbmSOM2UHAn/3d3/3a7pNEVg+j56iuKEevdxwXitakToZoysyvZ2KTiAbyhTeBHo51GvVCfXo5Qb1sRujVwoePQgQ+mBns5p/HV2dhhdxHtIHWSOcJV6GPFkvmwnvyB/k7dN5H8vC+fPlkCFheNIhZ1yOE5547HNiEjXlkrIZDkesJw5yxjCLWCRq421qaZbGxgbrucOrF4EgthqCaA6eCXkkPO+o0egwcfOgAQMHyMiRI6S2rtZ68S1RNWkLh1mSJZZ+j3gjyVzvg/wxjIb62+vRs0SPwqZET+GIHsqoRK8rlOjlhhK93FCilxtK9HKjVIieJW2GOFFO8LYx3s4wOkuOOE/3KsQq5QdLSsySNUbHpe61Ey/Mv6ghbAsXLJD5c+faGbFMtoDQuS5aulwhdNxKF68/QGdm0t6LbImH+FoMwaNLNmbSgm42mbILqYuZdLW1t0tjU6O0trZZkkeckD/G8MVNAomjsrJKho8YbmcEl4fKzWHInjkPoeR52EieA8zpXkdOove3f/u3SvQUFhheKmygRK8rMERMJHJkxhVWxfGyUXTCET1a94y3UnRCiV5uFCvRw2p2HmnvnCV0dNfSVWsIkyFi5oKVAePi8KjBiuwSJuZwLrxUeL/9tWXTJnnvnZmyZ/ceu6MF93MP5Y77+OnG/TNDlgmjePvQQUhfwB+wBJBJGHgLAybeuO1ujVhPHKQxFo1IxHxPTdDAo2eum/MJk8aoCWthnlVVXSVl5aa8G1tYEaqwdpH8MROY8X5usWX7Tu1rtX96DTpGT6FQKBQKxRkFRA+iBtHju/Xi8d+QH+dlgxhZOpgORwBIE9f8hpjhQaM7ly3MPp03X3Zs2y6RcFgi7az60SxtrS22S7W8rNwcZR1EjgkSoVC5DKyrk0EDB8jA2jqpq6mW2qoK89ucq6s1R52MHjXSHoPN74oy8zyTgopgmdSaRklNZYWEyoISsGk05DGS6g3bt/9AeiHmtXbR5aamZkvqGKsHGYRkprp92w2JpJs4bu5OeShPJdSjp+gAComyAvXodQWeGdd1q16rrnCyUY/e8XAePdd1q+gE9obx4XaWonr0uqCoPXqGtKXGy6W7ZS2RS3ndLJkjry6/5iNhSFKK3PktMXKkjw9Cbdq4SWa/957d+YIuV8iUJVDmetCQMbpQIY9MjiDuUDmrh0D8DGk0YfgMGTLI7haWuJlwsUi7JONRqSgPSm11pQweMMASvGoTV2WowhDHYGr8HQ9hwoX5xkQNPI6pbuO4KfNlhkDW2W5c0k4Y0h5mgWXzyVIuZMKm1aQrneOTAvFm8+j5Nm7caNfRo8+ZRY0zkRJqaSJf4fLKhrCZv4E71x9+M0aCrV6AWysOuLClDGZlsdwBBXbEiBH2XKYM+wKyvatC05d5b6H3YTuQDS1mFks/mTRkQ1/XP28ZygSyoUxhdFkrjjAnKuczhe7kfzJphwTv3r3bVkqspZdNNsD7jFNxHZzqZ7jruZ6fCWSzY8cOqzPIh/sKvbcvgvyT/oBp8ECQILKpsXZGLuTNfIPQAWxsitSlPF3IgqxDnPCKQRLx9tG9mjDX3nrrLdtt224am5FwxBI6n3keIqcLtaa2JhW/neRB/AHb5coEC7phU5MkTNgAy8UFTfxRiUfDhjAykSMpleUhu6AyHNCkTNrMMyLmuS3hqP3eZj7p0uWAvNUNHCDnnjtRxow9R2657XaZMHGCbQDbhZTN86lnyR9LuwDuK2P9PkM248ggybvmiv3TIyBntnQbN26cLVMOvg0bNiT37NljB/BltsZ5MV4FVhQ3KFiMXQA6nqgraKEhG8qEyqYrnGwwXuq16gonG0gwXitFJ7A3eDup8PDq9Wci09tANswaRS7FIhu82iwAXVldYUkY3MKROkD3JmTMXjT5RQaQOSZCwHnYXgyCZns6EYcJ11hfL4///g+ybu2XEmPSRDRiSV4AAmnKHgHrBtQYGZpnmn/IMR5P2HFyxBs3YcNt7dLW3mbH5lWWBaUyFJByvH0JnhW36+yVlbN8i4nXpKfFhA8bwhk3pK/ZEMWGFn4bApf26IUqK2TcOWNl0tTz7C5iMy691NQZhuiRT5vuVPqJi9m/4fZ2ky6/9T4ePnzEpM+k0wRJBe4ZkCle8smTJ9sGgoP16GGIGEyNMXLo74rVGwQ1nwy8zyDs6f4N3Llsv7u7H2Q751pRrvABF3cpAzkhGz695aQvobv3lPmeM5Hr3nz3OSAb4ig2XXH56U4O3jxnhuO3O+fKFOELlWsxAxl49cbJ0StPkCmrk70OvGFO9jooJA354swEjQR0xt2XGeeJoJDnFoKepoX3zFFZVWkIjaVhNi12fbu0PeU3kx7oAgV4/vCCIQdu4Df/gO3qNYRo44b18sQf/igH9u9PLY1iCFxdqFyqgn5znUkZCampSS06zbQNxsfhxWOCBx5Euo5jsXDHmLkKPHImjXTRQhgTyZiEysqkzKSZdEA0mX1rSZ1J+9HWsBxsapPGiCF6JjznywxhGz58mFxy6eVy7Q03yvnTLrCNPPIaNOniueQfL2G7IZjEx2SQCkMQU8u5BOxhcmzz2hMgQw5WhmAiioP16LmLDr2hUH0B3jwVip7mnWd47zmR38Cd6+lvkC3O7u73hs1EvuuljExZFgJ3Ty4Uo6xPRE79AdneZbY8dvfOveHz6UZfQm+8y1IsC90hlzxOpRx6Q+d6mj6eCUmiuxOCxR6zEDZIlrloiF7QxpkKx3Zk9iYeZBc5drBp578hb27B5AXz58uLzz0vTfUNEg2HpUyiMnZQnQyuqjBMmfXywjJowACpqaqSZDRuu37LDHkMmiP1vKghf20SixqyZbIFqatmaRTz6cYKmiSbxxpiZ/LANmrkg4kkYfN5rC0qu442y87GsLQnTVpNeiF0zLy9eMYl8sij35Bx4ydY75312pnrLBHDuMCAP+WhZAFmnlOZHotJODyQKTm7ozC495uKp/M+3/r161NXFArFKYErfNngLYwKhUJRTHDkLWGoEl2ldI9CsgBEDY8lpMfvw8uHhzduwqd6Tvhn9501xMd58tzkDef5e+u112XWO+9IS1OTSDQiQ0I+OX/UYBlUaShfGE+ZX0YMHSo1hnhhaiFvQTzrxiTjIWQ8XzTaaidelJlrTNTAe2d32oDhmWfbsYPmwOPXyrp5EZZVSUi7+Wxph+i1yPI9h6VRyiVh8saYOzx4l15+uXz3+4/J6DFjbJcueaB7lskidiKGzRNr9xmiZz6t15EuY0YCmnjsuEAjl96Ab926dcnly5fL7Nmzbfet4vSCMU133HGHzJgxI31GoVAoFIr+D4ibXWOOrlJDjmx3rCFaLIwMYYPY8BsvmNvtAhJm7zGfTKZw1wFeNQgg4/SikbD85Zm/yMcffCBhw10qkzGZOrRWLhg7WAZWGEJlruMZq6mutl2ZFYZ84SG06+rZtPhxwJl0McEjIn7zfGbe2ra3+ZNImnQa2pVqpycsQQu3sVhyRGIJ1uILW9J3qCkin23ZI9sawxIrq5D2cFRqBw6Qa667Th791ndk2LDhNt9uJjDxkQfbfQxhxBNpEhIwxA5iCqLRuJSXp8ZnpgjhycHGqiTvzAG5I3+FQqFQKIoF1isHScIxljplSRtwhI8eDcgOM2shUqnxeEx6oHs1aImRDW/ZF0gNLfLRz2rIH8upWOJkiNeIukqZOGKATDDH2cMHyPgxw2T08IEydFCVDB7IUS0DB9TYtfIGDxkoQwYPlEGDzGF+D6yrkTpz1NbW2Ml2VYYUVlRAtFIzcfHylZujoqLMEMeQVFdVmCNkvw8dWCnjRg6UapNcv0lHlTlfESrvGCeXWpA5RVZJq5MBnkKILd3EKTnE7Tk7WcQQXcYT4rnsEMJJIPDXf/3Xv54zZ076p+JMgOnWN910U/qXQqFQKBT9F5A8650zwFMH1UuRODxo6ckWhqvRlWoXTrakx62Rl4KfCRXmN2H4tN22JhykiHF6zJZdsnix7Nu3VxKRsEw5a6hMGztYzhpUbUkYY94qDSGrqCi3Ex1YJNl6Bw3JpOuUblQ+A4Y0Gi5mPtkaLWA9faQ3lUDIKDNkDbk0h80AH+Yz6WN8oSFxJh5foFwONrZIi8lbqCo1+WPKeefJeedfYLuByRvygMjZeMgnsrD5TXVrk0+ejbcPAmu7j81123VNIk4CgV/84he/njdvXvqn4kxBiZ5CoVAo+jsgJ3jocGBAiiBE8BQIXjzdPWsPSEyKNaWQTH2H+kAKbXctvMoSLDxgqXFu/GdrtNaWZvl8yefS1NAolYasnT96iEwYVit1VYbAQeYMAaPrl/X3+Eyt4Qd3w5toIjHf8QzaI02yLMkz1yBbNtEGfOcM5Ix/EFdLOiU1Y9zum+sLyOHGVmmKmnDBcvPscpk4aZJMPe8C7kznNZWHlHxSa+mlvqe8mC4utnCz4U1iWQYGUusmrJwofP/yL/+SfPnll9M/FWcKX/va19LfOsGLRRFOFPnuP9nr/QHFKoPMdPX0d3/AyeaxN/Pcm3EpeoaTfe/5fisKB7IDmfJz54NlZV3WcINg+QzRIzTkD7IHmcEzx1g5xsz5fexB6+JLzcblWlmoHIZE5KlL5pkpMuazCyUfPHhAnnriSdm3a7dUJMJy4+QRMm1EpdRV4KFLLUAM4fLhtaMLle+Qsg6k4rLxGzJlF3DmefGYJOlKhpQ5YmZIK5M7IK98jxiiZieXmPAxc0tDe0IWb9wjXx5sltaEX8qqKuW+B74q99x3v/X6ERbvIWvk8c8SWfJins3SLrar2k6+8NmZuHZRZVipAd2/DQ1NsnHjRolEojZMNmTTaRfWd/bZZyfZakVxZpFt+zleUncGyb3EXGHO9HXgwjhkhuV6vvsLif9E03iqrwPCnOx1Bxcu87k9/Q04V+jvfPGdqt+Ac7392wt3LfO8Q3f3OhQax8lcz3UN9MZ1kC99Di5cZrzZfgPOZXtGT+4Hvf0bcK7Q3yd6fzZ4wzhk3puJ03Ed5AqT67o7f+H0C+X7P/iBjDlrtCVxdIdCoLgOgWEShpMGy4wwsxRPW2r8Gj6ypCU5ARPen+66NE+zBM9OVLCPNX9MJDu2b5Pnnn5W6o8cljpfTK6dMFimDq+QasMPgz5D9MpDhjwFxVcelID57mfJEkOaOhLgQNpdfgyxMwkznyzzYigZYc2laFurtLJvbSRsCasjesymjZtADe1JWbJ5n6zaVy+t5vayqhr5q+9+X66/4SabP8gcsLOL089CNngHGYvnupR5FvGyTRppRz6cZyHl3//+j7J69ZoOryAydXIHLl736b2WzoaiL8K9KPfiMtHXrxcC4sgXP8gWpr9fBy5MruuKU4/+oAe9dR2caBoVpx68h+7k3xvXQa4wJ3MdL95PfvoTufPOu6SmttoQFBb+9RlikuqGTXV50v0KnzL3mzjwABpKZyJOxcl1iBThGbNmvX/2USasIUZsEcY/rm3bukVe+Muz0nTsmAwOJuSa8QNl0lBD9EI+GzZIF2q5OSorxF9ZKb6KSsOugqkjFaUkDWFLWu+aSQAeNPPbevX4bamROUz6w01N0t5siJ4hbGyzRpdqiuSx5ItIfVtClm8/JCt2H5HmuE9C1bXyvR/+RC6/8kqbN2bqkr9UHhI2/bYr2XzSjWsfZYBcIobkMSEDbygTNcg/98+dO1f+7//9jd1NJtf7yQWvH1OhOK1wRsN9ZiKfMvf364q+hb6uL/muF4LT8QzFiSGXHewpeiuengCPFNt9cVRVV6b0yBykhbFm7Ctrx6IZ1sM5CFyZIWHmV5pUGZhb8Nox25bu2yhr5Zk4Osa12c+EnZ0KGbTds4YsQZ7Ky813umVNVNYLx3e2LTPPiJWVS5jFiX1lEk2yYLEhw75ySQZDJpz5FBPOXEv6TJikIaSBkLnP5KHMfJpzCXP4zO+y6mp7BCvKxU+Xs3lG6pGp9NNFyzIpkEaIKjtwkCn20mXcHegco2fyYM7TDZzako2whDb/zHW7zl5KhPYcv6+66iq57LLL0jK1wQsGq/H9OvVVoVAoFAqFomcYNmyYfPvb35apU6amxsMZomMnNhjgpWJsHh49nyUu+PBS1/HQsdUYZMeRIUduIDSMkQMpYsOd/KV3NbWm3bo1ayXe3iojaoIyfmiV1IQM0QqWSdiQs6aYTw61xmVvfbscaAjLsaaI1De0Sjwat13D7NBhYUiljZQ08gxDDg1rk1g4asI3yZH6VqlvMfc3t0skAUmEGJrgJqHkjTyEzb1HWyNypCVi9731GxmcP/0iGTlqlO2uZkxeeRmzb9PE1fyzMukgfiyiTFc1CTLyMWSRPFsZmnOEY029urpa+eKLLzr2pC8UTm6KEgMbiSsUhYJxJAqFQpEJvHn33nuv/OQnP5HhI0ZYQgGRoXvSge7K1MQGEz6QmoQA2bLdpYYAWq+XIVyQHRgOJMjeTmR2GZPUzhmAiRzg2JEj8vxTT0n48D6ZMWagTBlZY8iQX44ZwrX7aJM0tIscaWwzxIu4zDMTMakuD8j4UUNl4tizZOTwOqmsKBOf6zo1R5K0GZLGpIejxxpk++4Dsn3fUWkwBC6RjEtNZUhqq8ul1sRTFfTJgMqgBBJRaQ3HZfOhJlmzp172G1IZrKqR7/3oJzL1ggssyeOorKyw+SevkDsO9sVFfng88VCSZ7sziPlH9iF61jtoPX4sUROT3/zmtzJz5qw0SUQS+aEevRKF20haoSgEGCqFQqHIxNChQ+XrX/+6nDt5cscYNEgMXZodn+af82BZ0mbImrvGfxgOJAeyY0+Ya6mxbO6nYTTpT3dvuL1d1qz8QqrirXLBmCGGgIVk75FG+XzdNtlmCNexxlapP9YobU1NEm5qlPbGRom1tRliFpOgLy5lhqCVS1z88aj44hFJspSJIX2RtnY5cvCQbNu+WzZu3SObd+yTvYeOycEj9XLwaIPsPXhM9h5ukKMt7RIoC0lVRblJt0/aInE52hSWxnBUQjW1cu0NN0lNbW0HsWNMHpmg+5nsRMzz6Kq26+Xxz+QXMGbPKyvr2aTL2vxmp4/yULksW7pMWttaTWwIKB9E/n+daC3DJZelewAAAABJRU5ErkJggg==)\n",
        "\n",
        "Limitaion:\n",
        "1. Maybe too many words\n",
        "2. Some words may occur too frequently\n",
        "3. Some words occur very rarely\n",
        "3. Single word may have many forms(go,gone, going)"
      ],
      "metadata": {
        "id": "dJiA7BGuZWSb"
      }
    },
    {
      "cell_type": "markdown",
      "source": [
        "#Tokenization\n",
        "splitting a doc into wors and separator"
      ],
      "metadata": {
        "id": "Qi1CW6Y1bsNL"
      }
    },
    {
      "cell_type": "code",
      "source": [
        "q0 = sincere_df.question_text.values[1]\n",
        "q0"
      ],
      "metadata": {
        "id": "Bj-_iatEtjfF",
        "collapsed": true,
        "colab": {
          "base_uri": "https://localhost:8080/",
          "height": 53
        },
        "outputId": "a0b98c18-b723-4493-e958-5992361a9e78"
      },
      "execution_count": null,
      "outputs": [
        {
          "output_type": "execute_result",
          "data": {
            "text/plain": [
              "'Do you have an adopted dog, how would you encourage people to adopt and not shop?'"
            ],
            "application/vnd.google.colaboratory.intrinsic+json": {
              "type": "string"
            }
          },
          "metadata": {},
          "execution_count": 23
        }
      ]
    },
    {
      "cell_type": "code",
      "source": [
        "q1 = raw_df[raw_df.target==1].question_text.values[0]\n",
        "q1"
      ],
      "metadata": {
        "id": "xCb6HLlvcTJB",
        "colab": {
          "base_uri": "https://localhost:8080/",
          "height": 35
        },
        "outputId": "4ee13c46-d3e5-4f18-976f-9795a2c953b9"
      },
      "execution_count": null,
      "outputs": [
        {
          "output_type": "execute_result",
          "data": {
            "text/plain": [
              "'Has the United States become the largest dictatorship in the world?'"
            ],
            "application/vnd.google.colaboratory.intrinsic+json": {
              "type": "string"
            }
          },
          "metadata": {},
          "execution_count": 24
        }
      ]
    },
    {
      "cell_type": "code",
      "source": [
        "import nltk"
      ],
      "metadata": {
        "id": "2fsOB4sOtnmw"
      },
      "execution_count": null,
      "outputs": []
    },
    {
      "cell_type": "code",
      "source": [
        "nltk.download('punkt')"
      ],
      "metadata": {
        "id": "wVPvf_SRdhFb",
        "colab": {
          "base_uri": "https://localhost:8080/"
        },
        "outputId": "60a5a661-123c-49d3-ada9-5d87ca6a6453"
      },
      "execution_count": null,
      "outputs": [
        {
          "output_type": "stream",
          "name": "stderr",
          "text": [
            "[nltk_data] Downloading package punkt to /root/nltk_data...\n",
            "[nltk_data]   Unzipping tokenizers/punkt.zip.\n"
          ]
        },
        {
          "output_type": "execute_result",
          "data": {
            "text/plain": [
              "True"
            ]
          },
          "metadata": {},
          "execution_count": 26
        }
      ]
    },
    {
      "cell_type": "code",
      "source": [
        "from nltk.tokenize import word_tokenize"
      ],
      "metadata": {
        "id": "9OQi3H9bdOu9"
      },
      "execution_count": null,
      "outputs": []
    },
    {
      "cell_type": "code",
      "source": [
        "word_tokenize(q0)"
      ],
      "metadata": {
        "id": "LbepZNg8dOjo",
        "colab": {
          "base_uri": "https://localhost:8080/"
        },
        "outputId": "30f82cb8-d41a-46b9-9448-24d9c07f63c2"
      },
      "execution_count": null,
      "outputs": [
        {
          "output_type": "execute_result",
          "data": {
            "text/plain": [
              "['Do',\n",
              " 'you',\n",
              " 'have',\n",
              " 'an',\n",
              " 'adopted',\n",
              " 'dog',\n",
              " ',',\n",
              " 'how',\n",
              " 'would',\n",
              " 'you',\n",
              " 'encourage',\n",
              " 'people',\n",
              " 'to',\n",
              " 'adopt',\n",
              " 'and',\n",
              " 'not',\n",
              " 'shop',\n",
              " '?']"
            ]
          },
          "metadata": {},
          "execution_count": 28
        }
      ]
    },
    {
      "cell_type": "code",
      "source": [
        "word_tokenizer = 'This is , something with () lots of puntuation.'"
      ],
      "metadata": {
        "id": "L_KX-kamdORK"
      },
      "execution_count": null,
      "outputs": []
    },
    {
      "cell_type": "code",
      "source": [
        "word_tokenize(word_tokenizer)"
      ],
      "metadata": {
        "id": "aOcUO0oZd9Xv",
        "colab": {
          "base_uri": "https://localhost:8080/"
        },
        "outputId": "15f1f932-83fd-4be0-d27a-a0ec5c9e9635"
      },
      "execution_count": null,
      "outputs": [
        {
          "output_type": "execute_result",
          "data": {
            "text/plain": [
              "['This',\n",
              " 'is',\n",
              " ',',\n",
              " 'something',\n",
              " 'with',\n",
              " '(',\n",
              " ')',\n",
              " 'lots',\n",
              " 'of',\n",
              " 'puntuation',\n",
              " '.']"
            ]
          },
          "metadata": {},
          "execution_count": 30
        }
      ]
    },
    {
      "cell_type": "code",
      "source": [
        "word_tokenize(q1)"
      ],
      "metadata": {
        "id": "RcRcX-5Pd9Vb",
        "colab": {
          "base_uri": "https://localhost:8080/"
        },
        "outputId": "1f2de8ee-a6d8-48db-9807-9079ee1df834"
      },
      "execution_count": null,
      "outputs": [
        {
          "output_type": "execute_result",
          "data": {
            "text/plain": [
              "['Has',\n",
              " 'the',\n",
              " 'United',\n",
              " 'States',\n",
              " 'become',\n",
              " 'the',\n",
              " 'largest',\n",
              " 'dictatorship',\n",
              " 'in',\n",
              " 'the',\n",
              " 'world',\n",
              " '?']"
            ]
          },
          "metadata": {},
          "execution_count": 31
        }
      ]
    },
    {
      "cell_type": "code",
      "source": [
        "q0_tok = word_tokenize(q0)\n",
        "q1_tok = word_tokenize(q1)"
      ],
      "metadata": {
        "id": "JHj8tMs7d9Q1"
      },
      "execution_count": null,
      "outputs": []
    },
    {
      "cell_type": "code",
      "source": [
        "q0_tok"
      ],
      "metadata": {
        "colab": {
          "base_uri": "https://localhost:8080/"
        },
        "id": "zhMYYHy59lXh",
        "outputId": "b3c3c1c1-b488-4ac4-9e1d-59b4e0ec695c"
      },
      "execution_count": null,
      "outputs": [
        {
          "output_type": "execute_result",
          "data": {
            "text/plain": [
              "['Do',\n",
              " 'you',\n",
              " 'have',\n",
              " 'an',\n",
              " 'adopted',\n",
              " 'dog',\n",
              " ',',\n",
              " 'how',\n",
              " 'would',\n",
              " 'you',\n",
              " 'encourage',\n",
              " 'people',\n",
              " 'to',\n",
              " 'adopt',\n",
              " 'and',\n",
              " 'not',\n",
              " 'shop',\n",
              " '?']"
            ]
          },
          "metadata": {},
          "execution_count": 33
        }
      ]
    },
    {
      "cell_type": "code",
      "source": [
        "q1_tok"
      ],
      "metadata": {
        "colab": {
          "base_uri": "https://localhost:8080/"
        },
        "id": "yXi1IGiY9o9R",
        "outputId": "8765d7c5-0aba-4c72-f69b-215027fa0b09"
      },
      "execution_count": null,
      "outputs": [
        {
          "output_type": "execute_result",
          "data": {
            "text/plain": [
              "['Has',\n",
              " 'the',\n",
              " 'United',\n",
              " 'States',\n",
              " 'become',\n",
              " 'the',\n",
              " 'largest',\n",
              " 'dictatorship',\n",
              " 'in',\n",
              " 'the',\n",
              " 'world',\n",
              " '?']"
            ]
          },
          "metadata": {},
          "execution_count": 34
        }
      ]
    },
    {
      "cell_type": "markdown",
      "source": [
        "# StopWord removal"
      ],
      "metadata": {
        "id": "eHYzbz7ofUO9"
      }
    },
    {
      "cell_type": "code",
      "source": [
        "from nltk.corpus import stopwords\n",
        "nltk.download('stopwords')"
      ],
      "metadata": {
        "id": "891ktKHJfcRK",
        "colab": {
          "base_uri": "https://localhost:8080/"
        },
        "outputId": "159cd456-7b45-4591-a226-b9b99ed00a7e"
      },
      "execution_count": null,
      "outputs": [
        {
          "output_type": "stream",
          "name": "stderr",
          "text": [
            "[nltk_data] Downloading package stopwords to /root/nltk_data...\n",
            "[nltk_data]   Unzipping corpora/stopwords.zip.\n"
          ]
        },
        {
          "output_type": "execute_result",
          "data": {
            "text/plain": [
              "True"
            ]
          },
          "metadata": {},
          "execution_count": 35
        }
      ]
    },
    {
      "cell_type": "code",
      "source": [
        "english_stopwords = stopwords.words('english')"
      ],
      "metadata": {
        "id": "J1FP-Rv2fcGK"
      },
      "execution_count": null,
      "outputs": []
    },
    {
      "cell_type": "code",
      "source": [
        "\",\".join(english_stopwords)"
      ],
      "metadata": {
        "id": "VN7KIDjWfb13",
        "colab": {
          "base_uri": "https://localhost:8080/",
          "height": 226
        },
        "outputId": "ceee0700-7acb-4f42-adfb-fad56d288500"
      },
      "execution_count": null,
      "outputs": [
        {
          "output_type": "execute_result",
          "data": {
            "text/plain": [
              "\"i,me,my,myself,we,our,ours,ourselves,you,you're,you've,you'll,you'd,your,yours,yourself,yourselves,he,him,his,himself,she,she's,her,hers,herself,it,it's,its,itself,they,them,their,theirs,themselves,what,which,who,whom,this,that,that'll,these,those,am,is,are,was,were,be,been,being,have,has,had,having,do,does,did,doing,a,an,the,and,but,if,or,because,as,until,while,of,at,by,for,with,about,against,between,into,through,during,before,after,above,below,to,from,up,down,in,out,on,off,over,under,again,further,then,once,here,there,when,where,why,how,all,any,both,each,few,more,most,other,some,such,no,nor,not,only,own,same,so,than,too,very,s,t,can,will,just,don,don't,should,should've,now,d,ll,m,o,re,ve,y,ain,aren,aren't,couldn,couldn't,didn,didn't,doesn,doesn't,hadn,hadn't,hasn,hasn't,haven,haven't,isn,isn't,ma,mightn,mightn't,mustn,mustn't,needn,needn't,shan,shan't,shouldn,shouldn't,wasn,wasn't,weren,weren't,won,won't,wouldn,wouldn't\""
            ],
            "application/vnd.google.colaboratory.intrinsic+json": {
              "type": "string"
            }
          },
          "metadata": {},
          "execution_count": 37
        }
      ]
    },
    {
      "cell_type": "code",
      "source": [
        "# function for remove stopwords from a set of token.\n",
        "def remove_stopwords(tokens):\n",
        "  return [words for words in tokens if words.lower() not in english_stopwords]   ### square bracket must noito list create hbe na"
      ],
      "metadata": {
        "id": "1wlSNNk-gRpq"
      },
      "execution_count": null,
      "outputs": []
    },
    {
      "cell_type": "code",
      "source": [
        "q0_tok"
      ],
      "metadata": {
        "colab": {
          "base_uri": "https://localhost:8080/"
        },
        "id": "L4f_oEZx9gWs",
        "outputId": "00caaf04-a91a-425e-ebf0-636ef7683684"
      },
      "execution_count": null,
      "outputs": [
        {
          "output_type": "execute_result",
          "data": {
            "text/plain": [
              "['Do',\n",
              " 'you',\n",
              " 'have',\n",
              " 'an',\n",
              " 'adopted',\n",
              " 'dog',\n",
              " ',',\n",
              " 'how',\n",
              " 'would',\n",
              " 'you',\n",
              " 'encourage',\n",
              " 'people',\n",
              " 'to',\n",
              " 'adopt',\n",
              " 'and',\n",
              " 'not',\n",
              " 'shop',\n",
              " '?']"
            ]
          },
          "metadata": {},
          "execution_count": 39
        }
      ]
    },
    {
      "cell_type": "code",
      "source": [
        "q0_stop = remove_stopwords(q0_tok)   ### stop word bad pore geche\n",
        "q0_stop"
      ],
      "metadata": {
        "colab": {
          "base_uri": "https://localhost:8080/"
        },
        "id": "-ATAR3iS9gSm",
        "outputId": "2cd41afa-e569-497b-bb5e-42d938c4a39c"
      },
      "execution_count": null,
      "outputs": [
        {
          "output_type": "execute_result",
          "data": {
            "text/plain": [
              "['adopted', 'dog', ',', 'would', 'encourage', 'people', 'adopt', 'shop', '?']"
            ]
          },
          "metadata": {},
          "execution_count": 40
        }
      ]
    },
    {
      "cell_type": "code",
      "source": [
        "q1_tok"
      ],
      "metadata": {
        "colab": {
          "base_uri": "https://localhost:8080/"
        },
        "id": "x33ZOK8m_JT7",
        "outputId": "16581f0b-a3b7-47a2-d28b-43cee5409ba9"
      },
      "execution_count": null,
      "outputs": [
        {
          "output_type": "execute_result",
          "data": {
            "text/plain": [
              "['Has',\n",
              " 'the',\n",
              " 'United',\n",
              " 'States',\n",
              " 'become',\n",
              " 'the',\n",
              " 'largest',\n",
              " 'dictatorship',\n",
              " 'in',\n",
              " 'the',\n",
              " 'world',\n",
              " '?']"
            ]
          },
          "metadata": {},
          "execution_count": 41
        }
      ]
    },
    {
      "cell_type": "code",
      "source": [
        "q1_stop = remove_stopwords(q1_tok)   ### stop word bad pore geche\n",
        "q1_stop"
      ],
      "metadata": {
        "colab": {
          "base_uri": "https://localhost:8080/"
        },
        "id": "6fUZ83KX9gQQ",
        "outputId": "93a91bcb-012e-4c25-b97c-d60ec20435ba"
      },
      "execution_count": null,
      "outputs": [
        {
          "output_type": "execute_result",
          "data": {
            "text/plain": [
              "['United', 'States', 'become', 'largest', 'dictatorship', 'world', '?']"
            ]
          },
          "metadata": {},
          "execution_count": 42
        }
      ]
    },
    {
      "cell_type": "code",
      "source": [
        "bengali_stopwords = stopwords.words('bengali')\n",
        "\",\".join(bengali_stopwords)"
      ],
      "metadata": {
        "colab": {
          "base_uri": "https://localhost:8080/",
          "height": 244
        },
        "id": "RocqwrLLKvy-",
        "outputId": "4cc0df61-685d-4952-8f33-4f050629b569"
      },
      "execution_count": null,
      "outputs": [
        {
          "output_type": "execute_result",
          "data": {
            "text/plain": [
              "'অতএব,অথচ,অথবা,অনুযায়ী,অনেক,অনেকে,অনেকেই,অন্তত,অন্য,অবধি,অবশ্য,অর্থাত,আই,আগামী,আগে,আগেই,আছে,আজ,আদ্যভাগে,আপনার,আপনি,আবার,আমরা,আমাকে,আমাদের,আমার,আমি,আর,আরও,ই,ইত্যাদি,ইহা,উচিত,উত্তর,উনি,উপর,উপরে,এ,এঁদের,এঁরা,এই,একই,একটি,একবার,একে,এক্,এখন,এখনও,এখানে,এখানেই,এটা,এটাই,এটি,এত,এতটাই,এতে,এদের,এব,এবং,এবার,এমন,এমনকী,এমনি,এর,এরা,এল,এস,এসে,ঐ,ও,ওঁদের,ওঁর,ওঁরা,ওই,ওকে,ওখানে,ওদের,ওর,ওরা,কখনও,কত,কবে,কমনে,কয়েক,কয়েকটি,করছে,করছেন,করতে,করবে,করবেন,করলে,করলেন,করা,করাই,করায়,করার,করি,করিতে,করিয়া,করিয়ে,করে,করেই,করেছিলেন,করেছে,করেছেন,করেন,কাউকে,কাছ,কাছে,কাজ,কাজে,কারও,কারণ,কি,কিংবা,কিছু,কিছুই,কিন্তু,কী,কে,কেউ,কেউই,কেখা,কেন,কোটি,কোন,কোনও,কোনো,ক্ষেত্রে,কয়েক,খুব,গিয়ে,গিয়েছে,গিয়ে,গুলি,গেছে,গেল,গেলে,গোটা,চলে,চান,চায়,চার,চালু,চেয়ে,চেষ্টা,ছাড়া,ছাড়াও,ছিল,ছিলেন,জন,জনকে,জনের,জন্য,জন্যওজে,জানতে,জানা,জানানো,জানায়,জানিয়ে,জানিয়েছে,জে,জ্নজন,টি,ঠিক,তখন,তত,তথা,তবু,তবে,তা,তাঁকে,তাঁদের,তাঁর,তাঁরা,তাঁাহারা,তাই,তাও,তাকে,তাতে,তাদের,তার,তারপর,তারা,তারৈ,তাহলে,তাহা,তাহাতে,তাহার,তিনঐ,তিনি,তিনিও,তুমি,তুলে,তেমন,তো,তোমার,থাকবে,থাকবেন,থাকা,থাকায়,থাকে,থাকেন,থেকে,থেকেই,থেকেও,দিকে,দিতে,দিন,দিয়ে,দিয়েছে,দিয়েছেন,দিলেন,দু,দুই,দুটি,দুটো,দেওয়া,দেওয়ার,দেওয়া,দেখতে,দেখা,দেখে,দেন,দেয়,দ্বারা,ধরা,ধরে,ধামার,নতুন,নয়,না,নাই,নাকি,নাগাদ,নানা,নিজে,নিজেই,নিজেদের,নিজের,নিতে,নিয়ে,নিয়ে,নেই,নেওয়া,নেওয়ার,নেওয়া,নয়,পক্ষে,পর,পরে,পরেই,পরেও,পর্যন্ত,পাওয়া,পাচ,পারি,পারে,পারেন,পি,পেয়ে,পেয়্র্,প্রতি,প্রথম,প্রভৃতি,প্রযন্ত,প্রাথমিক,প্রায়,প্রায়,ফলে,ফিরে,ফের,বক্তব্য,বদলে,বন,বরং,বলতে,বলল,বললেন,বলা,বলে,বলেছেন,বলেন,বসে,বহু,বা,বাদে,বার,বি,বিনা,বিভিন্ন,বিশেষ,বিষয়টি,বেশ,বেশি,ব্যবহার,ব্যাপারে,ভাবে,ভাবেই,মতো,মতোই,মধ্যভাগে,মধ্যে,মধ্যেই,মধ্যেও,মনে,মাত্র,মাধ্যমে,মোট,মোটেই,যখন,যত,যতটা,যথেষ্ট,যদি,যদিও,যা,যাঁর,যাঁরা,যাওয়া,যাওয়ার,যাওয়া,যাকে,যাচ্ছে,যাতে,যাদের,যান,যাবে,যায়,যার,যারা,যিনি,যে,যেখানে,যেতে,যেন,যেমন,র,রকম,রয়েছে,রাখা,রেখে,লক্ষ,শুধু,শুরু,সঙ্গে,সঙ্গেও,সব,সবার,সমস্ত,সম্প্রতি,সহ,সহিত,সাধারণ,সামনে,সি,সুতরাং,সে,সেই,সেখান,সেখানে,সেটা,সেটাই,সেটাও,সেটি,স্পষ্ট,স্বয়ং,হইতে,হইবে,হইয়া,হওয়া,হওয়ায়,হওয়ার,হচ্ছে,হত,হতে,হতেই,হন,হবে,হবেন,হয়,হয়তো,হয়নি,হয়ে,হয়েই,হয়েছিল,হয়েছে,হয়েছেন,হল,হলে,হলেই,হলেও,হলো,হাজার,হিসাবে,হৈলে,হোক,হয়'"
            ],
            "application/vnd.google.colaboratory.intrinsic+json": {
              "type": "string"
            }
          },
          "metadata": {},
          "execution_count": 43
        }
      ]
    },
    {
      "cell_type": "markdown",
      "source": [
        "# Stemming\n",
        "'go','going','gone' -> go"
      ],
      "metadata": {
        "id": "KM7U-NGE_SJu"
      }
    },
    {
      "cell_type": "code",
      "source": [
        "from nltk.stem.snowball import SnowballStemmer"
      ],
      "metadata": {
        "id": "iKoUa5B89gMP"
      },
      "execution_count": null,
      "outputs": []
    },
    {
      "cell_type": "code",
      "source": [
        "stemmer = SnowballStemmer(language = \"english\")"
      ],
      "metadata": {
        "id": "91vz7YqH9gKO"
      },
      "execution_count": null,
      "outputs": []
    },
    {
      "cell_type": "code",
      "source": [
        "stemmer.stem('going')"
      ],
      "metadata": {
        "colab": {
          "base_uri": "https://localhost:8080/",
          "height": 35
        },
        "id": "61fbq2tL9gEN",
        "outputId": "4eeac690-14b2-4990-c73a-db2ce6bdacb4"
      },
      "execution_count": null,
      "outputs": [
        {
          "output_type": "execute_result",
          "data": {
            "text/plain": [
              "'go'"
            ],
            "application/vnd.google.colaboratory.intrinsic+json": {
              "type": "string"
            }
          },
          "metadata": {},
          "execution_count": 46
        }
      ]
    },
    {
      "cell_type": "code",
      "source": [
        "stemmer.stem('losing')"
      ],
      "metadata": {
        "colab": {
          "base_uri": "https://localhost:8080/",
          "height": 35
        },
        "id": "kbgIIAe_Kzl0",
        "outputId": "4e8702c5-4564-4757-b4b7-4f265b8ad866"
      },
      "execution_count": null,
      "outputs": [
        {
          "output_type": "execute_result",
          "data": {
            "text/plain": [
              "'lose'"
            ],
            "application/vnd.google.colaboratory.intrinsic+json": {
              "type": "string"
            }
          },
          "metadata": {},
          "execution_count": 47
        }
      ]
    },
    {
      "cell_type": "code",
      "source": [
        "q0_stm = [stemmer.stem(words) for words in q0_stop]"
      ],
      "metadata": {
        "id": "zc4wGeFeKzjR"
      },
      "execution_count": null,
      "outputs": []
    },
    {
      "cell_type": "code",
      "source": [
        "q0_stm"
      ],
      "metadata": {
        "colab": {
          "base_uri": "https://localhost:8080/"
        },
        "id": "W7N6c2R-Kzgy",
        "outputId": "85f7693e-2781-4f52-ac15-c3c85ecff1ef"
      },
      "execution_count": null,
      "outputs": [
        {
          "output_type": "execute_result",
          "data": {
            "text/plain": [
              "['adopt', 'dog', ',', 'would', 'encourag', 'peopl', 'adopt', 'shop', '?']"
            ]
          },
          "metadata": {},
          "execution_count": 49
        }
      ]
    },
    {
      "cell_type": "code",
      "source": [
        "q0_stop"
      ],
      "metadata": {
        "colab": {
          "base_uri": "https://localhost:8080/"
        },
        "id": "ZcQXww1rKze5",
        "outputId": "9635a84a-696e-4aa4-c74e-5edc7f5ad592"
      },
      "execution_count": null,
      "outputs": [
        {
          "output_type": "execute_result",
          "data": {
            "text/plain": [
              "['adopted', 'dog', ',', 'would', 'encourage', 'people', 'adopt', 'shop', '?']"
            ]
          },
          "metadata": {},
          "execution_count": 50
        }
      ]
    },
    {
      "cell_type": "code",
      "source": [
        "def stemming(stp_word):\n",
        "  return [stemmer.stem(words) for words in stp_word]"
      ],
      "metadata": {
        "id": "pR7x0Wp9MY4R"
      },
      "execution_count": null,
      "outputs": []
    },
    {
      "cell_type": "code",
      "source": [
        "stemming(q0_stop)"
      ],
      "metadata": {
        "colab": {
          "base_uri": "https://localhost:8080/"
        },
        "id": "ppZdyXYHMY0n",
        "outputId": "db1068b9-07d0-4745-a69d-d815135306e4"
      },
      "execution_count": null,
      "outputs": [
        {
          "output_type": "execute_result",
          "data": {
            "text/plain": [
              "['adopt', 'dog', ',', 'would', 'encourag', 'peopl', 'adopt', 'shop', '?']"
            ]
          },
          "metadata": {},
          "execution_count": 52
        }
      ]
    },
    {
      "cell_type": "code",
      "source": [
        "stemming(q1_stop)"
      ],
      "metadata": {
        "colab": {
          "base_uri": "https://localhost:8080/"
        },
        "id": "jHvtB99RMYx1",
        "outputId": "9adf90c3-4b5b-40fb-87d6-9f2b5c64f428"
      },
      "execution_count": null,
      "outputs": [
        {
          "output_type": "execute_result",
          "data": {
            "text/plain": [
              "['unit', 'state', 'becom', 'largest', 'dictatorship', 'world', '?']"
            ]
          },
          "metadata": {},
          "execution_count": 53
        }
      ]
    },
    {
      "cell_type": "markdown",
      "source": [
        "# Lemmatisation\n",
        "1. love -> love\n",
        "2. loving -> love\n",
        "3. loved -> love"
      ],
      "metadata": {
        "id": "vl_hxo79SZpG"
      }
    },
    {
      "cell_type": "markdown",
      "source": [
        "# Implement Bag of WORDS\n",
        "outline:\n",
        "1. Create a vocabulary using count vectorizer\n",
        "2. transform text to vectors using count vectorizer.\n",
        "3. Configure text preprocessing in Count vectorizer."
      ],
      "metadata": {
        "id": "Odt1tDuoTM4s"
      }
    },
    {
      "cell_type": "markdown",
      "source": [
        "# Create Vocabulary"
      ],
      "metadata": {
        "id": "E7WIdGKJboEE"
      }
    },
    {
      "cell_type": "code",
      "source": [
        "sample_df"
      ],
      "metadata": {
        "colab": {
          "base_uri": "https://localhost:8080/",
          "height": 485
        },
        "id": "m5q__7ipSop_",
        "outputId": "d1938e73-07a1-4f16-bd32-a16b178e6ade"
      },
      "execution_count": null,
      "outputs": [
        {
          "output_type": "execute_result",
          "data": {
            "text/plain": [
              "                          qid  \\\n",
              "443046   56d324bb1e2c29f43b12   \n",
              "947549   b9ad893dc78c577f8a63   \n",
              "523769   6689ebaeeb65b209a412   \n",
              "949821   ba1e2c4a0fef09671516   \n",
              "1030397  c9ea2b69bf0d74626f46   \n",
              "...                       ...   \n",
              "998930   c3c03a307a29c69971b4   \n",
              "66641    0d119aba95ee6684f506   \n",
              "90024    11a46cd148a104b271cf   \n",
              "130113   1973e6e2111a0c93193a   \n",
              "1137     0037ed037520d82393c0   \n",
              "\n",
              "                                             question_text  target  \n",
              "443046   What is the most effective classroom managemen...       0  \n",
              "947549   Can I study abroad after 10th class from Bangl...       0  \n",
              "523769         How can I make friends as a college junior?       0  \n",
              "949821   How do I download free APK Minecraft: Pocket E...       0  \n",
              "1030397  Like Kuvera, is \"Groww\" also a free online inv...       0  \n",
              "...                                                    ...     ...  \n",
              "998930   How do I research list of reliable charcoal im...       0  \n",
              "66641    What are petroleum products, and what is petro...       0  \n",
              "90024    What are some services that will let you quick...       0  \n",
              "130113   What credit card processors do online marketpl...       0  \n",
              "1137          On which number system does a computer work?       0  \n",
              "\n",
              "[100000 rows x 3 columns]"
            ],
            "text/html": [
              "\n",
              "  <div id=\"df-61eb1c58-0d7e-4839-95dd-196a1d3770b2\">\n",
              "    <div class=\"colab-df-container\">\n",
              "      <div>\n",
              "<style scoped>\n",
              "    .dataframe tbody tr th:only-of-type {\n",
              "        vertical-align: middle;\n",
              "    }\n",
              "\n",
              "    .dataframe tbody tr th {\n",
              "        vertical-align: top;\n",
              "    }\n",
              "\n",
              "    .dataframe thead th {\n",
              "        text-align: right;\n",
              "    }\n",
              "</style>\n",
              "<table border=\"1\" class=\"dataframe\">\n",
              "  <thead>\n",
              "    <tr style=\"text-align: right;\">\n",
              "      <th></th>\n",
              "      <th>qid</th>\n",
              "      <th>question_text</th>\n",
              "      <th>target</th>\n",
              "    </tr>\n",
              "  </thead>\n",
              "  <tbody>\n",
              "    <tr>\n",
              "      <th>443046</th>\n",
              "      <td>56d324bb1e2c29f43b12</td>\n",
              "      <td>What is the most effective classroom managemen...</td>\n",
              "      <td>0</td>\n",
              "    </tr>\n",
              "    <tr>\n",
              "      <th>947549</th>\n",
              "      <td>b9ad893dc78c577f8a63</td>\n",
              "      <td>Can I study abroad after 10th class from Bangl...</td>\n",
              "      <td>0</td>\n",
              "    </tr>\n",
              "    <tr>\n",
              "      <th>523769</th>\n",
              "      <td>6689ebaeeb65b209a412</td>\n",
              "      <td>How can I make friends as a college junior?</td>\n",
              "      <td>0</td>\n",
              "    </tr>\n",
              "    <tr>\n",
              "      <th>949821</th>\n",
              "      <td>ba1e2c4a0fef09671516</td>\n",
              "      <td>How do I download free APK Minecraft: Pocket E...</td>\n",
              "      <td>0</td>\n",
              "    </tr>\n",
              "    <tr>\n",
              "      <th>1030397</th>\n",
              "      <td>c9ea2b69bf0d74626f46</td>\n",
              "      <td>Like Kuvera, is \"Groww\" also a free online inv...</td>\n",
              "      <td>0</td>\n",
              "    </tr>\n",
              "    <tr>\n",
              "      <th>...</th>\n",
              "      <td>...</td>\n",
              "      <td>...</td>\n",
              "      <td>...</td>\n",
              "    </tr>\n",
              "    <tr>\n",
              "      <th>998930</th>\n",
              "      <td>c3c03a307a29c69971b4</td>\n",
              "      <td>How do I research list of reliable charcoal im...</td>\n",
              "      <td>0</td>\n",
              "    </tr>\n",
              "    <tr>\n",
              "      <th>66641</th>\n",
              "      <td>0d119aba95ee6684f506</td>\n",
              "      <td>What are petroleum products, and what is petro...</td>\n",
              "      <td>0</td>\n",
              "    </tr>\n",
              "    <tr>\n",
              "      <th>90024</th>\n",
              "      <td>11a46cd148a104b271cf</td>\n",
              "      <td>What are some services that will let you quick...</td>\n",
              "      <td>0</td>\n",
              "    </tr>\n",
              "    <tr>\n",
              "      <th>130113</th>\n",
              "      <td>1973e6e2111a0c93193a</td>\n",
              "      <td>What credit card processors do online marketpl...</td>\n",
              "      <td>0</td>\n",
              "    </tr>\n",
              "    <tr>\n",
              "      <th>1137</th>\n",
              "      <td>0037ed037520d82393c0</td>\n",
              "      <td>On which number system does a computer work?</td>\n",
              "      <td>0</td>\n",
              "    </tr>\n",
              "  </tbody>\n",
              "</table>\n",
              "<p>100000 rows × 3 columns</p>\n",
              "</div>\n",
              "      <button class=\"colab-df-convert\" onclick=\"convertToInteractive('df-61eb1c58-0d7e-4839-95dd-196a1d3770b2')\"\n",
              "              title=\"Convert this dataframe to an interactive table.\"\n",
              "              style=\"display:none;\">\n",
              "        \n",
              "  <svg xmlns=\"http://www.w3.org/2000/svg\" height=\"24px\"viewBox=\"0 0 24 24\"\n",
              "       width=\"24px\">\n",
              "    <path d=\"M0 0h24v24H0V0z\" fill=\"none\"/>\n",
              "    <path d=\"M18.56 5.44l.94 2.06.94-2.06 2.06-.94-2.06-.94-.94-2.06-.94 2.06-2.06.94zm-11 1L8.5 8.5l.94-2.06 2.06-.94-2.06-.94L8.5 2.5l-.94 2.06-2.06.94zm10 10l.94 2.06.94-2.06 2.06-.94-2.06-.94-.94-2.06-.94 2.06-2.06.94z\"/><path d=\"M17.41 7.96l-1.37-1.37c-.4-.4-.92-.59-1.43-.59-.52 0-1.04.2-1.43.59L10.3 9.45l-7.72 7.72c-.78.78-.78 2.05 0 2.83L4 21.41c.39.39.9.59 1.41.59.51 0 1.02-.2 1.41-.59l7.78-7.78 2.81-2.81c.8-.78.8-2.07 0-2.86zM5.41 20L4 18.59l7.72-7.72 1.47 1.35L5.41 20z\"/>\n",
              "  </svg>\n",
              "      </button>\n",
              "      \n",
              "  <style>\n",
              "    .colab-df-container {\n",
              "      display:flex;\n",
              "      flex-wrap:wrap;\n",
              "      gap: 12px;\n",
              "    }\n",
              "\n",
              "    .colab-df-convert {\n",
              "      background-color: #E8F0FE;\n",
              "      border: none;\n",
              "      border-radius: 50%;\n",
              "      cursor: pointer;\n",
              "      display: none;\n",
              "      fill: #1967D2;\n",
              "      height: 32px;\n",
              "      padding: 0 0 0 0;\n",
              "      width: 32px;\n",
              "    }\n",
              "\n",
              "    .colab-df-convert:hover {\n",
              "      background-color: #E2EBFA;\n",
              "      box-shadow: 0px 1px 2px rgba(60, 64, 67, 0.3), 0px 1px 3px 1px rgba(60, 64, 67, 0.15);\n",
              "      fill: #174EA6;\n",
              "    }\n",
              "\n",
              "    [theme=dark] .colab-df-convert {\n",
              "      background-color: #3B4455;\n",
              "      fill: #D2E3FC;\n",
              "    }\n",
              "\n",
              "    [theme=dark] .colab-df-convert:hover {\n",
              "      background-color: #434B5C;\n",
              "      box-shadow: 0px 1px 3px 1px rgba(0, 0, 0, 0.15);\n",
              "      filter: drop-shadow(0px 1px 2px rgba(0, 0, 0, 0.3));\n",
              "      fill: #FFFFFF;\n",
              "    }\n",
              "  </style>\n",
              "\n",
              "      <script>\n",
              "        const buttonEl =\n",
              "          document.querySelector('#df-61eb1c58-0d7e-4839-95dd-196a1d3770b2 button.colab-df-convert');\n",
              "        buttonEl.style.display =\n",
              "          google.colab.kernel.accessAllowed ? 'block' : 'none';\n",
              "\n",
              "        async function convertToInteractive(key) {\n",
              "          const element = document.querySelector('#df-61eb1c58-0d7e-4839-95dd-196a1d3770b2');\n",
              "          const dataTable =\n",
              "            await google.colab.kernel.invokeFunction('convertToInteractive',\n",
              "                                                     [key], {});\n",
              "          if (!dataTable) return;\n",
              "\n",
              "          const docLinkHtml = 'Like what you see? Visit the ' +\n",
              "            '<a target=\"_blank\" href=https://colab.research.google.com/notebooks/data_table.ipynb>data table notebook</a>'\n",
              "            + ' to learn more about interactive tables.';\n",
              "          element.innerHTML = '';\n",
              "          dataTable['output_type'] = 'display_data';\n",
              "          await google.colab.output.renderOutput(dataTable, element);\n",
              "          const docLink = document.createElement('div');\n",
              "          docLink.innerHTML = docLinkHtml;\n",
              "          element.appendChild(docLink);\n",
              "        }\n",
              "      </script>\n",
              "    </div>\n",
              "  </div>\n",
              "  "
            ]
          },
          "metadata": {},
          "execution_count": 54
        }
      ]
    },
    {
      "cell_type": "code",
      "source": [
        "small_df = sample_df[:5]"
      ],
      "metadata": {
        "id": "nFnykhUKSocu"
      },
      "execution_count": null,
      "outputs": []
    },
    {
      "cell_type": "code",
      "source": [
        "small_df"
      ],
      "metadata": {
        "colab": {
          "base_uri": "https://localhost:8080/",
          "height": 268
        },
        "id": "YHpr3MqQKzZg",
        "outputId": "c7597f35-99ed-47a7-d014-4d48c309ad3e"
      },
      "execution_count": null,
      "outputs": [
        {
          "output_type": "execute_result",
          "data": {
            "text/plain": [
              "                          qid  \\\n",
              "443046   56d324bb1e2c29f43b12   \n",
              "947549   b9ad893dc78c577f8a63   \n",
              "523769   6689ebaeeb65b209a412   \n",
              "949821   ba1e2c4a0fef09671516   \n",
              "1030397  c9ea2b69bf0d74626f46   \n",
              "\n",
              "                                             question_text  target  \n",
              "443046   What is the most effective classroom managemen...       0  \n",
              "947549   Can I study abroad after 10th class from Bangl...       0  \n",
              "523769         How can I make friends as a college junior?       0  \n",
              "949821   How do I download free APK Minecraft: Pocket E...       0  \n",
              "1030397  Like Kuvera, is \"Groww\" also a free online inv...       0  "
            ],
            "text/html": [
              "\n",
              "  <div id=\"df-fdaaddb0-14e0-4678-8dd9-79bf937ba485\">\n",
              "    <div class=\"colab-df-container\">\n",
              "      <div>\n",
              "<style scoped>\n",
              "    .dataframe tbody tr th:only-of-type {\n",
              "        vertical-align: middle;\n",
              "    }\n",
              "\n",
              "    .dataframe tbody tr th {\n",
              "        vertical-align: top;\n",
              "    }\n",
              "\n",
              "    .dataframe thead th {\n",
              "        text-align: right;\n",
              "    }\n",
              "</style>\n",
              "<table border=\"1\" class=\"dataframe\">\n",
              "  <thead>\n",
              "    <tr style=\"text-align: right;\">\n",
              "      <th></th>\n",
              "      <th>qid</th>\n",
              "      <th>question_text</th>\n",
              "      <th>target</th>\n",
              "    </tr>\n",
              "  </thead>\n",
              "  <tbody>\n",
              "    <tr>\n",
              "      <th>443046</th>\n",
              "      <td>56d324bb1e2c29f43b12</td>\n",
              "      <td>What is the most effective classroom managemen...</td>\n",
              "      <td>0</td>\n",
              "    </tr>\n",
              "    <tr>\n",
              "      <th>947549</th>\n",
              "      <td>b9ad893dc78c577f8a63</td>\n",
              "      <td>Can I study abroad after 10th class from Bangl...</td>\n",
              "      <td>0</td>\n",
              "    </tr>\n",
              "    <tr>\n",
              "      <th>523769</th>\n",
              "      <td>6689ebaeeb65b209a412</td>\n",
              "      <td>How can I make friends as a college junior?</td>\n",
              "      <td>0</td>\n",
              "    </tr>\n",
              "    <tr>\n",
              "      <th>949821</th>\n",
              "      <td>ba1e2c4a0fef09671516</td>\n",
              "      <td>How do I download free APK Minecraft: Pocket E...</td>\n",
              "      <td>0</td>\n",
              "    </tr>\n",
              "    <tr>\n",
              "      <th>1030397</th>\n",
              "      <td>c9ea2b69bf0d74626f46</td>\n",
              "      <td>Like Kuvera, is \"Groww\" also a free online inv...</td>\n",
              "      <td>0</td>\n",
              "    </tr>\n",
              "  </tbody>\n",
              "</table>\n",
              "</div>\n",
              "      <button class=\"colab-df-convert\" onclick=\"convertToInteractive('df-fdaaddb0-14e0-4678-8dd9-79bf937ba485')\"\n",
              "              title=\"Convert this dataframe to an interactive table.\"\n",
              "              style=\"display:none;\">\n",
              "        \n",
              "  <svg xmlns=\"http://www.w3.org/2000/svg\" height=\"24px\"viewBox=\"0 0 24 24\"\n",
              "       width=\"24px\">\n",
              "    <path d=\"M0 0h24v24H0V0z\" fill=\"none\"/>\n",
              "    <path d=\"M18.56 5.44l.94 2.06.94-2.06 2.06-.94-2.06-.94-.94-2.06-.94 2.06-2.06.94zm-11 1L8.5 8.5l.94-2.06 2.06-.94-2.06-.94L8.5 2.5l-.94 2.06-2.06.94zm10 10l.94 2.06.94-2.06 2.06-.94-2.06-.94-.94-2.06-.94 2.06-2.06.94z\"/><path d=\"M17.41 7.96l-1.37-1.37c-.4-.4-.92-.59-1.43-.59-.52 0-1.04.2-1.43.59L10.3 9.45l-7.72 7.72c-.78.78-.78 2.05 0 2.83L4 21.41c.39.39.9.59 1.41.59.51 0 1.02-.2 1.41-.59l7.78-7.78 2.81-2.81c.8-.78.8-2.07 0-2.86zM5.41 20L4 18.59l7.72-7.72 1.47 1.35L5.41 20z\"/>\n",
              "  </svg>\n",
              "      </button>\n",
              "      \n",
              "  <style>\n",
              "    .colab-df-container {\n",
              "      display:flex;\n",
              "      flex-wrap:wrap;\n",
              "      gap: 12px;\n",
              "    }\n",
              "\n",
              "    .colab-df-convert {\n",
              "      background-color: #E8F0FE;\n",
              "      border: none;\n",
              "      border-radius: 50%;\n",
              "      cursor: pointer;\n",
              "      display: none;\n",
              "      fill: #1967D2;\n",
              "      height: 32px;\n",
              "      padding: 0 0 0 0;\n",
              "      width: 32px;\n",
              "    }\n",
              "\n",
              "    .colab-df-convert:hover {\n",
              "      background-color: #E2EBFA;\n",
              "      box-shadow: 0px 1px 2px rgba(60, 64, 67, 0.3), 0px 1px 3px 1px rgba(60, 64, 67, 0.15);\n",
              "      fill: #174EA6;\n",
              "    }\n",
              "\n",
              "    [theme=dark] .colab-df-convert {\n",
              "      background-color: #3B4455;\n",
              "      fill: #D2E3FC;\n",
              "    }\n",
              "\n",
              "    [theme=dark] .colab-df-convert:hover {\n",
              "      background-color: #434B5C;\n",
              "      box-shadow: 0px 1px 3px 1px rgba(0, 0, 0, 0.15);\n",
              "      filter: drop-shadow(0px 1px 2px rgba(0, 0, 0, 0.3));\n",
              "      fill: #FFFFFF;\n",
              "    }\n",
              "  </style>\n",
              "\n",
              "      <script>\n",
              "        const buttonEl =\n",
              "          document.querySelector('#df-fdaaddb0-14e0-4678-8dd9-79bf937ba485 button.colab-df-convert');\n",
              "        buttonEl.style.display =\n",
              "          google.colab.kernel.accessAllowed ? 'block' : 'none';\n",
              "\n",
              "        async function convertToInteractive(key) {\n",
              "          const element = document.querySelector('#df-fdaaddb0-14e0-4678-8dd9-79bf937ba485');\n",
              "          const dataTable =\n",
              "            await google.colab.kernel.invokeFunction('convertToInteractive',\n",
              "                                                     [key], {});\n",
              "          if (!dataTable) return;\n",
              "\n",
              "          const docLinkHtml = 'Like what you see? Visit the ' +\n",
              "            '<a target=\"_blank\" href=https://colab.research.google.com/notebooks/data_table.ipynb>data table notebook</a>'\n",
              "            + ' to learn more about interactive tables.';\n",
              "          element.innerHTML = '';\n",
              "          dataTable['output_type'] = 'display_data';\n",
              "          await google.colab.output.renderOutput(dataTable, element);\n",
              "          const docLink = document.createElement('div');\n",
              "          docLink.innerHTML = docLinkHtml;\n",
              "          element.appendChild(docLink);\n",
              "        }\n",
              "      </script>\n",
              "    </div>\n",
              "  </div>\n",
              "  "
            ]
          },
          "metadata": {},
          "execution_count": 56
        }
      ]
    },
    {
      "cell_type": "code",
      "source": [
        "small_df.question_text.values"
      ],
      "metadata": {
        "colab": {
          "base_uri": "https://localhost:8080/"
        },
        "id": "pjAgYRWybOYz",
        "outputId": "e868928f-f533-4ccd-e42f-1aa2d5f7581f"
      },
      "execution_count": null,
      "outputs": [
        {
          "output_type": "execute_result",
          "data": {
            "text/plain": [
              "array(['What is the most effective classroom management skill/technique to create a good learning environment?',\n",
              "       'Can I study abroad after 10th class from Bangladesh?',\n",
              "       'How can I make friends as a college junior?',\n",
              "       'How do I download free APK Minecraft: Pocket Edition for iOS (iPhone)?',\n",
              "       'Like Kuvera, is \"Groww\" also a free online investment platform where I can invest in direct mutual funds?'],\n",
              "      dtype=object)"
            ]
          },
          "metadata": {},
          "execution_count": 57
        }
      ]
    },
    {
      "cell_type": "code",
      "source": [
        "from sklearn.feature_extraction.text import CountVectorizer"
      ],
      "metadata": {
        "id": "5ZTUvP3wbOKL"
      },
      "execution_count": null,
      "outputs": []
    },
    {
      "cell_type": "code",
      "source": [
        "small_vect = CountVectorizer()"
      ],
      "metadata": {
        "id": "hOcQv8YLbN5h"
      },
      "execution_count": null,
      "outputs": []
    },
    {
      "cell_type": "code",
      "source": [
        "small_vect.fit(small_df.question_text)   ### learning vocabulary"
      ],
      "metadata": {
        "colab": {
          "base_uri": "https://localhost:8080/",
          "height": 75
        },
        "id": "h3sQeWZYd6X8",
        "outputId": "6f4fffaf-fbde-4bdc-c5d7-397464ab4ff6"
      },
      "execution_count": null,
      "outputs": [
        {
          "output_type": "execute_result",
          "data": {
            "text/plain": [
              "CountVectorizer()"
            ],
            "text/html": [
              "<style>#sk-container-id-1 {color: black;background-color: white;}#sk-container-id-1 pre{padding: 0;}#sk-container-id-1 div.sk-toggleable {background-color: white;}#sk-container-id-1 label.sk-toggleable__label {cursor: pointer;display: block;width: 100%;margin-bottom: 0;padding: 0.3em;box-sizing: border-box;text-align: center;}#sk-container-id-1 label.sk-toggleable__label-arrow:before {content: \"▸\";float: left;margin-right: 0.25em;color: #696969;}#sk-container-id-1 label.sk-toggleable__label-arrow:hover:before {color: black;}#sk-container-id-1 div.sk-estimator:hover label.sk-toggleable__label-arrow:before {color: black;}#sk-container-id-1 div.sk-toggleable__content {max-height: 0;max-width: 0;overflow: hidden;text-align: left;background-color: #f0f8ff;}#sk-container-id-1 div.sk-toggleable__content pre {margin: 0.2em;color: black;border-radius: 0.25em;background-color: #f0f8ff;}#sk-container-id-1 input.sk-toggleable__control:checked~div.sk-toggleable__content {max-height: 200px;max-width: 100%;overflow: auto;}#sk-container-id-1 input.sk-toggleable__control:checked~label.sk-toggleable__label-arrow:before {content: \"▾\";}#sk-container-id-1 div.sk-estimator input.sk-toggleable__control:checked~label.sk-toggleable__label {background-color: #d4ebff;}#sk-container-id-1 div.sk-label input.sk-toggleable__control:checked~label.sk-toggleable__label {background-color: #d4ebff;}#sk-container-id-1 input.sk-hidden--visually {border: 0;clip: rect(1px 1px 1px 1px);clip: rect(1px, 1px, 1px, 1px);height: 1px;margin: -1px;overflow: hidden;padding: 0;position: absolute;width: 1px;}#sk-container-id-1 div.sk-estimator {font-family: monospace;background-color: #f0f8ff;border: 1px dotted black;border-radius: 0.25em;box-sizing: border-box;margin-bottom: 0.5em;}#sk-container-id-1 div.sk-estimator:hover {background-color: #d4ebff;}#sk-container-id-1 div.sk-parallel-item::after {content: \"\";width: 100%;border-bottom: 1px solid gray;flex-grow: 1;}#sk-container-id-1 div.sk-label:hover label.sk-toggleable__label {background-color: #d4ebff;}#sk-container-id-1 div.sk-serial::before {content: \"\";position: absolute;border-left: 1px solid gray;box-sizing: border-box;top: 0;bottom: 0;left: 50%;z-index: 0;}#sk-container-id-1 div.sk-serial {display: flex;flex-direction: column;align-items: center;background-color: white;padding-right: 0.2em;padding-left: 0.2em;position: relative;}#sk-container-id-1 div.sk-item {position: relative;z-index: 1;}#sk-container-id-1 div.sk-parallel {display: flex;align-items: stretch;justify-content: center;background-color: white;position: relative;}#sk-container-id-1 div.sk-item::before, #sk-container-id-1 div.sk-parallel-item::before {content: \"\";position: absolute;border-left: 1px solid gray;box-sizing: border-box;top: 0;bottom: 0;left: 50%;z-index: -1;}#sk-container-id-1 div.sk-parallel-item {display: flex;flex-direction: column;z-index: 1;position: relative;background-color: white;}#sk-container-id-1 div.sk-parallel-item:first-child::after {align-self: flex-end;width: 50%;}#sk-container-id-1 div.sk-parallel-item:last-child::after {align-self: flex-start;width: 50%;}#sk-container-id-1 div.sk-parallel-item:only-child::after {width: 0;}#sk-container-id-1 div.sk-dashed-wrapped {border: 1px dashed gray;margin: 0 0.4em 0.5em 0.4em;box-sizing: border-box;padding-bottom: 0.4em;background-color: white;}#sk-container-id-1 div.sk-label label {font-family: monospace;font-weight: bold;display: inline-block;line-height: 1.2em;}#sk-container-id-1 div.sk-label-container {text-align: center;}#sk-container-id-1 div.sk-container {/* jupyter's `normalize.less` sets `[hidden] { display: none; }` but bootstrap.min.css set `[hidden] { display: none !important; }` so we also need the `!important` here to be able to override the default hidden behavior on the sphinx rendered scikit-learn.org. See: https://github.com/scikit-learn/scikit-learn/issues/21755 */display: inline-block !important;position: relative;}#sk-container-id-1 div.sk-text-repr-fallback {display: none;}</style><div id=\"sk-container-id-1\" class=\"sk-top-container\"><div class=\"sk-text-repr-fallback\"><pre>CountVectorizer()</pre><b>In a Jupyter environment, please rerun this cell to show the HTML representation or trust the notebook. <br />On GitHub, the HTML representation is unable to render, please try loading this page with nbviewer.org.</b></div><div class=\"sk-container\" hidden><div class=\"sk-item\"><div class=\"sk-estimator sk-toggleable\"><input class=\"sk-toggleable__control sk-hidden--visually\" id=\"sk-estimator-id-1\" type=\"checkbox\" checked><label for=\"sk-estimator-id-1\" class=\"sk-toggleable__label sk-toggleable__label-arrow\">CountVectorizer</label><div class=\"sk-toggleable__content\"><pre>CountVectorizer()</pre></div></div></div></div></div>"
            ]
          },
          "metadata": {},
          "execution_count": 60
        }
      ]
    },
    {
      "cell_type": "code",
      "source": [
        "small_vect.vocabulary_"
      ],
      "metadata": {
        "colab": {
          "base_uri": "https://localhost:8080/"
        },
        "id": "Z14QoY3Pd5sq",
        "outputId": "0b9d8fb3-c831-4b54-eecb-9e986d62a1b5"
      },
      "execution_count": null,
      "outputs": [
        {
          "output_type": "execute_result",
          "data": {
            "text/plain": [
              "{'what': 49,\n",
              " 'is': 31,\n",
              " 'the': 47,\n",
              " 'most': 39,\n",
              " 'effective': 16,\n",
              " 'classroom': 9,\n",
              " 'management': 37,\n",
              " 'skill': 44,\n",
              " 'technique': 46,\n",
              " 'to': 48,\n",
              " 'create': 11,\n",
              " 'good': 23,\n",
              " 'learning': 34,\n",
              " 'environment': 17,\n",
              " 'can': 7,\n",
              " 'study': 45,\n",
              " 'abroad': 1,\n",
              " 'after': 2,\n",
              " '10th': 0,\n",
              " 'class': 8,\n",
              " 'from': 21,\n",
              " 'bangladesh': 6,\n",
              " 'how': 25,\n",
              " 'make': 36,\n",
              " 'friends': 20,\n",
              " 'as': 5,\n",
              " 'college': 10,\n",
              " 'junior': 32,\n",
              " 'do': 13,\n",
              " 'download': 14,\n",
              " 'free': 19,\n",
              " 'apk': 4,\n",
              " 'minecraft': 38,\n",
              " 'pocket': 43,\n",
              " 'edition': 15,\n",
              " 'for': 18,\n",
              " 'ios': 29,\n",
              " 'iphone': 30,\n",
              " 'like': 35,\n",
              " 'kuvera': 33,\n",
              " 'groww': 24,\n",
              " 'also': 3,\n",
              " 'online': 41,\n",
              " 'investment': 28,\n",
              " 'platform': 42,\n",
              " 'where': 50,\n",
              " 'invest': 27,\n",
              " 'in': 26,\n",
              " 'direct': 12,\n",
              " 'mutual': 40,\n",
              " 'funds': 22}"
            ]
          },
          "metadata": {},
          "execution_count": 61
        }
      ]
    },
    {
      "cell_type": "code",
      "source": [
        "len(small_vect.vocabulary_)"
      ],
      "metadata": {
        "colab": {
          "base_uri": "https://localhost:8080/"
        },
        "id": "wfGJk0sVkPQe",
        "outputId": "df072083-030c-435c-e8a9-6d8268a0f86d"
      },
      "execution_count": null,
      "outputs": [
        {
          "output_type": "execute_result",
          "data": {
            "text/plain": [
              "51"
            ]
          },
          "metadata": {},
          "execution_count": 62
        }
      ]
    },
    {
      "cell_type": "code",
      "source": [
        "small_vect.get_feature_names_out()"
      ],
      "metadata": {
        "colab": {
          "base_uri": "https://localhost:8080/"
        },
        "id": "Pr1aQaQEjw-D",
        "outputId": "4986ea38-7be0-491b-cc1e-36de6cc06ef4"
      },
      "execution_count": null,
      "outputs": [
        {
          "output_type": "execute_result",
          "data": {
            "text/plain": [
              "array(['10th', 'abroad', 'after', 'also', 'apk', 'as', 'bangladesh',\n",
              "       'can', 'class', 'classroom', 'college', 'create', 'direct', 'do',\n",
              "       'download', 'edition', 'effective', 'environment', 'for', 'free',\n",
              "       'friends', 'from', 'funds', 'good', 'groww', 'how', 'in', 'invest',\n",
              "       'investment', 'ios', 'iphone', 'is', 'junior', 'kuvera',\n",
              "       'learning', 'like', 'make', 'management', 'minecraft', 'most',\n",
              "       'mutual', 'online', 'platform', 'pocket', 'skill', 'study',\n",
              "       'technique', 'the', 'to', 'what', 'where'], dtype=object)"
            ]
          },
          "metadata": {},
          "execution_count": 63
        }
      ]
    },
    {
      "cell_type": "code",
      "source": [
        "len(small_vect.get_feature_names_out())"
      ],
      "metadata": {
        "colab": {
          "base_uri": "https://localhost:8080/"
        },
        "id": "GgPsccDxjwwB",
        "outputId": "da95b7df-d70e-4772-8838-855bc96d5537"
      },
      "execution_count": null,
      "outputs": [
        {
          "output_type": "execute_result",
          "data": {
            "text/plain": [
              "51"
            ]
          },
          "metadata": {},
          "execution_count": 64
        }
      ]
    },
    {
      "cell_type": "markdown",
      "source": [
        "# Transform documents into Vectors"
      ],
      "metadata": {
        "id": "S0mq-YGaBhDZ"
      }
    },
    {
      "cell_type": "code",
      "source": [
        "small_df.question_text.values"
      ],
      "metadata": {
        "id": "REJHRW6SjwaG",
        "colab": {
          "base_uri": "https://localhost:8080/"
        },
        "outputId": "ce8e5b04-5451-4496-a18c-9bc775d0d038"
      },
      "execution_count": null,
      "outputs": [
        {
          "output_type": "execute_result",
          "data": {
            "text/plain": [
              "array(['What is the most effective classroom management skill/technique to create a good learning environment?',\n",
              "       'Can I study abroad after 10th class from Bangladesh?',\n",
              "       'How can I make friends as a college junior?',\n",
              "       'How do I download free APK Minecraft: Pocket Edition for iOS (iPhone)?',\n",
              "       'Like Kuvera, is \"Groww\" also a free online investment platform where I can invest in direct mutual funds?'],\n",
              "      dtype=object)"
            ]
          },
          "metadata": {},
          "execution_count": 65
        }
      ]
    },
    {
      "cell_type": "code",
      "source": [
        "small_vect.transform(small_df.question_text)"
      ],
      "metadata": {
        "id": "DzAhmmELd5Ni",
        "colab": {
          "base_uri": "https://localhost:8080/"
        },
        "outputId": "9e21268b-3e5a-40a8-b197-de98ec348c52"
      },
      "execution_count": null,
      "outputs": [
        {
          "output_type": "execute_result",
          "data": {
            "text/plain": [
              "<5x51 sparse matrix of type '<class 'numpy.int64'>'\n",
              "\twith 56 stored elements in Compressed Sparse Row format>"
            ]
          },
          "metadata": {},
          "execution_count": 66
        }
      ]
    },
    {
      "cell_type": "code",
      "source": [
        "vectors = small_vect.transform(small_df.question_text)\n",
        "vectors"
      ],
      "metadata": {
        "colab": {
          "base_uri": "https://localhost:8080/"
        },
        "id": "Dz4t9WeDE1kr",
        "outputId": "11e4bdf3-1e14-430f-92fd-a8fd1adf8f34"
      },
      "execution_count": null,
      "outputs": [
        {
          "output_type": "execute_result",
          "data": {
            "text/plain": [
              "<5x51 sparse matrix of type '<class 'numpy.int64'>'\n",
              "\twith 56 stored elements in Compressed Sparse Row format>"
            ]
          },
          "metadata": {},
          "execution_count": 67
        }
      ]
    },
    {
      "cell_type": "code",
      "source": [
        "vectors.shape"
      ],
      "metadata": {
        "colab": {
          "base_uri": "https://localhost:8080/"
        },
        "id": "JqrQzc9dFFu-",
        "outputId": "b0d54306-8e4b-4c20-d2b1-3dfa14e3d4e1"
      },
      "execution_count": null,
      "outputs": [
        {
          "output_type": "execute_result",
          "data": {
            "text/plain": [
              "(5, 51)"
            ]
          },
          "metadata": {},
          "execution_count": 68
        }
      ]
    },
    {
      "cell_type": "code",
      "source": [
        "vectors.toarray()     ## vectors of the full dataset"
      ],
      "metadata": {
        "colab": {
          "base_uri": "https://localhost:8080/"
        },
        "id": "spA3_4rmE-jF",
        "outputId": "041ed024-5126-4372-8b04-489740861fac"
      },
      "execution_count": null,
      "outputs": [
        {
          "output_type": "execute_result",
          "data": {
            "text/plain": [
              "array([[0, 0, 0, 0, 0, 0, 0, 0, 0, 1, 0, 1, 0, 0, 0, 0, 1, 1, 0, 0, 0, 0,\n",
              "        0, 1, 0, 0, 0, 0, 0, 0, 0, 1, 0, 0, 1, 0, 0, 1, 0, 1, 0, 0, 0, 0,\n",
              "        1, 0, 1, 1, 1, 1, 0],\n",
              "       [1, 1, 1, 0, 0, 0, 1, 1, 1, 0, 0, 0, 0, 0, 0, 0, 0, 0, 0, 0, 0, 1,\n",
              "        0, 0, 0, 0, 0, 0, 0, 0, 0, 0, 0, 0, 0, 0, 0, 0, 0, 0, 0, 0, 0, 0,\n",
              "        0, 1, 0, 0, 0, 0, 0],\n",
              "       [0, 0, 0, 0, 0, 1, 0, 1, 0, 0, 1, 0, 0, 0, 0, 0, 0, 0, 0, 0, 1, 0,\n",
              "        0, 0, 0, 1, 0, 0, 0, 0, 0, 0, 1, 0, 0, 0, 1, 0, 0, 0, 0, 0, 0, 0,\n",
              "        0, 0, 0, 0, 0, 0, 0],\n",
              "       [0, 0, 0, 0, 1, 0, 0, 0, 0, 0, 0, 0, 0, 1, 1, 1, 0, 0, 1, 1, 0, 0,\n",
              "        0, 0, 0, 1, 0, 0, 0, 1, 1, 0, 0, 0, 0, 0, 0, 0, 1, 0, 0, 0, 0, 1,\n",
              "        0, 0, 0, 0, 0, 0, 0],\n",
              "       [0, 0, 0, 1, 0, 0, 0, 1, 0, 0, 0, 0, 1, 0, 0, 0, 0, 0, 0, 1, 0, 0,\n",
              "        1, 0, 1, 0, 1, 1, 1, 0, 0, 1, 0, 1, 0, 1, 0, 0, 0, 0, 1, 1, 1, 0,\n",
              "        0, 0, 0, 0, 0, 0, 1]])"
            ]
          },
          "metadata": {},
          "execution_count": 69
        }
      ]
    },
    {
      "cell_type": "code",
      "source": [
        "small_df.question_text.values[0]"
      ],
      "metadata": {
        "colab": {
          "base_uri": "https://localhost:8080/",
          "height": 53
        },
        "id": "0pIj3cFJFXYp",
        "outputId": "e6e2e100-ed56-4bca-c6d1-4dadf82d69af"
      },
      "execution_count": null,
      "outputs": [
        {
          "output_type": "execute_result",
          "data": {
            "text/plain": [
              "'What is the most effective classroom management skill/technique to create a good learning environment?'"
            ],
            "application/vnd.google.colaboratory.intrinsic+json": {
              "type": "string"
            }
          },
          "metadata": {},
          "execution_count": 70
        }
      ]
    },
    {
      "cell_type": "code",
      "source": [
        "vectors[0].toarray()        ## 1st data er individual vector"
      ],
      "metadata": {
        "colab": {
          "base_uri": "https://localhost:8080/"
        },
        "id": "5R-GnUSMFz6h",
        "outputId": "7a9eacde-dba4-4126-c18d-b1958e44922d"
      },
      "execution_count": null,
      "outputs": [
        {
          "output_type": "execute_result",
          "data": {
            "text/plain": [
              "array([[0, 0, 0, 0, 0, 0, 0, 0, 0, 1, 0, 1, 0, 0, 0, 0, 1, 1, 0, 0, 0, 0,\n",
              "        0, 1, 0, 0, 0, 0, 0, 0, 0, 1, 0, 0, 1, 0, 0, 1, 0, 1, 0, 0, 0, 0,\n",
              "        1, 0, 1, 1, 1, 1, 0]])"
            ]
          },
          "metadata": {},
          "execution_count": 71
        }
      ]
    },
    {
      "cell_type": "markdown",
      "source": [
        "# Configure Count Vectorizer Parameters"
      ],
      "metadata": {
        "id": "s1a3s3f7GEd3"
      }
    },
    {
      "cell_type": "code",
      "source": [
        "stemmer = SnowballStemmer(language = 'english')"
      ],
      "metadata": {
        "id": "z-3ardL9H9ZE"
      },
      "execution_count": null,
      "outputs": []
    },
    {
      "cell_type": "code",
      "source": [
        "### Stop word removal\n",
        "def tokenize(text):\n",
        "  return [stemmer.stem(word) for word in word_tokenize(text)]"
      ],
      "metadata": {
        "id": "NPnmPYO4Gdw2"
      },
      "execution_count": null,
      "outputs": []
    },
    {
      "cell_type": "code",
      "source": [
        "tokenize('what is the really (dealing) here?')"
      ],
      "metadata": {
        "colab": {
          "base_uri": "https://localhost:8080/"
        },
        "id": "I2fr9rYwHXsy",
        "outputId": "50fbccf4-11d4-4cf4-aa73-2131dd2e6eb3"
      },
      "execution_count": null,
      "outputs": [
        {
          "output_type": "execute_result",
          "data": {
            "text/plain": [
              "['what', 'is', 'the', 'realli', '(', 'deal', ')', 'here', '?']"
            ]
          },
          "metadata": {},
          "execution_count": 74
        }
      ]
    },
    {
      "cell_type": "code",
      "source": [
        "vectorizer = CountVectorizer(lowercase=True,\n",
        "                             tokenizer=tokenize,\n",
        "                             stop_words=english_stopwords,\n",
        "                             max_features=1000)   ### stop word Countvectorizer er vitor deya hbe"
      ],
      "metadata": {
        "id": "2hrTn9JQGJ3c"
      },
      "execution_count": null,
      "outputs": []
    },
    {
      "cell_type": "code",
      "source": [
        "%%time\n",
        "vectorizer.fit(sample_df.question_text)   ### learn the vocabulary"
      ],
      "metadata": {
        "colab": {
          "base_uri": "https://localhost:8080/",
          "height": 320
        },
        "id": "hYwjywvCGJwO",
        "outputId": "71620990-8685-46d2-c36a-fa742a0b63c8"
      },
      "execution_count": null,
      "outputs": [
        {
          "output_type": "stream",
          "name": "stderr",
          "text": [
            "/usr/local/lib/python3.9/dist-packages/sklearn/feature_extraction/text.py:528: UserWarning: The parameter 'token_pattern' will not be used since 'tokenizer' is not None'\n",
            "  warnings.warn(\n",
            "/usr/local/lib/python3.9/dist-packages/sklearn/feature_extraction/text.py:409: UserWarning: Your stop_words may be inconsistent with your preprocessing. Tokenizing the stop words generated tokens [\"'d\", \"'s\", 'abov', 'ani', 'becaus', 'befor', 'could', 'doe', 'dure', 'might', 'must', \"n't\", 'need', 'onc', 'onli', 'ourselv', 'sha', 'themselv', 'veri', 'whi', 'wo', 'would', 'yourselv'] not in stop_words.\n",
            "  warnings.warn(\n"
          ]
        },
        {
          "output_type": "stream",
          "name": "stdout",
          "text": [
            "CPU times: user 33.2 s, sys: 127 ms, total: 33.3 s\n",
            "Wall time: 34 s\n"
          ]
        },
        {
          "output_type": "execute_result",
          "data": {
            "text/plain": [
              "CountVectorizer(max_features=1000,\n",
              "                stop_words=['i', 'me', 'my', 'myself', 'we', 'our', 'ours',\n",
              "                            'ourselves', 'you', \"you're\", \"you've\", \"you'll\",\n",
              "                            \"you'd\", 'your', 'yours', 'yourself', 'yourselves',\n",
              "                            'he', 'him', 'his', 'himself', 'she', \"she's\",\n",
              "                            'her', 'hers', 'herself', 'it', \"it's\", 'its',\n",
              "                            'itself', ...],\n",
              "                tokenizer=<function tokenize at 0x7f27c73a1790>)"
            ],
            "text/html": [
              "<style>#sk-container-id-2 {color: black;background-color: white;}#sk-container-id-2 pre{padding: 0;}#sk-container-id-2 div.sk-toggleable {background-color: white;}#sk-container-id-2 label.sk-toggleable__label {cursor: pointer;display: block;width: 100%;margin-bottom: 0;padding: 0.3em;box-sizing: border-box;text-align: center;}#sk-container-id-2 label.sk-toggleable__label-arrow:before {content: \"▸\";float: left;margin-right: 0.25em;color: #696969;}#sk-container-id-2 label.sk-toggleable__label-arrow:hover:before {color: black;}#sk-container-id-2 div.sk-estimator:hover label.sk-toggleable__label-arrow:before {color: black;}#sk-container-id-2 div.sk-toggleable__content {max-height: 0;max-width: 0;overflow: hidden;text-align: left;background-color: #f0f8ff;}#sk-container-id-2 div.sk-toggleable__content pre {margin: 0.2em;color: black;border-radius: 0.25em;background-color: #f0f8ff;}#sk-container-id-2 input.sk-toggleable__control:checked~div.sk-toggleable__content {max-height: 200px;max-width: 100%;overflow: auto;}#sk-container-id-2 input.sk-toggleable__control:checked~label.sk-toggleable__label-arrow:before {content: \"▾\";}#sk-container-id-2 div.sk-estimator input.sk-toggleable__control:checked~label.sk-toggleable__label {background-color: #d4ebff;}#sk-container-id-2 div.sk-label input.sk-toggleable__control:checked~label.sk-toggleable__label {background-color: #d4ebff;}#sk-container-id-2 input.sk-hidden--visually {border: 0;clip: rect(1px 1px 1px 1px);clip: rect(1px, 1px, 1px, 1px);height: 1px;margin: -1px;overflow: hidden;padding: 0;position: absolute;width: 1px;}#sk-container-id-2 div.sk-estimator {font-family: monospace;background-color: #f0f8ff;border: 1px dotted black;border-radius: 0.25em;box-sizing: border-box;margin-bottom: 0.5em;}#sk-container-id-2 div.sk-estimator:hover {background-color: #d4ebff;}#sk-container-id-2 div.sk-parallel-item::after {content: \"\";width: 100%;border-bottom: 1px solid gray;flex-grow: 1;}#sk-container-id-2 div.sk-label:hover label.sk-toggleable__label {background-color: #d4ebff;}#sk-container-id-2 div.sk-serial::before {content: \"\";position: absolute;border-left: 1px solid gray;box-sizing: border-box;top: 0;bottom: 0;left: 50%;z-index: 0;}#sk-container-id-2 div.sk-serial {display: flex;flex-direction: column;align-items: center;background-color: white;padding-right: 0.2em;padding-left: 0.2em;position: relative;}#sk-container-id-2 div.sk-item {position: relative;z-index: 1;}#sk-container-id-2 div.sk-parallel {display: flex;align-items: stretch;justify-content: center;background-color: white;position: relative;}#sk-container-id-2 div.sk-item::before, #sk-container-id-2 div.sk-parallel-item::before {content: \"\";position: absolute;border-left: 1px solid gray;box-sizing: border-box;top: 0;bottom: 0;left: 50%;z-index: -1;}#sk-container-id-2 div.sk-parallel-item {display: flex;flex-direction: column;z-index: 1;position: relative;background-color: white;}#sk-container-id-2 div.sk-parallel-item:first-child::after {align-self: flex-end;width: 50%;}#sk-container-id-2 div.sk-parallel-item:last-child::after {align-self: flex-start;width: 50%;}#sk-container-id-2 div.sk-parallel-item:only-child::after {width: 0;}#sk-container-id-2 div.sk-dashed-wrapped {border: 1px dashed gray;margin: 0 0.4em 0.5em 0.4em;box-sizing: border-box;padding-bottom: 0.4em;background-color: white;}#sk-container-id-2 div.sk-label label {font-family: monospace;font-weight: bold;display: inline-block;line-height: 1.2em;}#sk-container-id-2 div.sk-label-container {text-align: center;}#sk-container-id-2 div.sk-container {/* jupyter's `normalize.less` sets `[hidden] { display: none; }` but bootstrap.min.css set `[hidden] { display: none !important; }` so we also need the `!important` here to be able to override the default hidden behavior on the sphinx rendered scikit-learn.org. See: https://github.com/scikit-learn/scikit-learn/issues/21755 */display: inline-block !important;position: relative;}#sk-container-id-2 div.sk-text-repr-fallback {display: none;}</style><div id=\"sk-container-id-2\" class=\"sk-top-container\"><div class=\"sk-text-repr-fallback\"><pre>CountVectorizer(max_features=1000,\n",
              "                stop_words=[&#x27;i&#x27;, &#x27;me&#x27;, &#x27;my&#x27;, &#x27;myself&#x27;, &#x27;we&#x27;, &#x27;our&#x27;, &#x27;ours&#x27;,\n",
              "                            &#x27;ourselves&#x27;, &#x27;you&#x27;, &quot;you&#x27;re&quot;, &quot;you&#x27;ve&quot;, &quot;you&#x27;ll&quot;,\n",
              "                            &quot;you&#x27;d&quot;, &#x27;your&#x27;, &#x27;yours&#x27;, &#x27;yourself&#x27;, &#x27;yourselves&#x27;,\n",
              "                            &#x27;he&#x27;, &#x27;him&#x27;, &#x27;his&#x27;, &#x27;himself&#x27;, &#x27;she&#x27;, &quot;she&#x27;s&quot;,\n",
              "                            &#x27;her&#x27;, &#x27;hers&#x27;, &#x27;herself&#x27;, &#x27;it&#x27;, &quot;it&#x27;s&quot;, &#x27;its&#x27;,\n",
              "                            &#x27;itself&#x27;, ...],\n",
              "                tokenizer=&lt;function tokenize at 0x7f27c73a1790&gt;)</pre><b>In a Jupyter environment, please rerun this cell to show the HTML representation or trust the notebook. <br />On GitHub, the HTML representation is unable to render, please try loading this page with nbviewer.org.</b></div><div class=\"sk-container\" hidden><div class=\"sk-item\"><div class=\"sk-estimator sk-toggleable\"><input class=\"sk-toggleable__control sk-hidden--visually\" id=\"sk-estimator-id-2\" type=\"checkbox\" checked><label for=\"sk-estimator-id-2\" class=\"sk-toggleable__label sk-toggleable__label-arrow\">CountVectorizer</label><div class=\"sk-toggleable__content\"><pre>CountVectorizer(max_features=1000,\n",
              "                stop_words=[&#x27;i&#x27;, &#x27;me&#x27;, &#x27;my&#x27;, &#x27;myself&#x27;, &#x27;we&#x27;, &#x27;our&#x27;, &#x27;ours&#x27;,\n",
              "                            &#x27;ourselves&#x27;, &#x27;you&#x27;, &quot;you&#x27;re&quot;, &quot;you&#x27;ve&quot;, &quot;you&#x27;ll&quot;,\n",
              "                            &quot;you&#x27;d&quot;, &#x27;your&#x27;, &#x27;yours&#x27;, &#x27;yourself&#x27;, &#x27;yourselves&#x27;,\n",
              "                            &#x27;he&#x27;, &#x27;him&#x27;, &#x27;his&#x27;, &#x27;himself&#x27;, &#x27;she&#x27;, &quot;she&#x27;s&quot;,\n",
              "                            &#x27;her&#x27;, &#x27;hers&#x27;, &#x27;herself&#x27;, &#x27;it&#x27;, &quot;it&#x27;s&quot;, &#x27;its&#x27;,\n",
              "                            &#x27;itself&#x27;, ...],\n",
              "                tokenizer=&lt;function tokenize at 0x7f27c73a1790&gt;)</pre></div></div></div></div></div>"
            ]
          },
          "metadata": {},
          "execution_count": 76
        }
      ]
    },
    {
      "cell_type": "code",
      "source": [
        "vectorizer.vocabulary_"
      ],
      "metadata": {
        "colab": {
          "base_uri": "https://localhost:8080/"
        },
        "id": "j5eDH6ohGJo6",
        "outputId": "7a6583d9-3b06-4eba-d476-6e0e5deaccda"
      },
      "execution_count": null,
      "outputs": [
        {
          "output_type": "execute_result",
          "data": {
            "text/plain": [
              "{'effect': 300,\n",
              " 'manag': 547,\n",
              " 'creat': 235,\n",
              " 'good': 402,\n",
              " 'learn': 509,\n",
              " '?': 30,\n",
              " 'studi': 870,\n",
              " 'abroad': 35,\n",
              " 'class': 195,\n",
              " 'make': 544,\n",
              " 'friend': 381,\n",
              " 'colleg': 203,\n",
              " 'download': 282,\n",
              " 'free': 379,\n",
              " ':': 29,\n",
              " '(': 8,\n",
              " 'iphon': 478,\n",
              " ')': 9,\n",
              " 'like': 522,\n",
              " ',': 10,\n",
              " '``': 33,\n",
              " \"''\": 5,\n",
              " 'also': 66,\n",
              " 'onlin': 635,\n",
              " 'invest': 476,\n",
              " 'platform': 677,\n",
              " 'direct': 273,\n",
              " 'fund': 384,\n",
              " 'record': 745,\n",
              " 'read': 737,\n",
              " 'term': 899,\n",
              " \"'s\": 7,\n",
              " 'role': 772,\n",
              " 'get': 394,\n",
              " 'univers': 937,\n",
              " 'germani': 393,\n",
              " 'new': 612,\n",
              " 'skill': 827,\n",
              " 'anyth': 81,\n",
              " 'old': 631,\n",
              " 'english': 312,\n",
              " 'militari': 578,\n",
              " 'capit': 160,\n",
              " 'way': 957,\n",
              " 'earn': 291,\n",
              " 'money': 587,\n",
              " 'use': 941,\n",
              " 'brand': 144,\n",
              " 'car': 161,\n",
              " 'whi': 967,\n",
              " 'alway': 68,\n",
              " 'prefer': 694,\n",
              " 'player': 679,\n",
              " 'india': 456,\n",
              " 'play': 678,\n",
              " 'need': 607,\n",
              " 'purchas': 720,\n",
              " 'insur': 467,\n",
              " 'educ': 299,\n",
              " 'technolog': 896,\n",
              " 'compani': 211,\n",
              " 'come': 205,\n",
              " 'economi': 298,\n",
              " 'pursu': 722,\n",
              " 'mba': 561,\n",
              " 'activ': 45,\n",
              " 'place': 672,\n",
              " 'citizen': 192,\n",
              " \"'\": 4,\n",
              " 'featur': 353,\n",
              " 'air': 61,\n",
              " 'intern': 471,\n",
              " 'applic': 87,\n",
              " 'countri': 231,\n",
              " 'one': 633,\n",
              " 'movi': 592,\n",
              " 'actual': 47,\n",
              " 'rich': 768,\n",
              " 'peopl': 660,\n",
              " \"n't\": 600,\n",
              " 'care': 163,\n",
              " 'world': 981,\n",
              " 'issu': 482,\n",
              " 'affect': 56,\n",
              " 'poor': 685,\n",
              " 'deal': 252,\n",
              " 'problem': 703,\n",
              " 'life': 520,\n",
              " 'doe': 278,\n",
              " 'mean': 562,\n",
              " 'fear': 352,\n",
              " 'achiev': 42,\n",
              " 'success': 874,\n",
              " 'busi': 150,\n",
              " 'say': 783,\n",
              " 'mass': 554,\n",
              " 'shoot': 813,\n",
              " 'look': 533,\n",
              " 'start': 856,\n",
              " 'program': 711,\n",
              " 'year': 990,\n",
              " '.': 12,\n",
              " 'job': 488,\n",
              " 'offer': 625,\n",
              " 'special': 848,\n",
              " 'iit': 446,\n",
              " 'time': 909,\n",
              " 'anyon': 80,\n",
              " 'part': 654,\n",
              " 'bodi': 137,\n",
              " 'social': 833,\n",
              " 'help': 428,\n",
              " 'consid': 218,\n",
              " 'document': 277,\n",
              " 'child': 185,\n",
              " 'media': 565,\n",
              " 'feel': 355,\n",
              " 'leav': 511,\n",
              " 'determin': 266,\n",
              " 'area': 90,\n",
              " 'water': 956,\n",
              " 'left': 512,\n",
              " 'month': 588,\n",
              " 'safe': 778,\n",
              " 'drink': 284,\n",
              " 'better': 125,\n",
              " 'tip': 910,\n",
              " 'write': 985,\n",
              " 'email': 305,\n",
              " 'japanes': 484,\n",
              " 'first': 366,\n",
              " 'charact': 178,\n",
              " 'civil': 193,\n",
              " 'select': 798,\n",
              " 'financi': 363,\n",
              " 'certif': 173,\n",
              " 'requir': 759,\n",
              " 'admiss': 51,\n",
              " '2018': 22,\n",
              " 'ani': 75,\n",
              " 'see': 795,\n",
              " 'quora': 726,\n",
              " 'app': 83,\n",
              " 'onli': 634,\n",
              " 'show': 816,\n",
              " 'question': 725,\n",
              " 'south': 845,\n",
              " 'indian': 457,\n",
              " 'men': 570,\n",
              " 'dark': 247,\n",
              " 'becaus': 117,\n",
              " 'realli': 740,\n",
              " 'keep': 490,\n",
              " 'face': 338,\n",
              " 'day': 250,\n",
              " 'long': 532,\n",
              " 'institut': 466,\n",
              " 'market': 551,\n",
              " 'exist': 331,\n",
              " 'noth': 619,\n",
              " 'stop': 863,\n",
              " 'back': 108,\n",
              " 'ever': 322,\n",
              " 'pakistan': 650,\n",
              " 'becom': 118,\n",
              " 'state': 858,\n",
              " 'iq': 479,\n",
              " 'person': 666,\n",
              " 'known': 497,\n",
              " 'someon': 838,\n",
              " 'black': 131,\n",
              " 'video': 946,\n",
              " 'hand': 416,\n",
              " 'away': 105,\n",
              " 'themselv': 902,\n",
              " 'someth': 839,\n",
              " 'normal': 617,\n",
              " 'fee': 354,\n",
              " 'win': 971,\n",
              " 'war': 954,\n",
              " 'gate': 388,\n",
              " 'import': 451,\n",
              " 'jew': 487,\n",
              " 'type': 932,\n",
              " 'measur': 563,\n",
              " 'current': 242,\n",
              " 'main': 542,\n",
              " 'advantag': 54,\n",
              " 'network': 610,\n",
              " 'secur': 794,\n",
              " 'moment': 586,\n",
              " 'young': 993,\n",
              " 'student': 869,\n",
              " 'would': 984,\n",
              " 'move': 591,\n",
              " 'school': 784,\n",
              " 'appli': 86,\n",
              " 'internship': 473,\n",
              " 'eat': 296,\n",
              " 'even': 320,\n",
              " 'though': 906,\n",
              " 'healthi': 424,\n",
              " 'facebook': 339,\n",
              " 'regard': 749,\n",
              " 'list': 526,\n",
              " 'detail': 265,\n",
              " 'relat': 750,\n",
              " 'adult': 52,\n",
              " 'thing': 904,\n",
              " 'girl': 395,\n",
              " 'fall': 344,\n",
              " 'love': 538,\n",
              " 'guy': 414,\n",
              " 'call': 155,\n",
              " 'russian': 777,\n",
              " 'attack': 98,\n",
              " 'internet': 472,\n",
              " 'work': 980,\n",
              " 'everi': 323,\n",
              " 'chang': 176,\n",
              " 'happen': 418,\n",
              " 'best': 124,\n",
              " 'scienc': 785,\n",
              " 'age': 59,\n",
              " 'electron': 303,\n",
              " 'middl': 576,\n",
              " 'east': 295,\n",
              " 'hard': 420,\n",
              " 'find': 364,\n",
              " 'true': 926,\n",
              " 'much': 594,\n",
              " 'spend': 851,\n",
              " 'energi': 310,\n",
              " 'ca': 153,\n",
              " 'machin': 540,\n",
              " 'instead': 465,\n",
              " 'level': 517,\n",
              " 'size': 826,\n",
              " 'googl': 403,\n",
              " '1': 13,\n",
              " 'number': 622,\n",
              " 'dure': 289,\n",
              " 'jee': 486,\n",
              " 'ball': 110,\n",
              " 'possibl': 689,\n",
              " 'cost': 229,\n",
              " 'light': 521,\n",
              " 'calcul': 154,\n",
              " 'big': 126,\n",
              " 'fast': 348,\n",
              " 'board': 136,\n",
              " 'exam': 328,\n",
              " 'process': 705,\n",
              " 'us': 939,\n",
              " 'bad': 109,\n",
              " 'law': 507,\n",
              " 'watch': 955,\n",
              " 'engin': 311,\n",
              " 'low': 539,\n",
              " 'power': 692,\n",
              " 'stock': 862,\n",
              " 'trade': 919,\n",
              " 'option': 640,\n",
              " 'differ': 270,\n",
              " 'muslim': 598,\n",
              " 'american': 71,\n",
              " 'women': 978,\n",
              " 'veri': 945,\n",
              " 'open': 636,\n",
              " 'rape': 731,\n",
              " 'tri': 925,\n",
              " 'want': 953,\n",
              " 'answer': 78,\n",
              " 'communic': 209,\n",
              " 'within': 974,\n",
              " 'could': 230,\n",
              " 'act': 43,\n",
              " 'sever': 809,\n",
              " 'star': 855,\n",
              " 'scientif': 786,\n",
              " 'procedur': 704,\n",
              " 'reduc': 747,\n",
              " 'worst': 982,\n",
              " 'high': 429,\n",
              " 'support': 880,\n",
              " 'softwar': 835,\n",
              " 'sourc': 844,\n",
              " 'reason': 741,\n",
              " 'wear': 959,\n",
              " 'real': 738,\n",
              " 'food': 373,\n",
              " 'whole': 969,\n",
              " 'data': 248,\n",
              " 'defin': 256,\n",
              " 'polit': 684,\n",
              " 'decis': 255,\n",
              " 'dream': 283,\n",
              " 'convert': 226,\n",
              " 'standard': 854,\n",
              " 'yes': 991,\n",
              " 'done': 281,\n",
              " 'pay': 659,\n",
              " 'tax': 889,\n",
              " 'cut': 244,\n",
              " 'without': 975,\n",
              " 'polic': 682,\n",
              " 'offic': 626,\n",
              " 'b': 106,\n",
              " 'commit': 207,\n",
              " 'crime': 237,\n",
              " 'common': 208,\n",
              " 'think': 905,\n",
              " 'late': 505,\n",
              " 'outsid': 644,\n",
              " 'mani': 548,\n",
              " 'die': 269,\n",
              " 'trump': 927,\n",
              " 'ask': 95,\n",
              " 'interview': 474,\n",
              " 'test': 900,\n",
              " 'check': 182,\n",
              " 'cancer': 158,\n",
              " 'interest': 470,\n",
              " 'rate': 732,\n",
              " 'full': 382,\n",
              " 'tv': 930,\n",
              " 'seri': 805,\n",
              " 'next': 614,\n",
              " 'generat': 391,\n",
              " 'order': 641,\n",
              " 'understand': 935,\n",
              " 'stori': 865,\n",
              " 'citi': 191,\n",
              " 'claim': 194,\n",
              " 'hire': 432,\n",
              " 'share': 812,\n",
              " 'candid': 159,\n",
              " 'tell': 898,\n",
              " 'famili': 345,\n",
              " 'improv': 452,\n",
              " 'parent': 653,\n",
              " 'boy': 140,\n",
              " 'almost': 63,\n",
              " 'appear': 84,\n",
              " 'gay': 389,\n",
              " 'hate': 421,\n",
              " 'carri': 165,\n",
              " 'usa': 940,\n",
              " 'non': 616,\n",
              " 'constant': 219,\n",
              " 'legal': 513,\n",
              " '7': 27,\n",
              " 'event': 321,\n",
              " 'sudden': 875,\n",
              " 'earth': 292,\n",
              " 'dead': 251,\n",
              " 'major': 543,\n",
              " 'sign': 818,\n",
              " 'take': 885,\n",
              " 'websit': 961,\n",
              " 'comput': 214,\n",
              " 'tamil': 888,\n",
              " 'compar': 212,\n",
              " 'fix': 368,\n",
              " 'teach': 890,\n",
              " 'speak': 847,\n",
              " 'eye': 337,\n",
              " 'right': 770,\n",
              " 'sexual': 811,\n",
              " 'abus': 36,\n",
              " 'atheist': 97,\n",
              " 'got': 404,\n",
              " 'function': 383,\n",
              " 'organ': 642,\n",
              " 'serv': 806,\n",
              " 'psycholog': 717,\n",
              " 'group': 410,\n",
              " 'mumbai': 596,\n",
              " 'score': 789,\n",
              " 'motiv': 590,\n",
              " '&': 3,\n",
              " '$': 1,\n",
              " 'paid': 648,\n",
              " 'buy': 151,\n",
              " '8': 28,\n",
              " 'integr': 468,\n",
              " 'mechan': 564,\n",
              " 'relationship': 751,\n",
              " 'break': 145,\n",
              " 'end': 309,\n",
              " 'grade': 406,\n",
              " 'mark': 550,\n",
              " 'matter': 559,\n",
              " 'canada': 157,\n",
              " 'red': 746,\n",
              " 'drop': 286,\n",
              " 'form': 377,\n",
              " 'uk': 934,\n",
              " 'onc': 632,\n",
              " 'turn': 929,\n",
              " 'realiz': 739,\n",
              " 'hitler': 435,\n",
              " 'shop': 814,\n",
              " 'accomplish': 39,\n",
              " '’': 997,\n",
              " 'chanc': 175,\n",
              " 'father': 350,\n",
              " 'medic': 566,\n",
              " 'fit': 367,\n",
              " 'go': 400,\n",
              " 'rank': 730,\n",
              " 'expect': 332,\n",
              " 'advanc': 53,\n",
              " '2017': 21,\n",
              " 'actor': 46,\n",
              " 'model': 582,\n",
              " 'join': 489,\n",
              " 'week': 962,\n",
              " 'complet': 213,\n",
              " 'north': 618,\n",
              " 'lead': 508,\n",
              " 'taken': 886,\n",
              " 'kind': 494,\n",
              " 'asian': 94,\n",
              " 'give': 397,\n",
              " 'sleep': 829,\n",
              " 'pleas': 680,\n",
              " 'foreign': 376,\n",
              " 'languag': 501,\n",
              " 'cours': 232,\n",
              " 'career': 164,\n",
              " 'opportun': 639,\n",
              " 'smoke': 832,\n",
              " 'singl': 822,\n",
              " 'exampl': 329,\n",
              " 'vs': 951,\n",
              " 'access': 38,\n",
              " 'mind': 580,\n",
              " 'lose': 534,\n",
              " 'result': 765,\n",
              " 'loss': 535,\n",
              " 'well': 964,\n",
              " 'correct': 228,\n",
              " 'french': 380,\n",
              " 'bring': 146,\n",
              " 'european': 319,\n",
              " 'kill': 493,\n",
              " '4': 24,\n",
              " 'australia': 101,\n",
              " 'system': 884,\n",
              " 'connect': 216,\n",
              " 'emot': 306,\n",
              " 'signific': 819,\n",
              " 'electr': 302,\n",
              " \"'m\": 6,\n",
              " 'wo': 976,\n",
              " '10': 14,\n",
              " '%': 2,\n",
              " 'includ': 453,\n",
              " 'past': 658,\n",
              " '5': 25,\n",
              " 'avail': 102,\n",
              " 'societi': 834,\n",
              " 'ok': 629,\n",
              " 'extrem': 336,\n",
              " 'phd': 667,\n",
              " 'produc': 706,\n",
              " 'conserv': 217,\n",
              " 'sinc': 821,\n",
              " 'choos': 189,\n",
              " 'condit': 215,\n",
              " 'focus': 371,\n",
              " 'anim': 76,\n",
              " 'bitcoin': 130,\n",
              " 'enjoy': 313,\n",
              " 'topic': 916,\n",
              " '“': 998,\n",
              " 'enough': 314,\n",
              " 'lie': 519,\n",
              " '”': 999,\n",
              " 'know': 495,\n",
              " 'let': 515,\n",
              " 'pictur': 671,\n",
              " 'ban': 111,\n",
              " 'kid': 492,\n",
              " 'arab': 89,\n",
              " 'africa': 57,\n",
              " 'govern': 405,\n",
              " 'must': 599,\n",
              " 'respect': 762,\n",
              " 'befor': 119,\n",
              " 'heart': 426,\n",
              " 'space': 846,\n",
              " 'secret': 793,\n",
              " 'wish': 973,\n",
              " 'describ': 262,\n",
              " 'devic': 268,\n",
              " 'fact': 340,\n",
              " 'mathemat': 558,\n",
              " 'never': 611,\n",
              " 'solv': 837,\n",
              " 'basic': 115,\n",
              " 'salari': 780,\n",
              " 'theori': 903,\n",
              " 'math': 557,\n",
              " 'web': 960,\n",
              " 'design': 263,\n",
              " 'teacher': 891,\n",
              " 'home': 437,\n",
              " 'pressur': 699,\n",
              " 'invent': 475,\n",
              " 'product': 707,\n",
              " 'line': 524,\n",
              " 'wrong': 988,\n",
              " 'stay': 859,\n",
              " 'narcissist': 602,\n",
              " 'valu': 944,\n",
              " 'small': 830,\n",
              " 'usual': 943,\n",
              " 'similar': 820,\n",
              " 'experi': 334,\n",
              " 'visit': 949,\n",
              " 'intellig': 469,\n",
              " 'drive': 285,\n",
              " 'unit': 936,\n",
              " '2': 19,\n",
              " 'releas': 752,\n",
              " 'game': 387,\n",
              " 'inspir': 463,\n",
              " 'book': 138,\n",
              " 'master': 555,\n",
              " 'locat': 531,\n",
              " 'develop': 267,\n",
              " 'metal': 574,\n",
              " 'case': 166,\n",
              " 'bit': 129,\n",
              " 'summer': 879,\n",
              " 'china': 187,\n",
              " 'sometim': 840,\n",
              " 'korea': 498,\n",
              " 'russia': 776,\n",
              " 'present': 697,\n",
              " 'presid': 698,\n",
              " 'immigr': 449,\n",
              " 'per': 661,\n",
              " 'natur': 604,\n",
              " 'death': 253,\n",
              " 'exact': 327,\n",
              " 'idea': 444,\n",
              " 'god': 401,\n",
              " 'begin': 120,\n",
              " 'servic': 807,\n",
              " 'alreadi': 65,\n",
              " 'attract': 100,\n",
              " 'talk': 887,\n",
              " 'prevent': 700,\n",
              " 'opinion': 638,\n",
              " 'stand': 853,\n",
              " 'name': 601,\n",
              " 'point': 681,\n",
              " 'made': 541,\n",
              " 'side': 817,\n",
              " 'coach': 200,\n",
              " 'prepar': 696,\n",
              " 'korean': 499,\n",
              " 'son': 841,\n",
              " 'girlfriend': 396,\n",
              " 'base': 114,\n",
              " 'final': 361,\n",
              " 'recommend': 744,\n",
              " 'letter': 516,\n",
              " 'futur': 385,\n",
              " 'style': 872,\n",
              " 'might': 577,\n",
              " 'higher': 430,\n",
              " 'rather': 733,\n",
              " 'allow': 62,\n",
              " 'post': 690,\n",
              " 'save': 782,\n",
              " 'nation': 603,\n",
              " 'apart': 82,\n",
              " 'price': 701,\n",
              " 'self': 799,\n",
              " 'sound': 843,\n",
              " 'digit': 272,\n",
              " 'multipl': 595,\n",
              " 'account': 41,\n",
              " 'materi': 556,\n",
              " 'android': 74,\n",
              " 'purpos': 721,\n",
              " 'believ': 122,\n",
              " 'great': 408,\n",
              " 'placement': 673,\n",
              " 'drug': 287,\n",
              " 'marri': 552,\n",
              " 'delhi': 259,\n",
              " 'factor': 341,\n",
              " 'babi': 107,\n",
              " 'anxieti': 79,\n",
              " 'night': 615,\n",
              " 'alon': 64,\n",
              " 'certain': 172,\n",
              " 'yet': 992,\n",
              " 'expens': 333,\n",
              " 'techniqu': 895,\n",
              " 'novel': 620,\n",
              " 'degre': 257,\n",
              " 'privat': 702,\n",
              " 'limit': 523,\n",
              " 'word': 979,\n",
              " 'abl': 34,\n",
              " 'physic': 670,\n",
              " 'view': 947,\n",
              " 'advic': 55,\n",
              " 'man': 546,\n",
              " 'wife': 970,\n",
              " 'woman': 977,\n",
              " 'ex': 326,\n",
              " 'boyfriend': 141,\n",
              " 'fail': 342,\n",
              " 'subject': 873,\n",
              " 'sell': 800,\n",
              " 'bank': 113,\n",
              " 'beauti': 116,\n",
              " 'gun': 413,\n",
              " 'cultur': 241,\n",
              " 'less': 514,\n",
              " 'smart': 831,\n",
              " 'surviv': 882,\n",
              " 'lot': 537,\n",
              " 'distanc': 275,\n",
              " 'solut': 836,\n",
              " 'continu': 222,\n",
              " 'live': 529,\n",
              " 'treat': 923,\n",
              " 'page': 647,\n",
              " 'favorit': 351,\n",
              " 'least': 510,\n",
              " 'java': 485,\n",
              " 'perform': 664,\n",
              " 'accord': 40,\n",
              " 'health': 423,\n",
              " 'perfect': 663,\n",
              " '15': 18,\n",
              " 'chines': 188,\n",
              " 'speed': 850,\n",
              " 'said': 779,\n",
              " 'profil': 709,\n",
              " 'altern': 67,\n",
              " 'inform': 461,\n",
              " 'larg': 503,\n",
              " 'paper': 652,\n",
              " 'team': 892,\n",
              " 'follow': 372,\n",
              " 'overcom': 645,\n",
              " 'profession': 708,\n",
              " 'camera': 156,\n",
              " 'dog': 279,\n",
              " 'benefit': 123,\n",
              " 'control': 224,\n",
              " 'contact': 220,\n",
              " 'liber': 518,\n",
              " 'parti': 655,\n",
              " 'sure': 881,\n",
              " 'popul': 686,\n",
              " 'donald': 280,\n",
              " 'provid': 716,\n",
              " 'avoid': 104,\n",
              " 'necessari': 606,\n",
              " 'remov': 755,\n",
              " 'influenc': 460,\n",
              " 'blue': 135,\n",
              " 'branch': 143,\n",
              " '3': 23,\n",
              " 'famous': 346,\n",
              " 'bangalor': 112,\n",
              " 'room': 773,\n",
              " 'explain': 335,\n",
              " 'given': 398,\n",
              " 'tool': 914,\n",
              " 'hous': 440,\n",
              " 'footbal': 374,\n",
              " 'phone': 668,\n",
              " 'decid': 254,\n",
              " 'return': 766,\n",
              " 'destroy': 264,\n",
              " 'ignor': 445,\n",
              " 'two': 931,\n",
              " 'togeth': 912,\n",
              " 'replac': 756,\n",
              " 'rule': 774,\n",
              " 'build': 149,\n",
              " 'averag': 103,\n",
              " 'structur': 868,\n",
              " 'chemic': 183,\n",
              " 'properti': 713,\n",
              " 'found': 378,\n",
              " 'human': 441,\n",
              " 'around': 92,\n",
              " 'behind': 121,\n",
              " 'respons': 763,\n",
              " 'put': 723,\n",
              " 'public': 718,\n",
              " 'song': 842,\n",
              " 'today': 911,\n",
              " 'treatment': 924,\n",
              " 'approach': 88,\n",
              " 'trust': 928,\n",
              " 'illeg': 447,\n",
              " 'delet': 258,\n",
              " 'written': 987,\n",
              " 'set': 808,\n",
              " 'green': 409,\n",
              " 'card': 162,\n",
              " 'suffer': 876,\n",
              " 'seem': 796,\n",
              " 'photo': 669,\n",
              " 'histori': 433,\n",
              " 'sentenc': 803,\n",
              " 'mobil': 581,\n",
              " 'visa': 948,\n",
              " 'cell': 171,\n",
              " 'memori': 569,\n",
              " 'date': 249,\n",
              " 'hear': 425,\n",
              " 'thought': 907,\n",
              " 'recent': 743,\n",
              " 'color': 204,\n",
              " 'scope': 788,\n",
              " 'code': 201,\n",
              " 'charg': 180,\n",
              " 'posit': 688,\n",
              " 'near': 605,\n",
              " 'cat': 167,\n",
              " 'etc': 317,\n",
              " 'sex': 810,\n",
              " 'travel': 922,\n",
              " 'chemistri': 184,\n",
              " 'skin': 828,\n",
              " 'step': 860,\n",
              " 'youtub': 994,\n",
              " 'graduat': 407,\n",
              " 'econom': 297,\n",
              " 'still': 861,\n",
              " 'field': 357,\n",
              " 'financ': 362,\n",
              " 'daili': 245,\n",
              " 'fight': 358,\n",
              " 'individu': 458,\n",
              " 'rais': 729,\n",
              " 'agre': 60,\n",
              " 'exercis': 330,\n",
              " 'worth': 983,\n",
              " 'due': 288,\n",
              " 'white': 968,\n",
              " 'film': 360,\n",
              " 'project': 712,\n",
              " 'often': 627,\n",
              " 'fake': 343,\n",
              " 'news': 613,\n",
              " 'resourc': 761,\n",
              " 'meet': 567,\n",
              " '6': 26,\n",
              " 'weight': 963,\n",
              " 'accept': 37,\n",
              " 'messag': 572,\n",
              " 'cold': 202,\n",
              " 'far': 347,\n",
              " '20': 20,\n",
              " 'scientist': 787,\n",
              " 'everyon': 324,\n",
              " 'appl': 85,\n",
              " 'impact': 450,\n",
              " 'handl': 417,\n",
              " 'period': 665,\n",
              " 'crack': 234,\n",
              " 'upsc': 938,\n",
              " '100': 15,\n",
              " 'train': 920,\n",
              " 'transfer': 921,\n",
              " 'contribut': 223,\n",
              " 'cbse': 169,\n",
              " 'x': 989,\n",
              " 'last': 504,\n",
              " 'negat': 609,\n",
              " 'file': 359,\n",
              " 'qualiti': 724,\n",
              " 'blood': 134,\n",
              " 'pass': 657,\n",
              " 'oper': 637,\n",
              " 'head': 422,\n",
              " 'insid': 462,\n",
              " 'potenti': 691,\n",
              " 'marriag': 553,\n",
              " 'music': 597,\n",
              " 'plan': 674,\n",
              " 'tech': 893,\n",
              " 'startup': 857,\n",
              " 'children': 186,\n",
              " 'fire': 365,\n",
              " 'amount': 72,\n",
              " 'mother': 589,\n",
              " 'percentag': 662,\n",
              " 'laptop': 502,\n",
              " 'three': 908,\n",
              " 'british': 147,\n",
              " 'member': 568,\n",
              " 'islam': 480,\n",
              " 'suggest': 877,\n",
              " 'obama': 623,\n",
              " 'art': 93,\n",
              " 'sens': 802,\n",
              " 'strong': 867,\n",
              " 'hit': 434,\n",
              " 'male': 545,\n",
              " 'mental': 571,\n",
              " 'may': 560,\n",
              " 'convers': 225,\n",
              " 'strategi': 866,\n",
              " 'instagram': 464,\n",
              " 'anoth': 77,\n",
              " 'refer': 748,\n",
              " 'seat': 791,\n",
              " 'general': 390,\n",
              " 'cover': 233,\n",
              " 'cloth': 199,\n",
              " 'top': 915,\n",
              " 'disord': 274,\n",
              " 'especi': 316,\n",
              " 'israel': 481,\n",
              " 'clean': 196,\n",
              " 'oil': 628,\n",
              " 'hair': 415,\n",
              " 'western': 966,\n",
              " 'danger': 246,\n",
              " 'increas': 455,\n",
              " 'plant': 676,\n",
              " 'forc': 375,\n",
              " 'gain': 386,\n",
              " 'million': 579,\n",
              " 'europ': 318,\n",
              " 'religi': 753,\n",
              " 'specif': 849,\n",
              " 'doctor': 276,\n",
              " 'send': 801,\n",
              " 'caus': 168,\n",
              " 'challeng': 174,\n",
              " 'hotel': 438,\n",
              " 'search': 790,\n",
              " 'attend': 99,\n",
              " 'site': 824,\n",
              " 'christian': 190,\n",
              " 'toward': 918,\n",
              " 'west': 965,\n",
              " 'knowledg': 496,\n",
              " 'address': 50,\n",
              " 'second': 792,\n",
              " 'okay': 630,\n",
              " 'democrat': 260,\n",
              " 'republican': 758,\n",
              " 'switch': 883,\n",
              " 'nuclear': 621,\n",
              " 'difficult': 271,\n",
              " 'prove': 715,\n",
              " 'everyth': 325,\n",
              " 'teenag': 897,\n",
              " 'brother': 148,\n",
              " 'german': 392,\n",
              " 'japan': 483,\n",
              " 'armi': 91,\n",
              " 'husband': 443,\n",
              " 'react': 735,\n",
              " 'global': 399,\n",
              " 'receiv': 742,\n",
              " 'close': 198,\n",
              " 'separ': 804,\n",
              " 'method': 575,\n",
              " 'pakistani': 651,\n",
              " 'rest': 764,\n",
              " 'total': 917,\n",
              " 'analysi': 73,\n",
              " 'industri': 459,\n",
              " 'equal': 315,\n",
              " 'manufactur': 549,\n",
              " 'run': 775,\n",
              " '-': 11,\n",
              " 'origin': 643,\n",
              " 'african': 58,\n",
              " 'femal': 356,\n",
              " 'custom': 243,\n",
              " 'depress': 261,\n",
              " 'modern': 583,\n",
              " 'partner': 656,\n",
              " 'vote': 950,\n",
              " '12': 16,\n",
              " 'employ': 307,\n",
              " 'amazon': 69,\n",
              " 'u.s.': 933,\n",
              " 'america': 70,\n",
              " 'characterist': 179,\n",
              " 'window': 972,\n",
              " 'hold': 436,\n",
              " 'cs': 239,\n",
              " 'neet': 608,\n",
              " 'review': 767,\n",
              " 'brain': 142,\n",
              " 'mom': 585,\n",
              " 'writer': 986,\n",
              " '[': 31,\n",
              " ']': 32,\n",
              " 'hour': 439,\n",
              " 'grow': 411,\n",
              " 'reaction': 736,\n",
              " 'elect': 301,\n",
              " 'bill': 128,\n",
              " 'c': 152,\n",
              " 'stupid': 871,\n",
              " 'text': 901,\n",
              " 'easi': 293,\n",
              " 'crush': 238,\n",
              " 'seen': 797,\n",
              " 'flight': 370,\n",
              " 'pregnant': 695,\n",
              " 'action': 44,\n",
              " 'clear': 197,\n",
              " 'cheat': 181,\n",
              " 'pain': 649,\n",
              " 'hurt': 442,\n",
              " 'modi': 584,\n",
              " 'technic': 894,\n",
              " 'employe': 308,\n",
              " 'blog': 133,\n",
              " 'object': 624,\n",
              " 'popular': 687,\n",
              " 'littl': 528,\n",
              " 'fli': 369,\n",
              " 'reach': 734,\n",
              " 'suicid': 878,\n",
              " 'block': 132,\n",
              " 'born': 139,\n",
              " 'later': 506,\n",
              " 'key': 491,\n",
              " 'protect': 714,\n",
              " 'walk': 952,\n",
              " 'hindi': 431,\n",
              " 'growth': 412,\n",
              " 'profit': 710,\n",
              " 'told': 913,\n",
              " 'easili': 294,\n",
              " 'research': 760,\n",
              " 'packag': 646,\n",
              " 'lost': 536,\n",
              " 'land': 500,\n",
              " 'racist': 728,\n",
              " 'sale': 781,\n",
              " 'celebr': 170,\n",
              " 'pune': 719,\n",
              " 'associ': 96,\n",
              " 'short': 815,\n",
              " 'race': 727,\n",
              " 'practic': 693,\n",
              " '12th': 17,\n",
              " 'add': 49,\n",
              " 'biggest': 127,\n",
              " 'met': 573,\n",
              " 'religion': 754,\n",
              " 'sister': 823,\n",
              " 'user': 942,\n",
              " 'store': 864,\n",
              " 'polici': 683,\n",
              " 'heat': 427,\n",
              " 'els': 304,\n",
              " 'risk': 771,\n",
              " 'rid': 769,\n",
              " 'happi': 419,\n",
              " 'situat': 825,\n",
              " 'content': 221,\n",
              " 'link': 525,\n",
              " 'weapon': 958,\n",
              " 'sport': 852,\n",
              " 'cse': 240,\n",
              " 'ms': 593,\n",
              " 'comment': 206,\n",
              " 'credit': 236,\n",
              " 'imag': 448,\n",
              " '!': 0,\n",
              " 'communiti': 210,\n",
              " 'ad': 48,\n",
              " 'channel': 177,\n",
              " '{': 995,\n",
              " '}': 996,\n",
              " 'fat': 349,\n",
              " 'incom': 454,\n",
              " 'earli': 290,\n",
              " 'listen': 527,\n",
              " 'loan': 530,\n",
              " 'report': 757,\n",
              " 'convinc': 227,\n",
              " 'involv': 477,\n",
              " 'planet': 675}"
            ]
          },
          "metadata": {},
          "execution_count": 77
        }
      ]
    },
    {
      "cell_type": "code",
      "source": [
        "len(vectorizer.vocabulary_)"
      ],
      "metadata": {
        "colab": {
          "base_uri": "https://localhost:8080/"
        },
        "id": "LmnN5RmbV6Ap",
        "outputId": "02bda374-5b95-4b08-e7b8-1c8705fe27cc"
      },
      "execution_count": null,
      "outputs": [
        {
          "output_type": "execute_result",
          "data": {
            "text/plain": [
              "1000"
            ]
          },
          "metadata": {},
          "execution_count": 78
        }
      ]
    },
    {
      "cell_type": "code",
      "source": [
        "vectorizer.get_feature_names_out()[:100]   ### prothom 100 vocabulary"
      ],
      "metadata": {
        "colab": {
          "base_uri": "https://localhost:8080/"
        },
        "id": "XLUEveOLE-dv",
        "outputId": "01158380-d3ef-4ef6-c624-2cadfe291607"
      },
      "execution_count": null,
      "outputs": [
        {
          "output_type": "execute_result",
          "data": {
            "text/plain": [
              "array(['!', '$', '%', '&', \"'\", \"''\", \"'m\", \"'s\", '(', ')', ',', '-', '.',\n",
              "       '1', '10', '100', '12', '12th', '15', '2', '20', '2017', '2018',\n",
              "       '3', '4', '5', '6', '7', '8', ':', '?', '[', ']', '``', 'abl',\n",
              "       'abroad', 'abus', 'accept', 'access', 'accomplish', 'accord',\n",
              "       'account', 'achiev', 'act', 'action', 'activ', 'actor', 'actual',\n",
              "       'ad', 'add', 'address', 'admiss', 'adult', 'advanc', 'advantag',\n",
              "       'advic', 'affect', 'africa', 'african', 'age', 'agre', 'air',\n",
              "       'allow', 'almost', 'alon', 'alreadi', 'also', 'altern', 'alway',\n",
              "       'amazon', 'america', 'american', 'amount', 'analysi', 'android',\n",
              "       'ani', 'anim', 'anoth', 'answer', 'anxieti', 'anyon', 'anyth',\n",
              "       'apart', 'app', 'appear', 'appl', 'appli', 'applic', 'approach',\n",
              "       'arab', 'area', 'armi', 'around', 'art', 'asian', 'ask', 'associ',\n",
              "       'atheist', 'attack', 'attend'], dtype=object)"
            ]
          },
          "metadata": {},
          "execution_count": 79
        }
      ]
    },
    {
      "cell_type": "code",
      "source": [
        "%%time\n",
        "inputs = vectorizer.transform(sample_df.question_text)"
      ],
      "metadata": {
        "id": "WS_N-d11WOla",
        "colab": {
          "base_uri": "https://localhost:8080/"
        },
        "outputId": "49e8b363-d17f-4982-ec3c-3604ca5b65bb"
      },
      "execution_count": null,
      "outputs": [
        {
          "output_type": "stream",
          "name": "stdout",
          "text": [
            "CPU times: user 30.8 s, sys: 102 ms, total: 30.9 s\n",
            "Wall time: 32.6 s\n"
          ]
        }
      ]
    },
    {
      "cell_type": "code",
      "source": [
        "inputs.shape"
      ],
      "metadata": {
        "colab": {
          "base_uri": "https://localhost:8080/"
        },
        "id": "EFIbTUISWOLB",
        "outputId": "14ac0c6d-dfaa-4073-ca50-c8ddc63527a7"
      },
      "execution_count": null,
      "outputs": [
        {
          "output_type": "execute_result",
          "data": {
            "text/plain": [
              "(100000, 1000)"
            ]
          },
          "metadata": {},
          "execution_count": 81
        }
      ]
    },
    {
      "cell_type": "code",
      "source": [
        "inputs"
      ],
      "metadata": {
        "colab": {
          "base_uri": "https://localhost:8080/"
        },
        "id": "DevwjJ1QW3ue",
        "outputId": "a9502840-e957-42d3-a604-5df3add5b254"
      },
      "execution_count": null,
      "outputs": [
        {
          "output_type": "execute_result",
          "data": {
            "text/plain": [
              "<100000x1000 sparse matrix of type '<class 'numpy.int64'>'\n",
              "\twith 548298 stored elements in Compressed Sparse Row format>"
            ]
          },
          "metadata": {},
          "execution_count": 82
        }
      ]
    },
    {
      "cell_type": "code",
      "source": [
        "sample_df.question_text.values[0]"
      ],
      "metadata": {
        "colab": {
          "base_uri": "https://localhost:8080/",
          "height": 53
        },
        "id": "-u2djoVdXCXI",
        "outputId": "d744191b-a3ca-499a-8405-4165faf5c1db"
      },
      "execution_count": null,
      "outputs": [
        {
          "output_type": "execute_result",
          "data": {
            "text/plain": [
              "'What is the most effective classroom management skill/technique to create a good learning environment?'"
            ],
            "application/vnd.google.colaboratory.intrinsic+json": {
              "type": "string"
            }
          },
          "metadata": {},
          "execution_count": 83
        }
      ]
    },
    {
      "cell_type": "code",
      "source": [
        "inputs[0].toarray()  ### ekhan theke vector er existence pawa tough"
      ],
      "metadata": {
        "colab": {
          "base_uri": "https://localhost:8080/"
        },
        "id": "5eIJdCxrW3ab",
        "outputId": "dbf0f696-1528-4be0-a6ab-5b344308c448"
      },
      "execution_count": null,
      "outputs": [
        {
          "output_type": "execute_result",
          "data": {
            "text/plain": [
              "array([[0, 0, 0, 0, 0, 0, 0, 0, 0, 0, 0, 0, 0, 0, 0, 0, 0, 0, 0, 0, 0, 0,\n",
              "        0, 0, 0, 0, 0, 0, 0, 0, 1, 0, 0, 0, 0, 0, 0, 0, 0, 0, 0, 0, 0, 0,\n",
              "        0, 0, 0, 0, 0, 0, 0, 0, 0, 0, 0, 0, 0, 0, 0, 0, 0, 0, 0, 0, 0, 0,\n",
              "        0, 0, 0, 0, 0, 0, 0, 0, 0, 0, 0, 0, 0, 0, 0, 0, 0, 0, 0, 0, 0, 0,\n",
              "        0, 0, 0, 0, 0, 0, 0, 0, 0, 0, 0, 0, 0, 0, 0, 0, 0, 0, 0, 0, 0, 0,\n",
              "        0, 0, 0, 0, 0, 0, 0, 0, 0, 0, 0, 0, 0, 0, 0, 0, 0, 0, 0, 0, 0, 0,\n",
              "        0, 0, 0, 0, 0, 0, 0, 0, 0, 0, 0, 0, 0, 0, 0, 0, 0, 0, 0, 0, 0, 0,\n",
              "        0, 0, 0, 0, 0, 0, 0, 0, 0, 0, 0, 0, 0, 0, 0, 0, 0, 0, 0, 0, 0, 0,\n",
              "        0, 0, 0, 0, 0, 0, 0, 0, 0, 0, 0, 0, 0, 0, 0, 0, 0, 0, 0, 0, 0, 0,\n",
              "        0, 0, 0, 0, 0, 0, 0, 0, 0, 0, 0, 0, 0, 0, 0, 0, 0, 0, 0, 0, 0, 0,\n",
              "        0, 0, 0, 0, 0, 0, 0, 0, 0, 0, 0, 0, 0, 0, 0, 1, 0, 0, 0, 0, 0, 0,\n",
              "        0, 0, 0, 0, 0, 0, 0, 0, 0, 0, 0, 0, 0, 0, 0, 0, 0, 0, 0, 0, 0, 0,\n",
              "        0, 0, 0, 0, 0, 0, 0, 0, 0, 0, 0, 0, 0, 0, 0, 0, 0, 0, 0, 0, 0, 0,\n",
              "        0, 0, 0, 0, 0, 0, 0, 0, 0, 0, 0, 0, 0, 0, 1, 0, 0, 0, 0, 0, 0, 0,\n",
              "        0, 0, 0, 0, 0, 0, 0, 0, 0, 0, 0, 0, 0, 0, 0, 0, 0, 0, 0, 0, 0, 0,\n",
              "        0, 0, 0, 0, 0, 0, 0, 0, 0, 0, 0, 0, 0, 0, 0, 0, 0, 0, 0, 0, 0, 0,\n",
              "        0, 0, 0, 0, 0, 0, 0, 0, 0, 0, 0, 0, 0, 0, 0, 0, 0, 0, 0, 0, 0, 0,\n",
              "        0, 0, 0, 0, 0, 0, 0, 0, 0, 0, 0, 0, 0, 0, 0, 0, 0, 0, 0, 0, 0, 0,\n",
              "        0, 0, 0, 0, 0, 0, 1, 0, 0, 0, 0, 0, 0, 0, 0, 0, 0, 0, 0, 0, 0, 0,\n",
              "        0, 0, 0, 0, 0, 0, 0, 0, 0, 0, 0, 0, 0, 0, 0, 0, 0, 0, 0, 0, 0, 0,\n",
              "        0, 0, 0, 0, 0, 0, 0, 0, 0, 0, 0, 0, 0, 0, 0, 0, 0, 0, 0, 0, 0, 0,\n",
              "        0, 0, 0, 0, 0, 0, 0, 0, 0, 0, 0, 0, 0, 0, 0, 0, 0, 0, 0, 0, 0, 0,\n",
              "        0, 0, 0, 0, 0, 0, 0, 0, 0, 0, 0, 0, 0, 0, 0, 0, 0, 0, 0, 0, 0, 0,\n",
              "        0, 0, 0, 1, 0, 0, 0, 0, 0, 0, 0, 0, 0, 0, 0, 0, 0, 0, 0, 0, 0, 0,\n",
              "        0, 0, 0, 0, 0, 0, 0, 0, 0, 0, 0, 0, 0, 0, 0, 0, 0, 0, 0, 1, 0, 0,\n",
              "        0, 0, 0, 0, 0, 0, 0, 0, 0, 0, 0, 0, 0, 0, 0, 0, 0, 0, 0, 0, 0, 0,\n",
              "        0, 0, 0, 0, 0, 0, 0, 0, 0, 0, 0, 0, 0, 0, 0, 0, 0, 0, 0, 0, 0, 0,\n",
              "        0, 0, 0, 0, 0, 0, 0, 0, 0, 0, 0, 0, 0, 0, 0, 0, 0, 0, 0, 0, 0, 0,\n",
              "        0, 0, 0, 0, 0, 0, 0, 0, 0, 0, 0, 0, 0, 0, 0, 0, 0, 0, 0, 0, 0, 0,\n",
              "        0, 0, 0, 0, 0, 0, 0, 0, 0, 0, 0, 0, 0, 0, 0, 0, 0, 0, 0, 0, 0, 0,\n",
              "        0, 0, 0, 0, 0, 0, 0, 0, 0, 0, 0, 0, 0, 0, 0, 0, 0, 0, 0, 0, 0, 0,\n",
              "        0, 0, 0, 0, 0, 0, 0, 0, 0, 0, 0, 0, 0, 0, 0, 0, 0, 0, 0, 0, 0, 0,\n",
              "        0, 0, 0, 0, 0, 0, 0, 0, 0, 0, 0, 0, 0, 0, 0, 0, 0, 0, 0, 0, 0, 0,\n",
              "        0, 0, 0, 0, 0, 0, 0, 0, 0, 0, 0, 0, 0, 0, 0, 0, 0, 0, 0, 0, 0, 0,\n",
              "        0, 0, 0, 0, 0, 0, 0, 0, 0, 0, 0, 0, 0, 0, 0, 0, 0, 0, 0, 0, 0, 0,\n",
              "        0, 0, 0, 0, 0, 0, 0, 0, 0, 0, 0, 0, 0, 0, 0, 0, 0, 0, 0, 0, 0, 0,\n",
              "        0, 0, 0, 0, 0, 0, 0, 0, 0, 0, 0, 0, 0, 0, 0, 0, 0, 0, 0, 0, 0, 0,\n",
              "        0, 0, 0, 0, 0, 0, 0, 0, 0, 0, 0, 0, 0, 0, 0, 0, 0, 0, 0, 0, 0, 0,\n",
              "        0, 0, 0, 0, 0, 0, 0, 0, 0, 0, 0, 0, 0, 0, 0, 0, 0, 0, 0, 0, 0, 0,\n",
              "        0, 0, 0, 0, 0, 0, 0, 0, 0, 0, 0, 0, 0, 0, 0, 0, 0, 0, 0, 0, 0, 0,\n",
              "        0, 0, 0, 0, 0, 0, 0, 0, 0, 0, 0, 0, 0, 0, 0, 0, 0, 0, 0, 0, 0, 0,\n",
              "        0, 0, 0, 0, 0, 0, 0, 0, 0, 0, 0, 0, 0, 0, 0, 0, 0, 0, 0, 0, 0, 0,\n",
              "        0, 0, 0, 0, 0, 0, 0, 0, 0, 0, 0, 0, 0, 0, 0, 0, 0, 0, 0, 0, 0, 0,\n",
              "        0, 0, 0, 0, 0, 0, 0, 0, 0, 0, 0, 0, 0, 0, 0, 0, 0, 0, 0, 0, 0, 0,\n",
              "        0, 0, 0, 0, 0, 0, 0, 0, 0, 0, 0, 0, 0, 0, 0, 0, 0, 0, 0, 0, 0, 0,\n",
              "        0, 0, 0, 0, 0, 0, 0, 0, 0, 0]])"
            ]
          },
          "metadata": {},
          "execution_count": 84
        }
      ]
    },
    {
      "cell_type": "code",
      "source": [
        "%%time\n",
        "test_inputs = vectorizer.transform(test_df.question_text)"
      ],
      "metadata": {
        "colab": {
          "base_uri": "https://localhost:8080/"
        },
        "id": "UJoPgSaTXs38",
        "outputId": "71432919-55b7-4e65-d3f0-83cb83678742"
      },
      "execution_count": null,
      "outputs": [
        {
          "output_type": "stream",
          "name": "stdout",
          "text": [
            "CPU times: user 1min 58s, sys: 373 ms, total: 1min 59s\n",
            "Wall time: 2min\n"
          ]
        }
      ]
    },
    {
      "cell_type": "code",
      "source": [],
      "metadata": {
        "id": "ztTTClPsXsp5"
      },
      "execution_count": null,
      "outputs": []
    },
    {
      "cell_type": "code",
      "source": [],
      "metadata": {
        "id": "-bViCwTIXsb3"
      },
      "execution_count": null,
      "outputs": []
    },
    {
      "cell_type": "markdown",
      "source": [
        "## ML Models for Text Classification\n",
        "\n",
        "1. create a training validation set\n",
        "2. train a logistic regression model\n",
        "3. Make Prediction on training, validation and test data."
      ],
      "metadata": {
        "id": "W1il34FU9gvw"
      }
    },
    {
      "cell_type": "markdown",
      "source": [
        "# Split into training and validation set"
      ],
      "metadata": {
        "id": "vx8aGKw1xtK4"
      }
    },
    {
      "cell_type": "code",
      "source": [
        "sample_df"
      ],
      "metadata": {
        "colab": {
          "base_uri": "https://localhost:8080/",
          "height": 485
        },
        "id": "diK_Fk_LxrbT",
        "outputId": "7d52f155-b08d-4f4a-c82c-4fc6d3579be4"
      },
      "execution_count": null,
      "outputs": [
        {
          "output_type": "execute_result",
          "data": {
            "text/plain": [
              "                          qid  \\\n",
              "443046   56d324bb1e2c29f43b12   \n",
              "947549   b9ad893dc78c577f8a63   \n",
              "523769   6689ebaeeb65b209a412   \n",
              "949821   ba1e2c4a0fef09671516   \n",
              "1030397  c9ea2b69bf0d74626f46   \n",
              "...                       ...   \n",
              "998930   c3c03a307a29c69971b4   \n",
              "66641    0d119aba95ee6684f506   \n",
              "90024    11a46cd148a104b271cf   \n",
              "130113   1973e6e2111a0c93193a   \n",
              "1137     0037ed037520d82393c0   \n",
              "\n",
              "                                             question_text  target  \n",
              "443046   What is the most effective classroom managemen...       0  \n",
              "947549   Can I study abroad after 10th class from Bangl...       0  \n",
              "523769         How can I make friends as a college junior?       0  \n",
              "949821   How do I download free APK Minecraft: Pocket E...       0  \n",
              "1030397  Like Kuvera, is \"Groww\" also a free online inv...       0  \n",
              "...                                                    ...     ...  \n",
              "998930   How do I research list of reliable charcoal im...       0  \n",
              "66641    What are petroleum products, and what is petro...       0  \n",
              "90024    What are some services that will let you quick...       0  \n",
              "130113   What credit card processors do online marketpl...       0  \n",
              "1137          On which number system does a computer work?       0  \n",
              "\n",
              "[100000 rows x 3 columns]"
            ],
            "text/html": [
              "\n",
              "  <div id=\"df-6f521191-ae46-40c9-8213-300cf66cd341\">\n",
              "    <div class=\"colab-df-container\">\n",
              "      <div>\n",
              "<style scoped>\n",
              "    .dataframe tbody tr th:only-of-type {\n",
              "        vertical-align: middle;\n",
              "    }\n",
              "\n",
              "    .dataframe tbody tr th {\n",
              "        vertical-align: top;\n",
              "    }\n",
              "\n",
              "    .dataframe thead th {\n",
              "        text-align: right;\n",
              "    }\n",
              "</style>\n",
              "<table border=\"1\" class=\"dataframe\">\n",
              "  <thead>\n",
              "    <tr style=\"text-align: right;\">\n",
              "      <th></th>\n",
              "      <th>qid</th>\n",
              "      <th>question_text</th>\n",
              "      <th>target</th>\n",
              "    </tr>\n",
              "  </thead>\n",
              "  <tbody>\n",
              "    <tr>\n",
              "      <th>443046</th>\n",
              "      <td>56d324bb1e2c29f43b12</td>\n",
              "      <td>What is the most effective classroom managemen...</td>\n",
              "      <td>0</td>\n",
              "    </tr>\n",
              "    <tr>\n",
              "      <th>947549</th>\n",
              "      <td>b9ad893dc78c577f8a63</td>\n",
              "      <td>Can I study abroad after 10th class from Bangl...</td>\n",
              "      <td>0</td>\n",
              "    </tr>\n",
              "    <tr>\n",
              "      <th>523769</th>\n",
              "      <td>6689ebaeeb65b209a412</td>\n",
              "      <td>How can I make friends as a college junior?</td>\n",
              "      <td>0</td>\n",
              "    </tr>\n",
              "    <tr>\n",
              "      <th>949821</th>\n",
              "      <td>ba1e2c4a0fef09671516</td>\n",
              "      <td>How do I download free APK Minecraft: Pocket E...</td>\n",
              "      <td>0</td>\n",
              "    </tr>\n",
              "    <tr>\n",
              "      <th>1030397</th>\n",
              "      <td>c9ea2b69bf0d74626f46</td>\n",
              "      <td>Like Kuvera, is \"Groww\" also a free online inv...</td>\n",
              "      <td>0</td>\n",
              "    </tr>\n",
              "    <tr>\n",
              "      <th>...</th>\n",
              "      <td>...</td>\n",
              "      <td>...</td>\n",
              "      <td>...</td>\n",
              "    </tr>\n",
              "    <tr>\n",
              "      <th>998930</th>\n",
              "      <td>c3c03a307a29c69971b4</td>\n",
              "      <td>How do I research list of reliable charcoal im...</td>\n",
              "      <td>0</td>\n",
              "    </tr>\n",
              "    <tr>\n",
              "      <th>66641</th>\n",
              "      <td>0d119aba95ee6684f506</td>\n",
              "      <td>What are petroleum products, and what is petro...</td>\n",
              "      <td>0</td>\n",
              "    </tr>\n",
              "    <tr>\n",
              "      <th>90024</th>\n",
              "      <td>11a46cd148a104b271cf</td>\n",
              "      <td>What are some services that will let you quick...</td>\n",
              "      <td>0</td>\n",
              "    </tr>\n",
              "    <tr>\n",
              "      <th>130113</th>\n",
              "      <td>1973e6e2111a0c93193a</td>\n",
              "      <td>What credit card processors do online marketpl...</td>\n",
              "      <td>0</td>\n",
              "    </tr>\n",
              "    <tr>\n",
              "      <th>1137</th>\n",
              "      <td>0037ed037520d82393c0</td>\n",
              "      <td>On which number system does a computer work?</td>\n",
              "      <td>0</td>\n",
              "    </tr>\n",
              "  </tbody>\n",
              "</table>\n",
              "<p>100000 rows × 3 columns</p>\n",
              "</div>\n",
              "      <button class=\"colab-df-convert\" onclick=\"convertToInteractive('df-6f521191-ae46-40c9-8213-300cf66cd341')\"\n",
              "              title=\"Convert this dataframe to an interactive table.\"\n",
              "              style=\"display:none;\">\n",
              "        \n",
              "  <svg xmlns=\"http://www.w3.org/2000/svg\" height=\"24px\"viewBox=\"0 0 24 24\"\n",
              "       width=\"24px\">\n",
              "    <path d=\"M0 0h24v24H0V0z\" fill=\"none\"/>\n",
              "    <path d=\"M18.56 5.44l.94 2.06.94-2.06 2.06-.94-2.06-.94-.94-2.06-.94 2.06-2.06.94zm-11 1L8.5 8.5l.94-2.06 2.06-.94-2.06-.94L8.5 2.5l-.94 2.06-2.06.94zm10 10l.94 2.06.94-2.06 2.06-.94-2.06-.94-.94-2.06-.94 2.06-2.06.94z\"/><path d=\"M17.41 7.96l-1.37-1.37c-.4-.4-.92-.59-1.43-.59-.52 0-1.04.2-1.43.59L10.3 9.45l-7.72 7.72c-.78.78-.78 2.05 0 2.83L4 21.41c.39.39.9.59 1.41.59.51 0 1.02-.2 1.41-.59l7.78-7.78 2.81-2.81c.8-.78.8-2.07 0-2.86zM5.41 20L4 18.59l7.72-7.72 1.47 1.35L5.41 20z\"/>\n",
              "  </svg>\n",
              "      </button>\n",
              "      \n",
              "  <style>\n",
              "    .colab-df-container {\n",
              "      display:flex;\n",
              "      flex-wrap:wrap;\n",
              "      gap: 12px;\n",
              "    }\n",
              "\n",
              "    .colab-df-convert {\n",
              "      background-color: #E8F0FE;\n",
              "      border: none;\n",
              "      border-radius: 50%;\n",
              "      cursor: pointer;\n",
              "      display: none;\n",
              "      fill: #1967D2;\n",
              "      height: 32px;\n",
              "      padding: 0 0 0 0;\n",
              "      width: 32px;\n",
              "    }\n",
              "\n",
              "    .colab-df-convert:hover {\n",
              "      background-color: #E2EBFA;\n",
              "      box-shadow: 0px 1px 2px rgba(60, 64, 67, 0.3), 0px 1px 3px 1px rgba(60, 64, 67, 0.15);\n",
              "      fill: #174EA6;\n",
              "    }\n",
              "\n",
              "    [theme=dark] .colab-df-convert {\n",
              "      background-color: #3B4455;\n",
              "      fill: #D2E3FC;\n",
              "    }\n",
              "\n",
              "    [theme=dark] .colab-df-convert:hover {\n",
              "      background-color: #434B5C;\n",
              "      box-shadow: 0px 1px 3px 1px rgba(0, 0, 0, 0.15);\n",
              "      filter: drop-shadow(0px 1px 2px rgba(0, 0, 0, 0.3));\n",
              "      fill: #FFFFFF;\n",
              "    }\n",
              "  </style>\n",
              "\n",
              "      <script>\n",
              "        const buttonEl =\n",
              "          document.querySelector('#df-6f521191-ae46-40c9-8213-300cf66cd341 button.colab-df-convert');\n",
              "        buttonEl.style.display =\n",
              "          google.colab.kernel.accessAllowed ? 'block' : 'none';\n",
              "\n",
              "        async function convertToInteractive(key) {\n",
              "          const element = document.querySelector('#df-6f521191-ae46-40c9-8213-300cf66cd341');\n",
              "          const dataTable =\n",
              "            await google.colab.kernel.invokeFunction('convertToInteractive',\n",
              "                                                     [key], {});\n",
              "          if (!dataTable) return;\n",
              "\n",
              "          const docLinkHtml = 'Like what you see? Visit the ' +\n",
              "            '<a target=\"_blank\" href=https://colab.research.google.com/notebooks/data_table.ipynb>data table notebook</a>'\n",
              "            + ' to learn more about interactive tables.';\n",
              "          element.innerHTML = '';\n",
              "          dataTable['output_type'] = 'display_data';\n",
              "          await google.colab.output.renderOutput(dataTable, element);\n",
              "          const docLink = document.createElement('div');\n",
              "          docLink.innerHTML = docLinkHtml;\n",
              "          element.appendChild(docLink);\n",
              "        }\n",
              "      </script>\n",
              "    </div>\n",
              "  </div>\n",
              "  "
            ]
          },
          "metadata": {},
          "execution_count": 86
        }
      ]
    },
    {
      "cell_type": "code",
      "source": [
        "inputs.shape"
      ],
      "metadata": {
        "id": "QHvOmz89vX8r",
        "colab": {
          "base_uri": "https://localhost:8080/"
        },
        "outputId": "4f5bd541-1f29-4d27-e381-3d3196f12b5b"
      },
      "execution_count": null,
      "outputs": [
        {
          "output_type": "execute_result",
          "data": {
            "text/plain": [
              "(100000, 1000)"
            ]
          },
          "metadata": {},
          "execution_count": 87
        }
      ]
    },
    {
      "cell_type": "code",
      "source": [
        "from sklearn.model_selection import train_test_split"
      ],
      "metadata": {
        "id": "ZaYUeCzgyQa9"
      },
      "execution_count": null,
      "outputs": []
    },
    {
      "cell_type": "code",
      "source": [
        "train_inputs, val_inputs, train_targets, val_targets = train_test_split(inputs, sample_df.target,\n",
        "                                                                        test_size= 0.3, random_state=42)"
      ],
      "metadata": {
        "id": "DxkqOt6Cvaae"
      },
      "execution_count": null,
      "outputs": []
    },
    {
      "cell_type": "code",
      "source": [
        "train_inputs.shape"
      ],
      "metadata": {
        "id": "Ynd9I4QBve3_",
        "colab": {
          "base_uri": "https://localhost:8080/"
        },
        "outputId": "ff5e0191-c64d-442f-9ef1-00f938919b94"
      },
      "execution_count": null,
      "outputs": [
        {
          "output_type": "execute_result",
          "data": {
            "text/plain": [
              "(70000, 1000)"
            ]
          },
          "metadata": {},
          "execution_count": 90
        }
      ]
    },
    {
      "cell_type": "code",
      "source": [
        "train_targets.shape"
      ],
      "metadata": {
        "colab": {
          "base_uri": "https://localhost:8080/"
        },
        "id": "i6C73bH7-1Q0",
        "outputId": "3d67c43e-062e-483f-8382-1ed0e8e36597"
      },
      "execution_count": null,
      "outputs": [
        {
          "output_type": "execute_result",
          "data": {
            "text/plain": [
              "(70000,)"
            ]
          },
          "metadata": {},
          "execution_count": 91
        }
      ]
    },
    {
      "cell_type": "code",
      "source": [
        "val_inputs.shape"
      ],
      "metadata": {
        "colab": {
          "base_uri": "https://localhost:8080/"
        },
        "id": "ed3nZB3V-0yD",
        "outputId": "a551f278-6dfa-4cf8-cd4f-a9347f9439e2"
      },
      "execution_count": null,
      "outputs": [
        {
          "output_type": "execute_result",
          "data": {
            "text/plain": [
              "(30000, 1000)"
            ]
          },
          "metadata": {},
          "execution_count": 92
        }
      ]
    },
    {
      "cell_type": "code",
      "source": [
        "val_targets.shape"
      ],
      "metadata": {
        "colab": {
          "base_uri": "https://localhost:8080/"
        },
        "id": "bub7FjsN--pm",
        "outputId": "88ae616b-c3ec-4ce5-bf6a-84a8a9f33992"
      },
      "execution_count": null,
      "outputs": [
        {
          "output_type": "execute_result",
          "data": {
            "text/plain": [
              "(30000,)"
            ]
          },
          "metadata": {},
          "execution_count": 93
        }
      ]
    },
    {
      "cell_type": "markdown",
      "source": [
        "# Train logistic regression model"
      ],
      "metadata": {
        "id": "HLWF4LTd_ETD"
      }
    },
    {
      "cell_type": "code",
      "source": [
        "from sklearn.linear_model import LogisticRegression"
      ],
      "metadata": {
        "id": "aaJYNs6c_JAg"
      },
      "execution_count": null,
      "outputs": []
    },
    {
      "cell_type": "code",
      "source": [
        "MAX_ITER = 1000"
      ],
      "metadata": {
        "id": "w4nQJrfeEcvv"
      },
      "execution_count": null,
      "outputs": []
    },
    {
      "cell_type": "code",
      "source": [
        "model = LogisticRegression(max_iter=1000, solver = 'sag')"
      ],
      "metadata": {
        "id": "M1EN4Arc_I6-"
      },
      "execution_count": null,
      "outputs": []
    },
    {
      "cell_type": "code",
      "source": [
        "%%time\n",
        "model.fit(train_inputs,train_targets)"
      ],
      "metadata": {
        "colab": {
          "base_uri": "https://localhost:8080/",
          "height": 164
        },
        "id": "o0-pOCBv_I24",
        "outputId": "faf69f82-2e21-4e46-f80e-e82ccd8bd748"
      },
      "execution_count": null,
      "outputs": [
        {
          "output_type": "stream",
          "name": "stdout",
          "text": [
            "CPU times: user 24 s, sys: 30.6 ms, total: 24.1 s\n",
            "Wall time: 24.3 s\n"
          ]
        },
        {
          "output_type": "stream",
          "name": "stderr",
          "text": [
            "/usr/local/lib/python3.9/dist-packages/sklearn/linear_model/_sag.py:350: ConvergenceWarning: The max_iter was reached which means the coef_ did not converge\n",
            "  warnings.warn(\n"
          ]
        },
        {
          "output_type": "execute_result",
          "data": {
            "text/plain": [
              "LogisticRegression(max_iter=1000, solver='sag')"
            ],
            "text/html": [
              "<style>#sk-container-id-3 {color: black;background-color: white;}#sk-container-id-3 pre{padding: 0;}#sk-container-id-3 div.sk-toggleable {background-color: white;}#sk-container-id-3 label.sk-toggleable__label {cursor: pointer;display: block;width: 100%;margin-bottom: 0;padding: 0.3em;box-sizing: border-box;text-align: center;}#sk-container-id-3 label.sk-toggleable__label-arrow:before {content: \"▸\";float: left;margin-right: 0.25em;color: #696969;}#sk-container-id-3 label.sk-toggleable__label-arrow:hover:before {color: black;}#sk-container-id-3 div.sk-estimator:hover label.sk-toggleable__label-arrow:before {color: black;}#sk-container-id-3 div.sk-toggleable__content {max-height: 0;max-width: 0;overflow: hidden;text-align: left;background-color: #f0f8ff;}#sk-container-id-3 div.sk-toggleable__content pre {margin: 0.2em;color: black;border-radius: 0.25em;background-color: #f0f8ff;}#sk-container-id-3 input.sk-toggleable__control:checked~div.sk-toggleable__content {max-height: 200px;max-width: 100%;overflow: auto;}#sk-container-id-3 input.sk-toggleable__control:checked~label.sk-toggleable__label-arrow:before {content: \"▾\";}#sk-container-id-3 div.sk-estimator input.sk-toggleable__control:checked~label.sk-toggleable__label {background-color: #d4ebff;}#sk-container-id-3 div.sk-label input.sk-toggleable__control:checked~label.sk-toggleable__label {background-color: #d4ebff;}#sk-container-id-3 input.sk-hidden--visually {border: 0;clip: rect(1px 1px 1px 1px);clip: rect(1px, 1px, 1px, 1px);height: 1px;margin: -1px;overflow: hidden;padding: 0;position: absolute;width: 1px;}#sk-container-id-3 div.sk-estimator {font-family: monospace;background-color: #f0f8ff;border: 1px dotted black;border-radius: 0.25em;box-sizing: border-box;margin-bottom: 0.5em;}#sk-container-id-3 div.sk-estimator:hover {background-color: #d4ebff;}#sk-container-id-3 div.sk-parallel-item::after {content: \"\";width: 100%;border-bottom: 1px solid gray;flex-grow: 1;}#sk-container-id-3 div.sk-label:hover label.sk-toggleable__label {background-color: #d4ebff;}#sk-container-id-3 div.sk-serial::before {content: \"\";position: absolute;border-left: 1px solid gray;box-sizing: border-box;top: 0;bottom: 0;left: 50%;z-index: 0;}#sk-container-id-3 div.sk-serial {display: flex;flex-direction: column;align-items: center;background-color: white;padding-right: 0.2em;padding-left: 0.2em;position: relative;}#sk-container-id-3 div.sk-item {position: relative;z-index: 1;}#sk-container-id-3 div.sk-parallel {display: flex;align-items: stretch;justify-content: center;background-color: white;position: relative;}#sk-container-id-3 div.sk-item::before, #sk-container-id-3 div.sk-parallel-item::before {content: \"\";position: absolute;border-left: 1px solid gray;box-sizing: border-box;top: 0;bottom: 0;left: 50%;z-index: -1;}#sk-container-id-3 div.sk-parallel-item {display: flex;flex-direction: column;z-index: 1;position: relative;background-color: white;}#sk-container-id-3 div.sk-parallel-item:first-child::after {align-self: flex-end;width: 50%;}#sk-container-id-3 div.sk-parallel-item:last-child::after {align-self: flex-start;width: 50%;}#sk-container-id-3 div.sk-parallel-item:only-child::after {width: 0;}#sk-container-id-3 div.sk-dashed-wrapped {border: 1px dashed gray;margin: 0 0.4em 0.5em 0.4em;box-sizing: border-box;padding-bottom: 0.4em;background-color: white;}#sk-container-id-3 div.sk-label label {font-family: monospace;font-weight: bold;display: inline-block;line-height: 1.2em;}#sk-container-id-3 div.sk-label-container {text-align: center;}#sk-container-id-3 div.sk-container {/* jupyter's `normalize.less` sets `[hidden] { display: none; }` but bootstrap.min.css set `[hidden] { display: none !important; }` so we also need the `!important` here to be able to override the default hidden behavior on the sphinx rendered scikit-learn.org. See: https://github.com/scikit-learn/scikit-learn/issues/21755 */display: inline-block !important;position: relative;}#sk-container-id-3 div.sk-text-repr-fallback {display: none;}</style><div id=\"sk-container-id-3\" class=\"sk-top-container\"><div class=\"sk-text-repr-fallback\"><pre>LogisticRegression(max_iter=1000, solver=&#x27;sag&#x27;)</pre><b>In a Jupyter environment, please rerun this cell to show the HTML representation or trust the notebook. <br />On GitHub, the HTML representation is unable to render, please try loading this page with nbviewer.org.</b></div><div class=\"sk-container\" hidden><div class=\"sk-item\"><div class=\"sk-estimator sk-toggleable\"><input class=\"sk-toggleable__control sk-hidden--visually\" id=\"sk-estimator-id-3\" type=\"checkbox\" checked><label for=\"sk-estimator-id-3\" class=\"sk-toggleable__label sk-toggleable__label-arrow\">LogisticRegression</label><div class=\"sk-toggleable__content\"><pre>LogisticRegression(max_iter=1000, solver=&#x27;sag&#x27;)</pre></div></div></div></div></div>"
            ]
          },
          "metadata": {},
          "execution_count": 97
        }
      ]
    },
    {
      "cell_type": "markdown",
      "source": [
        "# Make Prediction using the model"
      ],
      "metadata": {
        "id": "dvLkt40-Olaf"
      }
    },
    {
      "cell_type": "code",
      "source": [
        "train_preds =  model.predict(train_inputs)"
      ],
      "metadata": {
        "id": "TlgzcfgS_Iyj"
      },
      "execution_count": null,
      "outputs": []
    },
    {
      "cell_type": "code",
      "source": [
        "train_targets"
      ],
      "metadata": {
        "colab": {
          "base_uri": "https://localhost:8080/"
        },
        "id": "FrvnoQ7qMDJj",
        "outputId": "5b610fe9-2277-4c1c-8e74-1ccd231ef263"
      },
      "execution_count": null,
      "outputs": [
        {
          "output_type": "execute_result",
          "data": {
            "text/plain": [
              "133883     0\n",
              "343925     0\n",
              "1190558    0\n",
              "317078     0\n",
              "355610     0\n",
              "          ..\n",
              "262505     0\n",
              "879467     0\n",
              "411614     0\n",
              "859707     0\n",
              "683832     0\n",
              "Name: target, Length: 70000, dtype: int64"
            ]
          },
          "metadata": {},
          "execution_count": 99
        }
      ]
    },
    {
      "cell_type": "code",
      "source": [
        "train_preds"
      ],
      "metadata": {
        "colab": {
          "base_uri": "https://localhost:8080/"
        },
        "id": "RWewhUT6_ZKX",
        "outputId": "80ca5bc5-8a4d-4b46-f9b8-ad10dbe35a52"
      },
      "execution_count": null,
      "outputs": [
        {
          "output_type": "execute_result",
          "data": {
            "text/plain": [
              "array([0, 0, 0, ..., 0, 0, 0])"
            ]
          },
          "metadata": {},
          "execution_count": 100
        }
      ]
    },
    {
      "cell_type": "code",
      "source": [
        "pd.Series(train_preds).value_counts()"
      ],
      "metadata": {
        "colab": {
          "base_uri": "https://localhost:8080/"
        },
        "id": "Ua1RThnl_ZHC",
        "outputId": "1b4ca1f8-24f5-4b1e-8350-117bed95f6dd"
      },
      "execution_count": null,
      "outputs": [
        {
          "output_type": "execute_result",
          "data": {
            "text/plain": [
              "0    67957\n",
              "1     2043\n",
              "dtype: int64"
            ]
          },
          "metadata": {},
          "execution_count": 101
        }
      ]
    },
    {
      "cell_type": "code",
      "source": [
        "pd.Series(train_targets).value_counts()"
      ],
      "metadata": {
        "colab": {
          "base_uri": "https://localhost:8080/"
        },
        "id": "nJMcmTIu_ZDY",
        "outputId": "41a3eb6c-57ab-4baf-b8ef-a5f11ad045f8"
      },
      "execution_count": null,
      "outputs": [
        {
          "output_type": "execute_result",
          "data": {
            "text/plain": [
              "0    65784\n",
              "1     4216\n",
              "Name: target, dtype: int64"
            ]
          },
          "metadata": {},
          "execution_count": 102
        }
      ]
    },
    {
      "cell_type": "code",
      "source": [
        "from sklearn.metrics import accuracy_score"
      ],
      "metadata": {
        "id": "oGKYu65Y_Ilp"
      },
      "execution_count": null,
      "outputs": []
    },
    {
      "cell_type": "code",
      "source": [
        "accuracy_score(train_targets, train_preds)"
      ],
      "metadata": {
        "colab": {
          "base_uri": "https://localhost:8080/"
        },
        "id": "A1Y6nTvEL0f4",
        "outputId": "2c183c04-6c69-4bce-98b7-0f788376097d"
      },
      "execution_count": null,
      "outputs": [
        {
          "output_type": "execute_result",
          "data": {
            "text/plain": [
              "0.9504428571428571"
            ]
          },
          "metadata": {},
          "execution_count": 104
        }
      ]
    },
    {
      "cell_type": "code",
      "source": [
        "import numpy as np"
      ],
      "metadata": {
        "id": "CSk_60vaMfNh"
      },
      "execution_count": null,
      "outputs": []
    },
    {
      "cell_type": "code",
      "source": [
        "accuracy_score(train_targets, np.zeros(len(train_targets)))"
      ],
      "metadata": {
        "colab": {
          "base_uri": "https://localhost:8080/"
        },
        "id": "leEwJJ2ML0cW",
        "outputId": "6a93a4f0-7688-48a5-e8ea-7e43b6a69adf"
      },
      "execution_count": null,
      "outputs": [
        {
          "output_type": "execute_result",
          "data": {
            "text/plain": [
              "0.9397714285714286"
            ]
          },
          "metadata": {},
          "execution_count": 106
        }
      ]
    },
    {
      "cell_type": "code",
      "source": [
        "from sklearn.metrics import f1_score"
      ],
      "metadata": {
        "id": "sjJSDrggL0aL"
      },
      "execution_count": null,
      "outputs": []
    },
    {
      "cell_type": "code",
      "source": [
        "f1_score(train_targets, train_preds)"
      ],
      "metadata": {
        "colab": {
          "base_uri": "https://localhost:8080/"
        },
        "id": "bXjwgLdZL0Xd",
        "outputId": "59c991d7-2a14-4c18-8c9b-1157a2409f07"
      },
      "execution_count": null,
      "outputs": [
        {
          "output_type": "execute_result",
          "data": {
            "text/plain": [
              "0.4457581083240134"
            ]
          },
          "metadata": {},
          "execution_count": 108
        }
      ]
    },
    {
      "cell_type": "code",
      "source": [
        "f1_score(train_targets, np.zeros(len(train_targets)))"
      ],
      "metadata": {
        "colab": {
          "base_uri": "https://localhost:8080/"
        },
        "id": "vDCoxLdIMx9G",
        "outputId": "d94eaf94-38c4-4f43-ae60-970cc1ebe7b9"
      },
      "execution_count": null,
      "outputs": [
        {
          "output_type": "execute_result",
          "data": {
            "text/plain": [
              "0.0"
            ]
          },
          "metadata": {},
          "execution_count": 109
        }
      ]
    },
    {
      "cell_type": "code",
      "source": [
        "random_preds = np.random.choice((0,1), len(train_targets))\n",
        "f1_score(train_targets,random_preds)"
      ],
      "metadata": {
        "colab": {
          "base_uri": "https://localhost:8080/"
        },
        "id": "s3VOLWsYM3vZ",
        "outputId": "25cb97f0-4caa-488a-c9b2-7c0e056ac493"
      },
      "execution_count": null,
      "outputs": [
        {
          "output_type": "execute_result",
          "data": {
            "text/plain": [
              "0.10745322564154995"
            ]
          },
          "metadata": {},
          "execution_count": 110
        }
      ]
    },
    {
      "cell_type": "code",
      "source": [
        "val_preds = model.predict(val_inputs)"
      ],
      "metadata": {
        "id": "K-tzvaMcM3j2"
      },
      "execution_count": null,
      "outputs": []
    },
    {
      "cell_type": "code",
      "source": [
        "accuracy_score(val_targets, val_preds)"
      ],
      "metadata": {
        "colab": {
          "base_uri": "https://localhost:8080/"
        },
        "id": "J55NrqWhN7q4",
        "outputId": "0904c887-5da8-4d60-b73f-2bb815e06254"
      },
      "execution_count": null,
      "outputs": [
        {
          "output_type": "execute_result",
          "data": {
            "text/plain": [
              "0.9467"
            ]
          },
          "metadata": {},
          "execution_count": 112
        }
      ]
    },
    {
      "cell_type": "code",
      "source": [
        "f1_score(val_targets, val_preds)"
      ],
      "metadata": {
        "colab": {
          "base_uri": "https://localhost:8080/"
        },
        "id": "vCD0vNgHN7Zr",
        "outputId": "d48e9adc-e7e7-477a-f06e-2106c2d55c13"
      },
      "execution_count": null,
      "outputs": [
        {
          "output_type": "execute_result",
          "data": {
            "text/plain": [
              "0.40843507214206437"
            ]
          },
          "metadata": {},
          "execution_count": 113
        }
      ]
    },
    {
      "cell_type": "code",
      "source": [
        "sincere_df.question_text.values[:10]"
      ],
      "metadata": {
        "colab": {
          "base_uri": "https://localhost:8080/"
        },
        "id": "afqmmhw0CXMA",
        "outputId": "01ba40d1-ad51-4f73-919a-461542c72c85"
      },
      "execution_count": null,
      "outputs": [
        {
          "output_type": "execute_result",
          "data": {
            "text/plain": [
              "array(['How did Quebec nationalists see their province as a nation in the 1960s?',\n",
              "       'Do you have an adopted dog, how would you encourage people to adopt and not shop?',\n",
              "       'Why does velocity affect time? Does velocity affect space geometry?',\n",
              "       'How did Otto von Guericke used the Magdeburg hemispheres?',\n",
              "       'Can I convert montra helicon D to a mountain bike by just changing the tyres?',\n",
              "       'Is Gaza slowly becoming Auschwitz, Dachau or Treblinka for Palestinians?',\n",
              "       'Why does Quora automatically ban conservative opinions when reported, but does not do the same for liberal views?',\n",
              "       'Is it crazy if I wash or wipe my groceries off? Germs are everywhere.',\n",
              "       'Is there such a thing as dressing moderately, and if so, how is that different than dressing modestly?',\n",
              "       'Is it just me or have you ever been in this phase wherein you became ignorant to the people you once loved, completely disregarding their feelings/lives so you get to have something go your way and feel temporarily at ease. How did things change?'],\n",
              "      dtype=object)"
            ]
          },
          "metadata": {},
          "execution_count": 114
        }
      ]
    },
    {
      "cell_type": "code",
      "source": [
        "sincere_df.target.values[:10]"
      ],
      "metadata": {
        "colab": {
          "base_uri": "https://localhost:8080/"
        },
        "id": "lgQZgvFfCWvR",
        "outputId": "b0cafd8d-a5d7-4c9e-8a4d-da652fce11df"
      },
      "execution_count": null,
      "outputs": [
        {
          "output_type": "execute_result",
          "data": {
            "text/plain": [
              "array([0, 0, 0, 0, 0, 0, 0, 0, 0, 0])"
            ]
          },
          "metadata": {},
          "execution_count": 115
        }
      ]
    },
    {
      "cell_type": "code",
      "source": [
        "model.predict(vectorizer.transform(sincere_df.question_text.values[:10]))"
      ],
      "metadata": {
        "colab": {
          "base_uri": "https://localhost:8080/"
        },
        "id": "PQlvn8-KCnx_",
        "outputId": "4ff5c79e-642f-4e8b-e8b4-a70ae43454f2"
      },
      "execution_count": null,
      "outputs": [
        {
          "output_type": "execute_result",
          "data": {
            "text/plain": [
              "array([0, 0, 0, 0, 0, 0, 1, 0, 0, 0])"
            ]
          },
          "metadata": {},
          "execution_count": 116
        }
      ]
    },
    {
      "cell_type": "code",
      "source": [
        "insincere_df.question_text.values[:10]"
      ],
      "metadata": {
        "colab": {
          "base_uri": "https://localhost:8080/"
        },
        "id": "RuOze6LOCntV",
        "outputId": "410a8c7a-231e-49b0-801f-6edaa927cadf"
      },
      "execution_count": null,
      "outputs": [
        {
          "output_type": "execute_result",
          "data": {
            "text/plain": [
              "array(['Has the United States become the largest dictatorship in the world?',\n",
              "       'Which babies are more sweeter to their parents? Dark skin babies or light skin babies?',\n",
              "       \"If blacks support school choice and mandatory sentencing for criminals why don't they vote Republican?\",\n",
              "       'I am gay boy and I love my cousin (boy). He is sexy, but I dont know what to do. He is hot, and I want to see his di**. What should I do?',\n",
              "       'Which races have the smallest penis?',\n",
              "       'Why do females find penises ugly?',\n",
              "       'How do I marry an American woman for a Green Card? How much do they charge?',\n",
              "       \"Why do Europeans say they're the superior race, when in fact it took them over 2,000 years until mid 19th century to surpass China's largest economy?\",\n",
              "       'Did Julius Caesar bring a tyrannosaurus rex on his campaigns to frighten the Celts into submission?',\n",
              "       \"In what manner has Republican backing of 'states rights' been hypocritical and what ways have they actually restricted the ability of states to make their own laws?\"],\n",
              "      dtype=object)"
            ]
          },
          "metadata": {},
          "execution_count": 117
        }
      ]
    },
    {
      "cell_type": "code",
      "source": [
        "insincere_df.target.values[:10]"
      ],
      "metadata": {
        "colab": {
          "base_uri": "https://localhost:8080/"
        },
        "id": "nZxrCqB6Cno6",
        "outputId": "164aaea0-c232-443e-bbed-5419d0263598"
      },
      "execution_count": null,
      "outputs": [
        {
          "output_type": "execute_result",
          "data": {
            "text/plain": [
              "array([1, 1, 1, 1, 1, 1, 1, 1, 1, 1])"
            ]
          },
          "metadata": {},
          "execution_count": 118
        }
      ]
    },
    {
      "cell_type": "code",
      "source": [
        "model.predict(vectorizer.transform(insincere_df.question_text.values[:10]))"
      ],
      "metadata": {
        "colab": {
          "base_uri": "https://localhost:8080/"
        },
        "id": "ApEUvNH7CngZ",
        "outputId": "7dde69cd-a505-4ebe-f7ec-bc2ce3a430e0"
      },
      "execution_count": null,
      "outputs": [
        {
          "output_type": "execute_result",
          "data": {
            "text/plain": [
              "array([0, 0, 1, 1, 0, 0, 0, 1, 0, 0])"
            ]
          },
          "metadata": {},
          "execution_count": 119
        }
      ]
    },
    {
      "cell_type": "code",
      "source": [],
      "metadata": {
        "id": "I34UwqEFDbNn"
      },
      "execution_count": null,
      "outputs": []
    },
    {
      "cell_type": "markdown",
      "source": [
        "## Make Prediction and Submit to Kaggle"
      ],
      "metadata": {
        "id": "JpkJO0I59lyk"
      }
    },
    {
      "cell_type": "code",
      "source": [
        "test_df"
      ],
      "metadata": {
        "id": "veNMGvwEvkdH",
        "colab": {
          "base_uri": "https://localhost:8080/",
          "height": 468
        },
        "outputId": "3c27f523-4ad2-45ba-b16a-48282398bdb8"
      },
      "execution_count": null,
      "outputs": [
        {
          "output_type": "execute_result",
          "data": {
            "text/plain": [
              "                         qid  \\\n",
              "0       0000163e3ea7c7a74cd7   \n",
              "1       00002bd4fb5d505b9161   \n",
              "2       00007756b4a147d2b0b3   \n",
              "3       000086e4b7e1c7146103   \n",
              "4       0000c4c3fbe8785a3090   \n",
              "...                      ...   \n",
              "375801  ffff7fa746bd6d6197a9   \n",
              "375802  ffffa1be31c43046ab6b   \n",
              "375803  ffffae173b6ca6bfa563   \n",
              "375804  ffffb1f7f1a008620287   \n",
              "375805  fffff85473f4699474b0   \n",
              "\n",
              "                                            question_text  \n",
              "0       Why do so many women become so rude and arroga...  \n",
              "1       When should I apply for RV college of engineer...  \n",
              "2       What is it really like to be a nurse practitio...  \n",
              "3                                  Who are entrepreneurs?  \n",
              "4        Is education really making good people nowadays?  \n",
              "...                                                   ...  \n",
              "375801  How many countries listed in gold import in in...  \n",
              "375802  Is there an alternative to dresses on formal p...  \n",
              "375803  Where I can find best friendship quotes in Tel...  \n",
              "375804        What are the causes of refraction of light?  \n",
              "375805  Climate change is a worrying topic. How much t...  \n",
              "\n",
              "[375806 rows x 2 columns]"
            ],
            "text/html": [
              "\n",
              "  <div id=\"df-d8900639-ed72-444c-bcbb-d25568fd40d1\">\n",
              "    <div class=\"colab-df-container\">\n",
              "      <div>\n",
              "<style scoped>\n",
              "    .dataframe tbody tr th:only-of-type {\n",
              "        vertical-align: middle;\n",
              "    }\n",
              "\n",
              "    .dataframe tbody tr th {\n",
              "        vertical-align: top;\n",
              "    }\n",
              "\n",
              "    .dataframe thead th {\n",
              "        text-align: right;\n",
              "    }\n",
              "</style>\n",
              "<table border=\"1\" class=\"dataframe\">\n",
              "  <thead>\n",
              "    <tr style=\"text-align: right;\">\n",
              "      <th></th>\n",
              "      <th>qid</th>\n",
              "      <th>question_text</th>\n",
              "    </tr>\n",
              "  </thead>\n",
              "  <tbody>\n",
              "    <tr>\n",
              "      <th>0</th>\n",
              "      <td>0000163e3ea7c7a74cd7</td>\n",
              "      <td>Why do so many women become so rude and arroga...</td>\n",
              "    </tr>\n",
              "    <tr>\n",
              "      <th>1</th>\n",
              "      <td>00002bd4fb5d505b9161</td>\n",
              "      <td>When should I apply for RV college of engineer...</td>\n",
              "    </tr>\n",
              "    <tr>\n",
              "      <th>2</th>\n",
              "      <td>00007756b4a147d2b0b3</td>\n",
              "      <td>What is it really like to be a nurse practitio...</td>\n",
              "    </tr>\n",
              "    <tr>\n",
              "      <th>3</th>\n",
              "      <td>000086e4b7e1c7146103</td>\n",
              "      <td>Who are entrepreneurs?</td>\n",
              "    </tr>\n",
              "    <tr>\n",
              "      <th>4</th>\n",
              "      <td>0000c4c3fbe8785a3090</td>\n",
              "      <td>Is education really making good people nowadays?</td>\n",
              "    </tr>\n",
              "    <tr>\n",
              "      <th>...</th>\n",
              "      <td>...</td>\n",
              "      <td>...</td>\n",
              "    </tr>\n",
              "    <tr>\n",
              "      <th>375801</th>\n",
              "      <td>ffff7fa746bd6d6197a9</td>\n",
              "      <td>How many countries listed in gold import in in...</td>\n",
              "    </tr>\n",
              "    <tr>\n",
              "      <th>375802</th>\n",
              "      <td>ffffa1be31c43046ab6b</td>\n",
              "      <td>Is there an alternative to dresses on formal p...</td>\n",
              "    </tr>\n",
              "    <tr>\n",
              "      <th>375803</th>\n",
              "      <td>ffffae173b6ca6bfa563</td>\n",
              "      <td>Where I can find best friendship quotes in Tel...</td>\n",
              "    </tr>\n",
              "    <tr>\n",
              "      <th>375804</th>\n",
              "      <td>ffffb1f7f1a008620287</td>\n",
              "      <td>What are the causes of refraction of light?</td>\n",
              "    </tr>\n",
              "    <tr>\n",
              "      <th>375805</th>\n",
              "      <td>fffff85473f4699474b0</td>\n",
              "      <td>Climate change is a worrying topic. How much t...</td>\n",
              "    </tr>\n",
              "  </tbody>\n",
              "</table>\n",
              "<p>375806 rows × 2 columns</p>\n",
              "</div>\n",
              "      <button class=\"colab-df-convert\" onclick=\"convertToInteractive('df-d8900639-ed72-444c-bcbb-d25568fd40d1')\"\n",
              "              title=\"Convert this dataframe to an interactive table.\"\n",
              "              style=\"display:none;\">\n",
              "        \n",
              "  <svg xmlns=\"http://www.w3.org/2000/svg\" height=\"24px\"viewBox=\"0 0 24 24\"\n",
              "       width=\"24px\">\n",
              "    <path d=\"M0 0h24v24H0V0z\" fill=\"none\"/>\n",
              "    <path d=\"M18.56 5.44l.94 2.06.94-2.06 2.06-.94-2.06-.94-.94-2.06-.94 2.06-2.06.94zm-11 1L8.5 8.5l.94-2.06 2.06-.94-2.06-.94L8.5 2.5l-.94 2.06-2.06.94zm10 10l.94 2.06.94-2.06 2.06-.94-2.06-.94-.94-2.06-.94 2.06-2.06.94z\"/><path d=\"M17.41 7.96l-1.37-1.37c-.4-.4-.92-.59-1.43-.59-.52 0-1.04.2-1.43.59L10.3 9.45l-7.72 7.72c-.78.78-.78 2.05 0 2.83L4 21.41c.39.39.9.59 1.41.59.51 0 1.02-.2 1.41-.59l7.78-7.78 2.81-2.81c.8-.78.8-2.07 0-2.86zM5.41 20L4 18.59l7.72-7.72 1.47 1.35L5.41 20z\"/>\n",
              "  </svg>\n",
              "      </button>\n",
              "      \n",
              "  <style>\n",
              "    .colab-df-container {\n",
              "      display:flex;\n",
              "      flex-wrap:wrap;\n",
              "      gap: 12px;\n",
              "    }\n",
              "\n",
              "    .colab-df-convert {\n",
              "      background-color: #E8F0FE;\n",
              "      border: none;\n",
              "      border-radius: 50%;\n",
              "      cursor: pointer;\n",
              "      display: none;\n",
              "      fill: #1967D2;\n",
              "      height: 32px;\n",
              "      padding: 0 0 0 0;\n",
              "      width: 32px;\n",
              "    }\n",
              "\n",
              "    .colab-df-convert:hover {\n",
              "      background-color: #E2EBFA;\n",
              "      box-shadow: 0px 1px 2px rgba(60, 64, 67, 0.3), 0px 1px 3px 1px rgba(60, 64, 67, 0.15);\n",
              "      fill: #174EA6;\n",
              "    }\n",
              "\n",
              "    [theme=dark] .colab-df-convert {\n",
              "      background-color: #3B4455;\n",
              "      fill: #D2E3FC;\n",
              "    }\n",
              "\n",
              "    [theme=dark] .colab-df-convert:hover {\n",
              "      background-color: #434B5C;\n",
              "      box-shadow: 0px 1px 3px 1px rgba(0, 0, 0, 0.15);\n",
              "      filter: drop-shadow(0px 1px 2px rgba(0, 0, 0, 0.3));\n",
              "      fill: #FFFFFF;\n",
              "    }\n",
              "  </style>\n",
              "\n",
              "      <script>\n",
              "        const buttonEl =\n",
              "          document.querySelector('#df-d8900639-ed72-444c-bcbb-d25568fd40d1 button.colab-df-convert');\n",
              "        buttonEl.style.display =\n",
              "          google.colab.kernel.accessAllowed ? 'block' : 'none';\n",
              "\n",
              "        async function convertToInteractive(key) {\n",
              "          const element = document.querySelector('#df-d8900639-ed72-444c-bcbb-d25568fd40d1');\n",
              "          const dataTable =\n",
              "            await google.colab.kernel.invokeFunction('convertToInteractive',\n",
              "                                                     [key], {});\n",
              "          if (!dataTable) return;\n",
              "\n",
              "          const docLinkHtml = 'Like what you see? Visit the ' +\n",
              "            '<a target=\"_blank\" href=https://colab.research.google.com/notebooks/data_table.ipynb>data table notebook</a>'\n",
              "            + ' to learn more about interactive tables.';\n",
              "          element.innerHTML = '';\n",
              "          dataTable['output_type'] = 'display_data';\n",
              "          await google.colab.output.renderOutput(dataTable, element);\n",
              "          const docLink = document.createElement('div');\n",
              "          docLink.innerHTML = docLinkHtml;\n",
              "          element.appendChild(docLink);\n",
              "        }\n",
              "      </script>\n",
              "    </div>\n",
              "  </div>\n",
              "  "
            ]
          },
          "metadata": {},
          "execution_count": 120
        }
      ]
    },
    {
      "cell_type": "code",
      "source": [
        "test_inputs.shape"
      ],
      "metadata": {
        "colab": {
          "base_uri": "https://localhost:8080/"
        },
        "id": "2cbPNiiVJAix",
        "outputId": "37a85bf5-68d0-44bc-9cc4-7f1b54ad6745"
      },
      "execution_count": null,
      "outputs": [
        {
          "output_type": "execute_result",
          "data": {
            "text/plain": [
              "(375806, 1000)"
            ]
          },
          "metadata": {},
          "execution_count": 121
        }
      ]
    },
    {
      "cell_type": "code",
      "source": [
        "test_preds = model.predict(test_inputs)"
      ],
      "metadata": {
        "id": "4RBPCIvVJEep"
      },
      "execution_count": null,
      "outputs": []
    },
    {
      "cell_type": "code",
      "source": [
        "sub_df"
      ],
      "metadata": {
        "colab": {
          "base_uri": "https://localhost:8080/",
          "height": 424
        },
        "id": "yxmACKfxJNxO",
        "outputId": "33e8354f-e138-4d3d-ba52-491ee7ddacc1"
      },
      "execution_count": null,
      "outputs": [
        {
          "output_type": "execute_result",
          "data": {
            "text/plain": [
              "                         qid  prediction\n",
              "0       0000163e3ea7c7a74cd7           0\n",
              "1       00002bd4fb5d505b9161           0\n",
              "2       00007756b4a147d2b0b3           0\n",
              "3       000086e4b7e1c7146103           0\n",
              "4       0000c4c3fbe8785a3090           0\n",
              "...                      ...         ...\n",
              "375801  ffff7fa746bd6d6197a9           0\n",
              "375802  ffffa1be31c43046ab6b           0\n",
              "375803  ffffae173b6ca6bfa563           0\n",
              "375804  ffffb1f7f1a008620287           0\n",
              "375805  fffff85473f4699474b0           0\n",
              "\n",
              "[375806 rows x 2 columns]"
            ],
            "text/html": [
              "\n",
              "  <div id=\"df-93471ca5-9e2c-45c2-87c5-9bda7100f601\">\n",
              "    <div class=\"colab-df-container\">\n",
              "      <div>\n",
              "<style scoped>\n",
              "    .dataframe tbody tr th:only-of-type {\n",
              "        vertical-align: middle;\n",
              "    }\n",
              "\n",
              "    .dataframe tbody tr th {\n",
              "        vertical-align: top;\n",
              "    }\n",
              "\n",
              "    .dataframe thead th {\n",
              "        text-align: right;\n",
              "    }\n",
              "</style>\n",
              "<table border=\"1\" class=\"dataframe\">\n",
              "  <thead>\n",
              "    <tr style=\"text-align: right;\">\n",
              "      <th></th>\n",
              "      <th>qid</th>\n",
              "      <th>prediction</th>\n",
              "    </tr>\n",
              "  </thead>\n",
              "  <tbody>\n",
              "    <tr>\n",
              "      <th>0</th>\n",
              "      <td>0000163e3ea7c7a74cd7</td>\n",
              "      <td>0</td>\n",
              "    </tr>\n",
              "    <tr>\n",
              "      <th>1</th>\n",
              "      <td>00002bd4fb5d505b9161</td>\n",
              "      <td>0</td>\n",
              "    </tr>\n",
              "    <tr>\n",
              "      <th>2</th>\n",
              "      <td>00007756b4a147d2b0b3</td>\n",
              "      <td>0</td>\n",
              "    </tr>\n",
              "    <tr>\n",
              "      <th>3</th>\n",
              "      <td>000086e4b7e1c7146103</td>\n",
              "      <td>0</td>\n",
              "    </tr>\n",
              "    <tr>\n",
              "      <th>4</th>\n",
              "      <td>0000c4c3fbe8785a3090</td>\n",
              "      <td>0</td>\n",
              "    </tr>\n",
              "    <tr>\n",
              "      <th>...</th>\n",
              "      <td>...</td>\n",
              "      <td>...</td>\n",
              "    </tr>\n",
              "    <tr>\n",
              "      <th>375801</th>\n",
              "      <td>ffff7fa746bd6d6197a9</td>\n",
              "      <td>0</td>\n",
              "    </tr>\n",
              "    <tr>\n",
              "      <th>375802</th>\n",
              "      <td>ffffa1be31c43046ab6b</td>\n",
              "      <td>0</td>\n",
              "    </tr>\n",
              "    <tr>\n",
              "      <th>375803</th>\n",
              "      <td>ffffae173b6ca6bfa563</td>\n",
              "      <td>0</td>\n",
              "    </tr>\n",
              "    <tr>\n",
              "      <th>375804</th>\n",
              "      <td>ffffb1f7f1a008620287</td>\n",
              "      <td>0</td>\n",
              "    </tr>\n",
              "    <tr>\n",
              "      <th>375805</th>\n",
              "      <td>fffff85473f4699474b0</td>\n",
              "      <td>0</td>\n",
              "    </tr>\n",
              "  </tbody>\n",
              "</table>\n",
              "<p>375806 rows × 2 columns</p>\n",
              "</div>\n",
              "      <button class=\"colab-df-convert\" onclick=\"convertToInteractive('df-93471ca5-9e2c-45c2-87c5-9bda7100f601')\"\n",
              "              title=\"Convert this dataframe to an interactive table.\"\n",
              "              style=\"display:none;\">\n",
              "        \n",
              "  <svg xmlns=\"http://www.w3.org/2000/svg\" height=\"24px\"viewBox=\"0 0 24 24\"\n",
              "       width=\"24px\">\n",
              "    <path d=\"M0 0h24v24H0V0z\" fill=\"none\"/>\n",
              "    <path d=\"M18.56 5.44l.94 2.06.94-2.06 2.06-.94-2.06-.94-.94-2.06-.94 2.06-2.06.94zm-11 1L8.5 8.5l.94-2.06 2.06-.94-2.06-.94L8.5 2.5l-.94 2.06-2.06.94zm10 10l.94 2.06.94-2.06 2.06-.94-2.06-.94-.94-2.06-.94 2.06-2.06.94z\"/><path d=\"M17.41 7.96l-1.37-1.37c-.4-.4-.92-.59-1.43-.59-.52 0-1.04.2-1.43.59L10.3 9.45l-7.72 7.72c-.78.78-.78 2.05 0 2.83L4 21.41c.39.39.9.59 1.41.59.51 0 1.02-.2 1.41-.59l7.78-7.78 2.81-2.81c.8-.78.8-2.07 0-2.86zM5.41 20L4 18.59l7.72-7.72 1.47 1.35L5.41 20z\"/>\n",
              "  </svg>\n",
              "      </button>\n",
              "      \n",
              "  <style>\n",
              "    .colab-df-container {\n",
              "      display:flex;\n",
              "      flex-wrap:wrap;\n",
              "      gap: 12px;\n",
              "    }\n",
              "\n",
              "    .colab-df-convert {\n",
              "      background-color: #E8F0FE;\n",
              "      border: none;\n",
              "      border-radius: 50%;\n",
              "      cursor: pointer;\n",
              "      display: none;\n",
              "      fill: #1967D2;\n",
              "      height: 32px;\n",
              "      padding: 0 0 0 0;\n",
              "      width: 32px;\n",
              "    }\n",
              "\n",
              "    .colab-df-convert:hover {\n",
              "      background-color: #E2EBFA;\n",
              "      box-shadow: 0px 1px 2px rgba(60, 64, 67, 0.3), 0px 1px 3px 1px rgba(60, 64, 67, 0.15);\n",
              "      fill: #174EA6;\n",
              "    }\n",
              "\n",
              "    [theme=dark] .colab-df-convert {\n",
              "      background-color: #3B4455;\n",
              "      fill: #D2E3FC;\n",
              "    }\n",
              "\n",
              "    [theme=dark] .colab-df-convert:hover {\n",
              "      background-color: #434B5C;\n",
              "      box-shadow: 0px 1px 3px 1px rgba(0, 0, 0, 0.15);\n",
              "      filter: drop-shadow(0px 1px 2px rgba(0, 0, 0, 0.3));\n",
              "      fill: #FFFFFF;\n",
              "    }\n",
              "  </style>\n",
              "\n",
              "      <script>\n",
              "        const buttonEl =\n",
              "          document.querySelector('#df-93471ca5-9e2c-45c2-87c5-9bda7100f601 button.colab-df-convert');\n",
              "        buttonEl.style.display =\n",
              "          google.colab.kernel.accessAllowed ? 'block' : 'none';\n",
              "\n",
              "        async function convertToInteractive(key) {\n",
              "          const element = document.querySelector('#df-93471ca5-9e2c-45c2-87c5-9bda7100f601');\n",
              "          const dataTable =\n",
              "            await google.colab.kernel.invokeFunction('convertToInteractive',\n",
              "                                                     [key], {});\n",
              "          if (!dataTable) return;\n",
              "\n",
              "          const docLinkHtml = 'Like what you see? Visit the ' +\n",
              "            '<a target=\"_blank\" href=https://colab.research.google.com/notebooks/data_table.ipynb>data table notebook</a>'\n",
              "            + ' to learn more about interactive tables.';\n",
              "          element.innerHTML = '';\n",
              "          dataTable['output_type'] = 'display_data';\n",
              "          await google.colab.output.renderOutput(dataTable, element);\n",
              "          const docLink = document.createElement('div');\n",
              "          docLink.innerHTML = docLinkHtml;\n",
              "          element.appendChild(docLink);\n",
              "        }\n",
              "      </script>\n",
              "    </div>\n",
              "  </div>\n",
              "  "
            ]
          },
          "metadata": {},
          "execution_count": 123
        }
      ]
    },
    {
      "cell_type": "code",
      "source": [
        "sub_df.prediction = test_preds"
      ],
      "metadata": {
        "id": "TB3M8VXDJPXP"
      },
      "execution_count": null,
      "outputs": []
    },
    {
      "cell_type": "code",
      "source": [
        "sub_df.prediction.value_counts()"
      ],
      "metadata": {
        "colab": {
          "base_uri": "https://localhost:8080/"
        },
        "id": "5NE2G3KqJbyu",
        "outputId": "a6d4750a-78ff-42b5-ff40-5ecf2b0c22dc"
      },
      "execution_count": null,
      "outputs": [
        {
          "output_type": "execute_result",
          "data": {
            "text/plain": [
              "0    364963\n",
              "1     10843\n",
              "Name: prediction, dtype: int64"
            ]
          },
          "metadata": {},
          "execution_count": 125
        }
      ]
    },
    {
      "cell_type": "code",
      "source": [
        "sub_df"
      ],
      "metadata": {
        "colab": {
          "base_uri": "https://localhost:8080/",
          "height": 424
        },
        "id": "g0-TwpMhJk7E",
        "outputId": "9eaab35d-b2f4-4670-98a7-52b24858f462"
      },
      "execution_count": null,
      "outputs": [
        {
          "output_type": "execute_result",
          "data": {
            "text/plain": [
              "                         qid  prediction\n",
              "0       0000163e3ea7c7a74cd7           0\n",
              "1       00002bd4fb5d505b9161           0\n",
              "2       00007756b4a147d2b0b3           0\n",
              "3       000086e4b7e1c7146103           0\n",
              "4       0000c4c3fbe8785a3090           0\n",
              "...                      ...         ...\n",
              "375801  ffff7fa746bd6d6197a9           0\n",
              "375802  ffffa1be31c43046ab6b           0\n",
              "375803  ffffae173b6ca6bfa563           0\n",
              "375804  ffffb1f7f1a008620287           0\n",
              "375805  fffff85473f4699474b0           0\n",
              "\n",
              "[375806 rows x 2 columns]"
            ],
            "text/html": [
              "\n",
              "  <div id=\"df-4cc20410-524c-4dfe-9ba5-de52deebbf10\">\n",
              "    <div class=\"colab-df-container\">\n",
              "      <div>\n",
              "<style scoped>\n",
              "    .dataframe tbody tr th:only-of-type {\n",
              "        vertical-align: middle;\n",
              "    }\n",
              "\n",
              "    .dataframe tbody tr th {\n",
              "        vertical-align: top;\n",
              "    }\n",
              "\n",
              "    .dataframe thead th {\n",
              "        text-align: right;\n",
              "    }\n",
              "</style>\n",
              "<table border=\"1\" class=\"dataframe\">\n",
              "  <thead>\n",
              "    <tr style=\"text-align: right;\">\n",
              "      <th></th>\n",
              "      <th>qid</th>\n",
              "      <th>prediction</th>\n",
              "    </tr>\n",
              "  </thead>\n",
              "  <tbody>\n",
              "    <tr>\n",
              "      <th>0</th>\n",
              "      <td>0000163e3ea7c7a74cd7</td>\n",
              "      <td>0</td>\n",
              "    </tr>\n",
              "    <tr>\n",
              "      <th>1</th>\n",
              "      <td>00002bd4fb5d505b9161</td>\n",
              "      <td>0</td>\n",
              "    </tr>\n",
              "    <tr>\n",
              "      <th>2</th>\n",
              "      <td>00007756b4a147d2b0b3</td>\n",
              "      <td>0</td>\n",
              "    </tr>\n",
              "    <tr>\n",
              "      <th>3</th>\n",
              "      <td>000086e4b7e1c7146103</td>\n",
              "      <td>0</td>\n",
              "    </tr>\n",
              "    <tr>\n",
              "      <th>4</th>\n",
              "      <td>0000c4c3fbe8785a3090</td>\n",
              "      <td>0</td>\n",
              "    </tr>\n",
              "    <tr>\n",
              "      <th>...</th>\n",
              "      <td>...</td>\n",
              "      <td>...</td>\n",
              "    </tr>\n",
              "    <tr>\n",
              "      <th>375801</th>\n",
              "      <td>ffff7fa746bd6d6197a9</td>\n",
              "      <td>0</td>\n",
              "    </tr>\n",
              "    <tr>\n",
              "      <th>375802</th>\n",
              "      <td>ffffa1be31c43046ab6b</td>\n",
              "      <td>0</td>\n",
              "    </tr>\n",
              "    <tr>\n",
              "      <th>375803</th>\n",
              "      <td>ffffae173b6ca6bfa563</td>\n",
              "      <td>0</td>\n",
              "    </tr>\n",
              "    <tr>\n",
              "      <th>375804</th>\n",
              "      <td>ffffb1f7f1a008620287</td>\n",
              "      <td>0</td>\n",
              "    </tr>\n",
              "    <tr>\n",
              "      <th>375805</th>\n",
              "      <td>fffff85473f4699474b0</td>\n",
              "      <td>0</td>\n",
              "    </tr>\n",
              "  </tbody>\n",
              "</table>\n",
              "<p>375806 rows × 2 columns</p>\n",
              "</div>\n",
              "      <button class=\"colab-df-convert\" onclick=\"convertToInteractive('df-4cc20410-524c-4dfe-9ba5-de52deebbf10')\"\n",
              "              title=\"Convert this dataframe to an interactive table.\"\n",
              "              style=\"display:none;\">\n",
              "        \n",
              "  <svg xmlns=\"http://www.w3.org/2000/svg\" height=\"24px\"viewBox=\"0 0 24 24\"\n",
              "       width=\"24px\">\n",
              "    <path d=\"M0 0h24v24H0V0z\" fill=\"none\"/>\n",
              "    <path d=\"M18.56 5.44l.94 2.06.94-2.06 2.06-.94-2.06-.94-.94-2.06-.94 2.06-2.06.94zm-11 1L8.5 8.5l.94-2.06 2.06-.94-2.06-.94L8.5 2.5l-.94 2.06-2.06.94zm10 10l.94 2.06.94-2.06 2.06-.94-2.06-.94-.94-2.06-.94 2.06-2.06.94z\"/><path d=\"M17.41 7.96l-1.37-1.37c-.4-.4-.92-.59-1.43-.59-.52 0-1.04.2-1.43.59L10.3 9.45l-7.72 7.72c-.78.78-.78 2.05 0 2.83L4 21.41c.39.39.9.59 1.41.59.51 0 1.02-.2 1.41-.59l7.78-7.78 2.81-2.81c.8-.78.8-2.07 0-2.86zM5.41 20L4 18.59l7.72-7.72 1.47 1.35L5.41 20z\"/>\n",
              "  </svg>\n",
              "      </button>\n",
              "      \n",
              "  <style>\n",
              "    .colab-df-container {\n",
              "      display:flex;\n",
              "      flex-wrap:wrap;\n",
              "      gap: 12px;\n",
              "    }\n",
              "\n",
              "    .colab-df-convert {\n",
              "      background-color: #E8F0FE;\n",
              "      border: none;\n",
              "      border-radius: 50%;\n",
              "      cursor: pointer;\n",
              "      display: none;\n",
              "      fill: #1967D2;\n",
              "      height: 32px;\n",
              "      padding: 0 0 0 0;\n",
              "      width: 32px;\n",
              "    }\n",
              "\n",
              "    .colab-df-convert:hover {\n",
              "      background-color: #E2EBFA;\n",
              "      box-shadow: 0px 1px 2px rgba(60, 64, 67, 0.3), 0px 1px 3px 1px rgba(60, 64, 67, 0.15);\n",
              "      fill: #174EA6;\n",
              "    }\n",
              "\n",
              "    [theme=dark] .colab-df-convert {\n",
              "      background-color: #3B4455;\n",
              "      fill: #D2E3FC;\n",
              "    }\n",
              "\n",
              "    [theme=dark] .colab-df-convert:hover {\n",
              "      background-color: #434B5C;\n",
              "      box-shadow: 0px 1px 3px 1px rgba(0, 0, 0, 0.15);\n",
              "      filter: drop-shadow(0px 1px 2px rgba(0, 0, 0, 0.3));\n",
              "      fill: #FFFFFF;\n",
              "    }\n",
              "  </style>\n",
              "\n",
              "      <script>\n",
              "        const buttonEl =\n",
              "          document.querySelector('#df-4cc20410-524c-4dfe-9ba5-de52deebbf10 button.colab-df-convert');\n",
              "        buttonEl.style.display =\n",
              "          google.colab.kernel.accessAllowed ? 'block' : 'none';\n",
              "\n",
              "        async function convertToInteractive(key) {\n",
              "          const element = document.querySelector('#df-4cc20410-524c-4dfe-9ba5-de52deebbf10');\n",
              "          const dataTable =\n",
              "            await google.colab.kernel.invokeFunction('convertToInteractive',\n",
              "                                                     [key], {});\n",
              "          if (!dataTable) return;\n",
              "\n",
              "          const docLinkHtml = 'Like what you see? Visit the ' +\n",
              "            '<a target=\"_blank\" href=https://colab.research.google.com/notebooks/data_table.ipynb>data table notebook</a>'\n",
              "            + ' to learn more about interactive tables.';\n",
              "          element.innerHTML = '';\n",
              "          dataTable['output_type'] = 'display_data';\n",
              "          await google.colab.output.renderOutput(dataTable, element);\n",
              "          const docLink = document.createElement('div');\n",
              "          docLink.innerHTML = docLinkHtml;\n",
              "          element.appendChild(docLink);\n",
              "        }\n",
              "      </script>\n",
              "    </div>\n",
              "  </div>\n",
              "  "
            ]
          },
          "metadata": {},
          "execution_count": 126
        }
      ]
    },
    {
      "cell_type": "code",
      "source": [
        "sub_df.to_csv('submission.csv', index = None)"
      ],
      "metadata": {
        "id": "tJhteqj7JpLX"
      },
      "execution_count": null,
      "outputs": []
    },
    {
      "cell_type": "code",
      "source": [
        "!head submission.csv"
      ],
      "metadata": {
        "colab": {
          "base_uri": "https://localhost:8080/"
        },
        "id": "OMS96mTOJxpq",
        "outputId": "05139c0c-a03a-4dff-e072-d9313bfafffb"
      },
      "execution_count": null,
      "outputs": [
        {
          "output_type": "stream",
          "name": "stdout",
          "text": [
            "qid,prediction\n",
            "0000163e3ea7c7a74cd7,0\n",
            "00002bd4fb5d505b9161,0\n",
            "00007756b4a147d2b0b3,0\n",
            "000086e4b7e1c7146103,0\n",
            "0000c4c3fbe8785a3090,0\n",
            "000101884c19f3515c1a,0\n",
            "00010f62537781f44a47,0\n",
            "00012afbd27452239059,0\n",
            "00014894849d00ba98a9,0\n"
          ]
        }
      ]
    },
    {
      "cell_type": "code",
      "source": [],
      "metadata": {
        "id": "8t-IBc7AJ5hX"
      },
      "execution_count": null,
      "outputs": []
    }
  ]
}